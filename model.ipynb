{
  "nbformat": 4,
  "nbformat_minor": 0,
  "metadata": {
    "colab": {
      "provenance": [],
      "collapsed_sections": [],
      "authorship_tag": "ABX9TyMbN3dBXpIv4m/+kqUCFnes",
      "include_colab_link": true
    },
    "kernelspec": {
      "name": "python3",
      "display_name": "Python 3"
    },
    "language_info": {
      "name": "python"
    },
    "accelerator": "GPU"
  },
  "cells": [
    {
      "cell_type": "markdown",
      "metadata": {
        "id": "view-in-github",
        "colab_type": "text"
      },
      "source": [
        "<a href=\"https://colab.research.google.com/github/Sayed-Husain/medical-papers-skimmers/blob/main/model.ipynb\" target=\"_parent\"><img src=\"https://colab.research.google.com/assets/colab-badge.svg\" alt=\"Open In Colab\"/></a>"
      ]
    },
    {
      "cell_type": "markdown",
      "source": [
        "# Milestone Project 2: SkimLit\n",
        "\n",
        "In this notebook,  we're going to be replicating the deep learning model behind the 2017 paper [PubMed 200k RCT: a Dataset for Sequenctial Sentence Classification in Medical Abstracts](https://arxiv.org/abs/1710.06071).\n",
        "\n",
        "The purpose of this model is to classify abstract sentences into the role they play (e.g. objective, methods, results, etc) to enable researchers to skim through the literature and dive deeper when necessary."
      ],
      "metadata": {
        "id": "MqqmvSPJaET5"
      }
    },
    {
      "cell_type": "markdown",
      "source": [
        "## Check for a GPU"
      ],
      "metadata": {
        "id": "5JQz-2BRh5nZ"
      }
    },
    {
      "cell_type": "code",
      "source": [
        "!nvidia-smi -L"
      ],
      "metadata": {
        "colab": {
          "base_uri": "https://localhost:8080/"
        },
        "id": "Ks43OirgiY6E",
        "outputId": "4eff3d6f-6872-42e2-c508-378db15c3f0a"
      },
      "execution_count": 1,
      "outputs": [
        {
          "output_type": "stream",
          "name": "stdout",
          "text": [
            "GPU 0: Tesla T4 (UUID: GPU-43e56617-9bd0-9c58-f66e-2fb128951fbe)\n"
          ]
        }
      ]
    },
    {
      "cell_type": "markdown",
      "source": [
        "## Get data\n",
        "\n",
        "Since we are replicating a paper, we are going to download and use the same dataset they used avaliable on: https://github.com/Franck-Dernoncourt/pubmed-rct."
      ],
      "metadata": {
        "id": "hn6JN2W4ibHa"
      }
    },
    {
      "cell_type": "code",
      "source": [
        "!git clone https://github.com/Franck-Dernoncourt/pubmed-rct.git\n",
        "!ls pubmed-rct"
      ],
      "metadata": {
        "colab": {
          "base_uri": "https://localhost:8080/"
        },
        "id": "o42H9fU4in6m",
        "outputId": "6db886ea-6677-4ad8-c786-bbda862f02b6"
      },
      "execution_count": 2,
      "outputs": [
        {
          "output_type": "stream",
          "name": "stdout",
          "text": [
            "Cloning into 'pubmed-rct'...\n",
            "remote: Enumerating objects: 33, done.\u001b[K\n",
            "remote: Counting objects: 100% (8/8), done.\u001b[K\n",
            "remote: Compressing objects: 100% (3/3), done.\u001b[K\n",
            "remote: Total 33 (delta 5), reused 5 (delta 5), pack-reused 25\u001b[K\n",
            "Unpacking objects: 100% (33/33), done.\n",
            "Checking out files: 100% (13/13), done.\n",
            "PubMed_200k_RCT\n",
            "PubMed_200k_RCT_numbers_replaced_with_at_sign\n",
            "PubMed_20k_RCT\n",
            "PubMed_20k_RCT_numbers_replaced_with_at_sign\n",
            "README.md\n"
          ]
        }
      ]
    },
    {
      "cell_type": "code",
      "source": [
        "# Check what files are in the PubMed_20K dataset\n",
        "!ls pubmed-rct/PubMed_20k_RCT_numbers_replaced_with_at_sign/"
      ],
      "metadata": {
        "colab": {
          "base_uri": "https://localhost:8080/"
        },
        "id": "txp7atVOjetr",
        "outputId": "177e6a98-6936-47cb-8e81-f828165c5300"
      },
      "execution_count": 3,
      "outputs": [
        {
          "output_type": "stream",
          "name": "stdout",
          "text": [
            "dev.txt  test.txt  train.txt\n"
          ]
        }
      ]
    },
    {
      "cell_type": "code",
      "source": [
        "# Start our experimnet using the 20k dataset with numbers replaced by \"@\" sign\n",
        "data_dir = \"/content/pubmed-rct/PubMed_20k_RCT_numbers_replaced_with_at_sign/\""
      ],
      "metadata": {
        "id": "oayF7nyHjv-g"
      },
      "execution_count": 4,
      "outputs": []
    },
    {
      "cell_type": "code",
      "source": [
        "# Check all of the filenames in the target directory\n",
        "import os\n",
        "filenames = [data_dir + filename for filename in os.listdir(data_dir)]\n",
        "filenames"
      ],
      "metadata": {
        "colab": {
          "base_uri": "https://localhost:8080/"
        },
        "id": "-oD3pGmskdkf",
        "outputId": "b9a8effa-0f72-4f6a-c651-783b10da39f9"
      },
      "execution_count": 5,
      "outputs": [
        {
          "output_type": "execute_result",
          "data": {
            "text/plain": [
              "['/content/pubmed-rct/PubMed_20k_RCT_numbers_replaced_with_at_sign/train.txt',\n",
              " '/content/pubmed-rct/PubMed_20k_RCT_numbers_replaced_with_at_sign/test.txt',\n",
              " '/content/pubmed-rct/PubMed_20k_RCT_numbers_replaced_with_at_sign/dev.txt']"
            ]
          },
          "metadata": {},
          "execution_count": 5
        }
      ]
    },
    {
      "cell_type": "markdown",
      "source": [
        "## Preprocess data\n",
        "Now we have got some text data, it is time make a function to read in all of teh lines of a target text file"
      ],
      "metadata": {
        "id": "vCqMkNt4ksRk"
      }
    },
    {
      "cell_type": "code",
      "source": [
        "# Create a function to read lines of a document\n",
        "def get_lines(filename):\n",
        "  \"\"\"\n",
        "  Reads a filename and returns the lines of text as a list.\n",
        "  \n",
        "  Args:\n",
        "    filename (str): string of the target filepath\n",
        "  \n",
        "  Returns:\n",
        "    A list of strings with one string per line from target filename.\n",
        "  \"\"\"\n",
        "  with open(filename, \"r\") as f:\n",
        "    return f.readlines()"
      ],
      "metadata": {
        "id": "sMQNgy0Vle86"
      },
      "execution_count": 6,
      "outputs": []
    },
    {
      "cell_type": "code",
      "source": [
        "# let's read in the training lines \n",
        "train_lines = get_lines(data_dir + \"train.txt\")\n",
        "train_lines[:15]"
      ],
      "metadata": {
        "colab": {
          "base_uri": "https://localhost:8080/"
        },
        "id": "owuZAI-DmHza",
        "outputId": "306700fb-532b-46da-d245-0ddb4226a1c7"
      },
      "execution_count": 7,
      "outputs": [
        {
          "output_type": "execute_result",
          "data": {
            "text/plain": [
              "['###24293578\\n',\n",
              " 'OBJECTIVE\\tTo investigate the efficacy of @ weeks of daily low-dose oral prednisolone in improving pain , mobility , and systemic low-grade inflammation in the short term and whether the effect would be sustained at @ weeks in older adults with moderate to severe knee osteoarthritis ( OA ) .\\n',\n",
              " 'METHODS\\tA total of @ patients with primary knee OA were randomized @:@ ; @ received @ mg/day of prednisolone and @ received placebo for @ weeks .\\n',\n",
              " 'METHODS\\tOutcome measures included pain reduction and improvement in function scores and systemic inflammation markers .\\n',\n",
              " 'METHODS\\tPain was assessed using the visual analog pain scale ( @-@ mm ) .\\n',\n",
              " 'METHODS\\tSecondary outcome measures included the Western Ontario and McMaster Universities Osteoarthritis Index scores , patient global assessment ( PGA ) of the severity of knee OA , and @-min walk distance ( @MWD ) .\\n',\n",
              " 'METHODS\\tSerum levels of interleukin @ ( IL-@ ) , IL-@ , tumor necrosis factor ( TNF ) - , and high-sensitivity C-reactive protein ( hsCRP ) were measured .\\n',\n",
              " 'RESULTS\\tThere was a clinically relevant reduction in the intervention group compared to the placebo group for knee pain , physical function , PGA , and @MWD at @ weeks .\\n',\n",
              " 'RESULTS\\tThe mean difference between treatment arms ( @ % CI ) was @ ( @-@ @ ) , p < @ ; @ ( @-@ @ ) , p < @ ; @ ( @-@ @ ) , p < @ ; and @ ( @-@ @ ) , p < @ , respectively .\\n',\n",
              " 'RESULTS\\tFurther , there was a clinically relevant reduction in the serum levels of IL-@ , IL-@ , TNF - , and hsCRP at @ weeks in the intervention group when compared to the placebo group .\\n',\n",
              " 'RESULTS\\tThese differences remained significant at @ weeks .\\n',\n",
              " 'RESULTS\\tThe Outcome Measures in Rheumatology Clinical Trials-Osteoarthritis Research Society International responder rate was @ % in the intervention group and @ % in the placebo group ( p < @ ) .\\n',\n",
              " 'CONCLUSIONS\\tLow-dose oral prednisolone had both a short-term and a longer sustained effect resulting in less knee pain , better physical function , and attenuation of systemic inflammation in older patients with knee OA ( ClinicalTrials.gov identifier NCT@ ) .\\n',\n",
              " '\\n',\n",
              " '###24854809\\n']"
            ]
          },
          "metadata": {},
          "execution_count": 7
        }
      ]
    },
    {
      "cell_type": "code",
      "source": [
        "len(train_lines)"
      ],
      "metadata": {
        "colab": {
          "base_uri": "https://localhost:8080/"
        },
        "id": "NpgwX6gVmYZP",
        "outputId": "17ae7c5c-6829-417a-b246-85f677955331"
      },
      "execution_count": 8,
      "outputs": [
        {
          "output_type": "execute_result",
          "data": {
            "text/plain": [
              "210040"
            ]
          },
          "metadata": {},
          "execution_count": 8
        }
      ]
    },
    {
      "cell_type": "markdown",
      "source": [
        "Let's think about how the data would be best represnted.\n",
        "\n",
        "```\n",
        "[{'line_number':0,\n",
        "   'target': 'OBJECTIVE',\n",
        "   'text': \"To investigate the efficacy of @ weeks of daily low-dose oral ...\",\n",
        "   'total_lines':11},\n",
        "   ...]\n",
        "```"
      ],
      "metadata": {
        "id": "RyUBiVS3mf1l"
      }
    },
    {
      "cell_type": "code",
      "source": [
        "def pre_process_text_with_line_numbers(filename):\n",
        "  \"\"\"\n",
        "  Returns a list of dictionaries of abstract line data.\n",
        "\n",
        "  Takes in filename, reads its content and sort thorugh each line,\n",
        "  extracting things like target label, the text of the sentence, \n",
        "  how many sentences are in the current abstract \n",
        "  and what sentence number the target line is.\n",
        "  \"\"\"\n",
        "\n",
        "  input_lines = get_lines(filename) # get all lines from filename\n",
        "  abstract_lines = \"\" # Create an empty abstarct\n",
        "  abstract_samples = [] # Create an empty list of abstracts\n",
        "  \n",
        "  # Loop through each line in the target file\n",
        "  for line in input_lines:\n",
        "    if line.startswith(\"###\"): # check to see if the line in an ID line\n",
        "      abstract_id = line\n",
        "      abstract_lines = \"\" # reset the abstract string if teh line is an ID line\n",
        "    \n",
        "    elif line.isspace(): # Check to see if line is a new line\n",
        "      abstract_line_split = abstract_lines.splitlines() # split abstratcs into separate lines\n",
        "      # Iterate through each line in a single abstarct and count them at the same time\n",
        "      for abstarct_line_number, abstract_line in enumerate(abstract_line_split):\n",
        "        line_data = {} # create an empty dictonary for each line\n",
        "        target_text_split = abstract_line.split(\"\\t\") # split target label from text\n",
        "        line_data[\"line_number\"] = abstarct_line_number\n",
        "        line_data[\"target\"] = target_text_split[0] # get target label\n",
        "        line_data[\"text\"] = target_text_split[1].lower() # get text label and turn it into lower case\n",
        "        line_data[\"total_lines\"] = len(abstract_line_split) - 1 # total number of lines starting from 0\n",
        "    \n",
        "        abstract_samples.append(line_data)\n",
        "        \n",
        "\n",
        "    else: # if the above confitions are not fulfilled, the line contains a labelled sentence\n",
        "      abstract_lines += line\n",
        "\n",
        "  return abstract_samples\n"
      ],
      "metadata": {
        "id": "YJpo35ZyoT5x"
      },
      "execution_count": 9,
      "outputs": []
    },
    {
      "cell_type": "code",
      "source": [
        "# Get data from file and preprocess it\n",
        "%%time\n",
        "train_samples = pre_process_text_with_line_numbers(data_dir + \"train.txt\")\n",
        "val_samples = pre_process_text_with_line_numbers(data_dir + \"dev.txt\")\n",
        "test_samples = pre_process_text_with_line_numbers(data_dir + \"test.txt\")\n",
        "\n",
        "len(train_samples), len(val_samples), len(test_samples)"
      ],
      "metadata": {
        "colab": {
          "base_uri": "https://localhost:8080/"
        },
        "id": "8Myg5CZzsZfX",
        "outputId": "ef0e1aff-a348-4cd8-9db1-aae2cc9917bc"
      },
      "execution_count": 10,
      "outputs": [
        {
          "output_type": "stream",
          "name": "stdout",
          "text": [
            "CPU times: user 587 ms, sys: 119 ms, total: 706 ms\n",
            "Wall time: 1.02 s\n"
          ]
        },
        {
          "output_type": "execute_result",
          "data": {
            "text/plain": [
              "(180040, 30212, 30135)"
            ]
          },
          "metadata": {},
          "execution_count": 10
        }
      ]
    },
    {
      "cell_type": "code",
      "source": [
        "train_samples[0]"
      ],
      "metadata": {
        "colab": {
          "base_uri": "https://localhost:8080/"
        },
        "id": "3Rpy7cVds0j0",
        "outputId": "70aba16a-dd11-4942-c499-12663a9c2faf"
      },
      "execution_count": 11,
      "outputs": [
        {
          "output_type": "execute_result",
          "data": {
            "text/plain": [
              "{'line_number': 0,\n",
              " 'target': 'OBJECTIVE',\n",
              " 'text': 'to investigate the efficacy of @ weeks of daily low-dose oral prednisolone in improving pain , mobility , and systemic low-grade inflammation in the short term and whether the effect would be sustained at @ weeks in older adults with moderate to severe knee osteoarthritis ( oa ) .',\n",
              " 'total_lines': 11}"
            ]
          },
          "metadata": {},
          "execution_count": 11
        }
      ]
    },
    {
      "cell_type": "markdown",
      "source": [
        "Now that our data is in the format of a list of dictionaries, how about we turn it into a DataFrame to futher visualize it. "
      ],
      "metadata": {
        "id": "1YcT2RJkt1gQ"
      }
    },
    {
      "cell_type": "code",
      "source": [
        "import pandas as pd \n",
        "train_df = pd.DataFrame(train_samples)\n",
        "val_df = pd.DataFrame(val_samples)\n",
        "test_df = pd.DataFrame(test_samples)\n",
        "\n",
        "train_df.head(12)"
      ],
      "metadata": {
        "colab": {
          "base_uri": "https://localhost:8080/",
          "height": 426
        },
        "id": "bQsgqRa0xEch",
        "outputId": "f0e7c4d0-42a4-47bc-d68b-b138da0fe9a3"
      },
      "execution_count": 12,
      "outputs": [
        {
          "output_type": "execute_result",
          "data": {
            "text/plain": [
              "    line_number       target  \\\n",
              "0             0    OBJECTIVE   \n",
              "1             1      METHODS   \n",
              "2             2      METHODS   \n",
              "3             3      METHODS   \n",
              "4             4      METHODS   \n",
              "5             5      METHODS   \n",
              "6             6      RESULTS   \n",
              "7             7      RESULTS   \n",
              "8             8      RESULTS   \n",
              "9             9      RESULTS   \n",
              "10           10      RESULTS   \n",
              "11           11  CONCLUSIONS   \n",
              "\n",
              "                                                 text  total_lines  \n",
              "0   to investigate the efficacy of @ weeks of dail...           11  \n",
              "1   a total of @ patients with primary knee oa wer...           11  \n",
              "2   outcome measures included pain reduction and i...           11  \n",
              "3   pain was assessed using the visual analog pain...           11  \n",
              "4   secondary outcome measures included the wester...           11  \n",
              "5   serum levels of interleukin @ ( il-@ ) , il-@ ...           11  \n",
              "6   there was a clinically relevant reduction in t...           11  \n",
              "7   the mean difference between treatment arms ( @...           11  \n",
              "8   further , there was a clinically relevant redu...           11  \n",
              "9   these differences remained significant at @ we...           11  \n",
              "10  the outcome measures in rheumatology clinical ...           11  \n",
              "11  low-dose oral prednisolone had both a short-te...           11  "
            ],
            "text/html": [
              "\n",
              "  <div id=\"df-41e4f0f3-f189-4ede-a79e-bd65721e8a0a\">\n",
              "    <div class=\"colab-df-container\">\n",
              "      <div>\n",
              "<style scoped>\n",
              "    .dataframe tbody tr th:only-of-type {\n",
              "        vertical-align: middle;\n",
              "    }\n",
              "\n",
              "    .dataframe tbody tr th {\n",
              "        vertical-align: top;\n",
              "    }\n",
              "\n",
              "    .dataframe thead th {\n",
              "        text-align: right;\n",
              "    }\n",
              "</style>\n",
              "<table border=\"1\" class=\"dataframe\">\n",
              "  <thead>\n",
              "    <tr style=\"text-align: right;\">\n",
              "      <th></th>\n",
              "      <th>line_number</th>\n",
              "      <th>target</th>\n",
              "      <th>text</th>\n",
              "      <th>total_lines</th>\n",
              "    </tr>\n",
              "  </thead>\n",
              "  <tbody>\n",
              "    <tr>\n",
              "      <th>0</th>\n",
              "      <td>0</td>\n",
              "      <td>OBJECTIVE</td>\n",
              "      <td>to investigate the efficacy of @ weeks of dail...</td>\n",
              "      <td>11</td>\n",
              "    </tr>\n",
              "    <tr>\n",
              "      <th>1</th>\n",
              "      <td>1</td>\n",
              "      <td>METHODS</td>\n",
              "      <td>a total of @ patients with primary knee oa wer...</td>\n",
              "      <td>11</td>\n",
              "    </tr>\n",
              "    <tr>\n",
              "      <th>2</th>\n",
              "      <td>2</td>\n",
              "      <td>METHODS</td>\n",
              "      <td>outcome measures included pain reduction and i...</td>\n",
              "      <td>11</td>\n",
              "    </tr>\n",
              "    <tr>\n",
              "      <th>3</th>\n",
              "      <td>3</td>\n",
              "      <td>METHODS</td>\n",
              "      <td>pain was assessed using the visual analog pain...</td>\n",
              "      <td>11</td>\n",
              "    </tr>\n",
              "    <tr>\n",
              "      <th>4</th>\n",
              "      <td>4</td>\n",
              "      <td>METHODS</td>\n",
              "      <td>secondary outcome measures included the wester...</td>\n",
              "      <td>11</td>\n",
              "    </tr>\n",
              "    <tr>\n",
              "      <th>5</th>\n",
              "      <td>5</td>\n",
              "      <td>METHODS</td>\n",
              "      <td>serum levels of interleukin @ ( il-@ ) , il-@ ...</td>\n",
              "      <td>11</td>\n",
              "    </tr>\n",
              "    <tr>\n",
              "      <th>6</th>\n",
              "      <td>6</td>\n",
              "      <td>RESULTS</td>\n",
              "      <td>there was a clinically relevant reduction in t...</td>\n",
              "      <td>11</td>\n",
              "    </tr>\n",
              "    <tr>\n",
              "      <th>7</th>\n",
              "      <td>7</td>\n",
              "      <td>RESULTS</td>\n",
              "      <td>the mean difference between treatment arms ( @...</td>\n",
              "      <td>11</td>\n",
              "    </tr>\n",
              "    <tr>\n",
              "      <th>8</th>\n",
              "      <td>8</td>\n",
              "      <td>RESULTS</td>\n",
              "      <td>further , there was a clinically relevant redu...</td>\n",
              "      <td>11</td>\n",
              "    </tr>\n",
              "    <tr>\n",
              "      <th>9</th>\n",
              "      <td>9</td>\n",
              "      <td>RESULTS</td>\n",
              "      <td>these differences remained significant at @ we...</td>\n",
              "      <td>11</td>\n",
              "    </tr>\n",
              "    <tr>\n",
              "      <th>10</th>\n",
              "      <td>10</td>\n",
              "      <td>RESULTS</td>\n",
              "      <td>the outcome measures in rheumatology clinical ...</td>\n",
              "      <td>11</td>\n",
              "    </tr>\n",
              "    <tr>\n",
              "      <th>11</th>\n",
              "      <td>11</td>\n",
              "      <td>CONCLUSIONS</td>\n",
              "      <td>low-dose oral prednisolone had both a short-te...</td>\n",
              "      <td>11</td>\n",
              "    </tr>\n",
              "  </tbody>\n",
              "</table>\n",
              "</div>\n",
              "      <button class=\"colab-df-convert\" onclick=\"convertToInteractive('df-41e4f0f3-f189-4ede-a79e-bd65721e8a0a')\"\n",
              "              title=\"Convert this dataframe to an interactive table.\"\n",
              "              style=\"display:none;\">\n",
              "        \n",
              "  <svg xmlns=\"http://www.w3.org/2000/svg\" height=\"24px\"viewBox=\"0 0 24 24\"\n",
              "       width=\"24px\">\n",
              "    <path d=\"M0 0h24v24H0V0z\" fill=\"none\"/>\n",
              "    <path d=\"M18.56 5.44l.94 2.06.94-2.06 2.06-.94-2.06-.94-.94-2.06-.94 2.06-2.06.94zm-11 1L8.5 8.5l.94-2.06 2.06-.94-2.06-.94L8.5 2.5l-.94 2.06-2.06.94zm10 10l.94 2.06.94-2.06 2.06-.94-2.06-.94-.94-2.06-.94 2.06-2.06.94z\"/><path d=\"M17.41 7.96l-1.37-1.37c-.4-.4-.92-.59-1.43-.59-.52 0-1.04.2-1.43.59L10.3 9.45l-7.72 7.72c-.78.78-.78 2.05 0 2.83L4 21.41c.39.39.9.59 1.41.59.51 0 1.02-.2 1.41-.59l7.78-7.78 2.81-2.81c.8-.78.8-2.07 0-2.86zM5.41 20L4 18.59l7.72-7.72 1.47 1.35L5.41 20z\"/>\n",
              "  </svg>\n",
              "      </button>\n",
              "      \n",
              "  <style>\n",
              "    .colab-df-container {\n",
              "      display:flex;\n",
              "      flex-wrap:wrap;\n",
              "      gap: 12px;\n",
              "    }\n",
              "\n",
              "    .colab-df-convert {\n",
              "      background-color: #E8F0FE;\n",
              "      border: none;\n",
              "      border-radius: 50%;\n",
              "      cursor: pointer;\n",
              "      display: none;\n",
              "      fill: #1967D2;\n",
              "      height: 32px;\n",
              "      padding: 0 0 0 0;\n",
              "      width: 32px;\n",
              "    }\n",
              "\n",
              "    .colab-df-convert:hover {\n",
              "      background-color: #E2EBFA;\n",
              "      box-shadow: 0px 1px 2px rgba(60, 64, 67, 0.3), 0px 1px 3px 1px rgba(60, 64, 67, 0.15);\n",
              "      fill: #174EA6;\n",
              "    }\n",
              "\n",
              "    [theme=dark] .colab-df-convert {\n",
              "      background-color: #3B4455;\n",
              "      fill: #D2E3FC;\n",
              "    }\n",
              "\n",
              "    [theme=dark] .colab-df-convert:hover {\n",
              "      background-color: #434B5C;\n",
              "      box-shadow: 0px 1px 3px 1px rgba(0, 0, 0, 0.15);\n",
              "      filter: drop-shadow(0px 1px 2px rgba(0, 0, 0, 0.3));\n",
              "      fill: #FFFFFF;\n",
              "    }\n",
              "  </style>\n",
              "\n",
              "      <script>\n",
              "        const buttonEl =\n",
              "          document.querySelector('#df-41e4f0f3-f189-4ede-a79e-bd65721e8a0a button.colab-df-convert');\n",
              "        buttonEl.style.display =\n",
              "          google.colab.kernel.accessAllowed ? 'block' : 'none';\n",
              "\n",
              "        async function convertToInteractive(key) {\n",
              "          const element = document.querySelector('#df-41e4f0f3-f189-4ede-a79e-bd65721e8a0a');\n",
              "          const dataTable =\n",
              "            await google.colab.kernel.invokeFunction('convertToInteractive',\n",
              "                                                     [key], {});\n",
              "          if (!dataTable) return;\n",
              "\n",
              "          const docLinkHtml = 'Like what you see? Visit the ' +\n",
              "            '<a target=\"_blank\" href=https://colab.research.google.com/notebooks/data_table.ipynb>data table notebook</a>'\n",
              "            + ' to learn more about interactive tables.';\n",
              "          element.innerHTML = '';\n",
              "          dataTable['output_type'] = 'display_data';\n",
              "          await google.colab.output.renderOutput(dataTable, element);\n",
              "          const docLink = document.createElement('div');\n",
              "          docLink.innerHTML = docLinkHtml;\n",
              "          element.appendChild(docLink);\n",
              "        }\n",
              "      </script>\n",
              "    </div>\n",
              "  </div>\n",
              "  "
            ]
          },
          "metadata": {},
          "execution_count": 12
        }
      ]
    },
    {
      "cell_type": "code",
      "source": [
        "# Distribution of labels in training data\n",
        "train_df.target.value_counts()"
      ],
      "metadata": {
        "colab": {
          "base_uri": "https://localhost:8080/"
        },
        "id": "RT5-ouaTxVJ5",
        "outputId": "efeff56e-b014-4993-abb5-917caaf1e5fa"
      },
      "execution_count": 13,
      "outputs": [
        {
          "output_type": "execute_result",
          "data": {
            "text/plain": [
              "METHODS        59353\n",
              "RESULTS        57953\n",
              "CONCLUSIONS    27168\n",
              "BACKGROUND     21727\n",
              "OBJECTIVE      13839\n",
              "Name: target, dtype: int64"
            ]
          },
          "metadata": {},
          "execution_count": 13
        }
      ]
    },
    {
      "cell_type": "code",
      "source": [
        "# Let's check the length of different lines\n",
        "train_df.total_lines.plot.hist();"
      ],
      "metadata": {
        "colab": {
          "base_uri": "https://localhost:8080/",
          "height": 267
        },
        "id": "tMsU0230xlgC",
        "outputId": "29f52763-8f58-46fe-cd1d-b560411a6b2f"
      },
      "execution_count": 14,
      "outputs": [
        {
          "output_type": "display_data",
          "data": {
            "text/plain": [
              "<Figure size 432x288 with 1 Axes>"
            ],
            "image/png": "[encoded data removed]"
          },
          "metadata": {
            "needs_background": "light"
          }
        }
      ]
    },
    {
      "cell_type": "markdown",
      "source": [
        "### Get lists of sentences\n"
      ],
      "metadata": {
        "id": "tJwH8ALnxxOw"
      }
    },
    {
      "cell_type": "code",
      "source": [
        "# Convert abstract text lines into lists\n",
        "train_sentences = train_df[\"text\"].tolist()\n",
        "val_sentences = val_df[\"text\"].tolist()\n",
        "test_sentences = test_df[\"text\"].tolist()\n",
        "len(train_sentences), len(val_sentences), len(test_sentences)"
      ],
      "metadata": {
        "colab": {
          "base_uri": "https://localhost:8080/"
        },
        "id": "zspjbcfDx0zE",
        "outputId": "0a4ef2a0-b677-4453-bcb4-27a9e29c6af7"
      },
      "execution_count": 15,
      "outputs": [
        {
          "output_type": "execute_result",
          "data": {
            "text/plain": [
              "(180040, 30212, 30135)"
            ]
          },
          "metadata": {},
          "execution_count": 15
        }
      ]
    },
    {
      "cell_type": "markdown",
      "source": [
        "## Make numeric labels"
      ],
      "metadata": {
        "id": "ouM5_dWgyPqg"
      }
    },
    {
      "cell_type": "markdown",
      "source": [
        "### One hot encoding"
      ],
      "metadata": {
        "id": "cC9k1hNa099n"
      }
    },
    {
      "cell_type": "code",
      "source": [
        "# One hot encode labels\n",
        "from sklearn.preprocessing import OneHotEncoder\n",
        "one_hot_encoder = OneHotEncoder(sparse=False)\n",
        "train_labels_one_hot = one_hot_encoder.fit_transform(train_df[\"target\"].to_numpy().reshape(-1,1))\n",
        "val_labels_one_hot = one_hot_encoder.transform(val_df[\"target\"].to_numpy().reshape(-1,1))\n",
        "test_labels_one_hot = one_hot_encoder.transform(test_df[\"target\"].to_numpy().reshape(-1,1))"
      ],
      "metadata": {
        "id": "A8G5_h6Wzt7s"
      },
      "execution_count": 16,
      "outputs": []
    },
    {
      "cell_type": "markdown",
      "source": [
        "### Label encoding"
      ],
      "metadata": {
        "id": "_UyUjiWz089M"
      }
    },
    {
      "cell_type": "code",
      "source": [
        "from sklearn.preprocessing import LabelEncoder\n",
        "label_encoder = LabelEncoder()\n",
        "train_labels_encoded = label_encoder.fit_transform(train_df[\"target\"].to_numpy())\n",
        "val_labels_encoded = label_encoder.transform(val_df[\"target\"].to_numpy())\n",
        "test_labels_encoded = label_encoder.transform(test_df[\"target\"].to_numpy())\n",
        "\n",
        "# Check what training labels look like\n",
        "train_labels_encoded"
      ],
      "metadata": {
        "colab": {
          "base_uri": "https://localhost:8080/"
        },
        "id": "WR8_OhZB1B1W",
        "outputId": "97b1c853-c08f-4715-e8dd-ebfa4c831134"
      },
      "execution_count": 17,
      "outputs": [
        {
          "output_type": "execute_result",
          "data": {
            "text/plain": [
              "array([3, 2, 2, ..., 4, 1, 1])"
            ]
          },
          "metadata": {},
          "execution_count": 17
        }
      ]
    },
    {
      "cell_type": "code",
      "source": [
        "# Get class names and number of classes from LabelEncoder instance\n",
        "num_classes = len(label_encoder.classes_)\n",
        "class_names = label_encoder.classes_\n",
        "\n",
        "num_classes, class_names"
      ],
      "metadata": {
        "colab": {
          "base_uri": "https://localhost:8080/"
        },
        "id": "JnyDA8JP1owE",
        "outputId": "a0c40070-54ce-4597-f6de-01da8e6f0224"
      },
      "execution_count": 18,
      "outputs": [
        {
          "output_type": "execute_result",
          "data": {
            "text/plain": [
              "(5, array(['BACKGROUND', 'CONCLUSIONS', 'METHODS', 'OBJECTIVE', 'RESULTS'],\n",
              "       dtype=object))"
            ]
          },
          "metadata": {},
          "execution_count": 18
        }
      ]
    },
    {
      "cell_type": "markdown",
      "source": [
        "## Model Experiments...\n",
        "\n",
        "We are going to create different models and compare them to find which one works best.\n",
        "\n",
        "We are going to start with a baseline (TF-IDF Multinomial Naive Bayes Classifier)."
      ],
      "metadata": {
        "id": "lZ29RhA714CG"
      }
    },
    {
      "cell_type": "markdown",
      "source": [
        "### Create a function to evaluate models"
      ],
      "metadata": {
        "id": "qgzDttTP4D5H"
      }
    },
    {
      "cell_type": "code",
      "source": [
        "from sklearn.metrics import accuracy_score, precision_recall_fscore_support\n",
        "def calculate_results(y_true, y_pred):\n",
        "  \"\"\"\n",
        "  Calculates model accuracy, precision, recall and f1 score of a binary classification model.\n",
        "  Args:\n",
        "      y_true: true labels in the form of a 1D array\n",
        "      y_pred: predicted labels in the form of a 1D array\n",
        "  Returns a dictionary of accuracy, precision, recall, f1-score.\n",
        "  \"\"\"\n",
        "  # Calculate model accuracy\n",
        "  model_accuracy = accuracy_score(y_true, y_pred) * 100\n",
        "  # Calculate model precision, recall and f1 score using \"weighted average\n",
        "  model_precision, model_recall, model_f1, _ = precision_recall_fscore_support(y_true, y_pred, average=\"weighted\")\n",
        "  model_results = {\"accuracy\": model_accuracy,\n",
        "                  \"precision\": model_precision,\n",
        "                  \"recall\": model_recall,\n",
        "                  \"f1\": model_f1}\n",
        "  return model_results"
      ],
      "metadata": {
        "id": "vYNA9x484HbZ"
      },
      "execution_count": 19,
      "outputs": []
    },
    {
      "cell_type": "markdown",
      "source": [
        "### Model 0: Baseline"
      ],
      "metadata": {
        "id": "Dhzfb6xp2iw6"
      }
    },
    {
      "cell_type": "code",
      "source": [
        "# Create a baseline model\n",
        "from sklearn.feature_extraction.text import TfidfVectorizer\n",
        "from sklearn.naive_bayes import MultinomialNB\n",
        "from sklearn.pipeline import Pipeline\n",
        "\n",
        "# Create a pipeline\n",
        "model_0 = Pipeline([\n",
        "    (\"tf-idf\", TfidfVectorizer()),\n",
        "    (\"clf\", MultinomialNB())\n",
        "])\n",
        "\n",
        "# Fit the pipeline to the training data \n",
        "model_0.fit(train_sentences,\n",
        "            train_labels_encoded)"
      ],
      "metadata": {
        "colab": {
          "base_uri": "https://localhost:8080/"
        },
        "id": "V0sS-FhH2l5_",
        "outputId": "f18cf8d9-2764-4bfc-c321-4017d27d84fe"
      },
      "execution_count": 20,
      "outputs": [
        {
          "output_type": "execute_result",
          "data": {
            "text/plain": [
              "Pipeline(steps=[('tf-idf', TfidfVectorizer()), ('clf', MultinomialNB())])"
            ]
          },
          "metadata": {},
          "execution_count": 20
        }
      ]
    },
    {
      "cell_type": "code",
      "source": [
        "# Evaluate baseline model on validation dataset\n",
        "model_0.score(val_sentences, val_labels_encoded)"
      ],
      "metadata": {
        "colab": {
          "base_uri": "https://localhost:8080/"
        },
        "id": "eSUS7o8g3UNE",
        "outputId": "91363e24-a810-48d3-e62e-2c19b9cbc0e0"
      },
      "execution_count": 21,
      "outputs": [
        {
          "output_type": "execute_result",
          "data": {
            "text/plain": [
              "0.7218323844829869"
            ]
          },
          "metadata": {},
          "execution_count": 21
        }
      ]
    },
    {
      "cell_type": "code",
      "source": [
        "# Make predictions using our baseline model\n",
        "model_0_preds = model_0.predict(val_sentences)\n",
        "\n",
        "# Evalaute the model\n",
        "model_0_results = calculate_results(val_labels_encoded,\n",
        "                                    model_0_preds)\n",
        "model_0_results"
      ],
      "metadata": {
        "colab": {
          "base_uri": "https://localhost:8080/"
        },
        "id": "ocuSNUHn3dkL",
        "outputId": "51f54f64-dd32-4b0a-c5d3-4aab794c4f76"
      },
      "execution_count": 22,
      "outputs": [
        {
          "output_type": "execute_result",
          "data": {
            "text/plain": [
              "{'accuracy': 72.1832384482987,\n",
              " 'precision': 0.7186466952323352,\n",
              " 'recall': 0.7218323844829869,\n",
              " 'f1': 0.6989250353450294}"
            ]
          },
          "metadata": {},
          "execution_count": 22
        }
      ]
    },
    {
      "cell_type": "markdown",
      "source": [
        "### Prepare data for deep learning models\n",
        "\n",
        "Before we start building deep learning models, we have to create a vectorization and an embedding layers."
      ],
      "metadata": {
        "id": "K9jJNJ7745kU"
      }
    },
    {
      "cell_type": "code",
      "source": [
        "# Import libraries\n",
        "import numpy as np\n",
        "import tensorflow as tf\n",
        "from tensorflow.keras import layers"
      ],
      "metadata": {
        "id": "UsF0EUL_5Ika"
      },
      "execution_count": 23,
      "outputs": []
    },
    {
      "cell_type": "code",
      "source": [
        "# Get average sentence length\n",
        "sent_lens = [len(sentence.split()) for sentence in train_sentences]\n",
        "avg_sent_len = np.mean(sent_lens)\n",
        "avg_sent_len"
      ],
      "metadata": {
        "colab": {
          "base_uri": "https://localhost:8080/"
        },
        "id": "pH0il-l25Wby",
        "outputId": "2c4f9780-bca7-4d4b-9a78-9656e22c1629"
      },
      "execution_count": 24,
      "outputs": [
        {
          "output_type": "execute_result",
          "data": {
            "text/plain": [
              "26.338269273494777"
            ]
          },
          "metadata": {},
          "execution_count": 24
        }
      ]
    },
    {
      "cell_type": "code",
      "source": [
        "# Get the disributrion\n",
        "import matplotlib.pyplot as plt\n",
        "plt.hist(sent_lens, bins=20)\n",
        "plt.xlim((np.min(sent_lens),np.max(sent_lens)))"
      ],
      "metadata": {
        "colab": {
          "base_uri": "https://localhost:8080/",
          "height": 282
        },
        "id": "H_yFKwtv52sS",
        "outputId": "e048c936-ca78-4b9a-e276-132a39c6dd27"
      },
      "execution_count": 25,
      "outputs": [
        {
          "output_type": "execute_result",
          "data": {
            "text/plain": [
              "(1.0, 296.0)"
            ]
          },
          "metadata": {},
          "execution_count": 25
        },
        {
          "output_type": "display_data",
          "data": {
            "text/plain": [
              "<Figure size 432x288 with 1 Axes>"
            ],
            "image/png": "[encoded data removed]"
          },
          "metadata": {
            "needs_background": "light"
          }
        }
      ]
    },
    {
      "cell_type": "code",
      "source": [
        "# Get the sentence length that covers 95% of the sentences\n",
        "output_seq_len = int(np.percentile(sent_lens,95))\n",
        "output_seq_len"
      ],
      "metadata": {
        "colab": {
          "base_uri": "https://localhost:8080/"
        },
        "id": "RTXO8n9M6XWS",
        "outputId": "97ed0347-8ada-42f6-f46a-458d29f2a1c3"
      },
      "execution_count": 26,
      "outputs": [
        {
          "output_type": "execute_result",
          "data": {
            "text/plain": [
              "55"
            ]
          },
          "metadata": {},
          "execution_count": 26
        }
      ]
    },
    {
      "cell_type": "markdown",
      "source": [
        "#### Create a text vectorization layer\n",
        "A layer to map texts from words to numbers."
      ],
      "metadata": {
        "id": "mGxq_XeeJOMn"
      }
    },
    {
      "cell_type": "code",
      "source": [
        "# set max_tokens size (how many unique words in our vocabulary list)\n",
        "MAX_TOKENS = 68000"
      ],
      "metadata": {
        "id": "W3wHzotiJnK8"
      },
      "execution_count": 27,
      "outputs": []
    },
    {
      "cell_type": "code",
      "source": [
        "# Create text vectorizer\n",
        "from tensorflow.keras.layers import TextVectorization\n",
        "\n",
        "text_vectorizer = TextVectorization(max_tokens=MAX_TOKENS, # Number of words in vocabulary\n",
        "                                     output_sequence_length=output_seq_len) # Desired output length of vectorized swquences"
      ],
      "metadata": {
        "id": "so8P4YzRJ4Tc"
      },
      "execution_count": 28,
      "outputs": []
    },
    {
      "cell_type": "code",
      "source": [
        "# Adapt text vectorizer to training sentences\n",
        "text_vectorizer.adapt(train_sentences)"
      ],
      "metadata": {
        "id": "P5oQ-6qXKorK"
      },
      "execution_count": 29,
      "outputs": []
    },
    {
      "cell_type": "code",
      "source": [
        "# Test out text vectorizer on random sentences\n",
        "import random\n",
        "target_sentence = random.choice(train_sentences)\n",
        "print(f\"Text:\\n{target_sentence}\\n\")\n",
        "print(f\"Length of text: {len(target_sentence)}\\n\")\n",
        "print(f\"Vectorized text: {text_vectorizer([target_sentence])}\")"
      ],
      "metadata": {
        "colab": {
          "base_uri": "https://localhost:8080/"
        },
        "id": "qu1_xct6Kysz",
        "outputId": "8f28fa98-17d7-4fff-b48b-5e1c2e4ce201"
      },
      "execution_count": 30,
      "outputs": [
        {
          "output_type": "stream",
          "name": "stdout",
          "text": [
            "Text:\n",
            "this prospective randomised study was conducted in @ patients who underwent implantation of different targets of monofocal intraocular lens for each eye at konkuk university medical center between november @ and august @ .\n",
            "\n",
            "Length of text: 222\n",
            "\n",
            "Vectorized text: [[   23   241   210    17    10   198     5    12    67   352  1087     4\n",
            "    197  2357     4 10671  1944  1613    11   122   672    15 54116   735\n",
            "    274   768    30  2223     3  2030     0     0     0     0     0     0\n",
            "      0     0     0     0     0     0     0     0     0     0     0     0\n",
            "      0     0     0     0     0     0     0]]\n"
          ]
        }
      ]
    },
    {
      "cell_type": "code",
      "source": [
        "# How many words we have in our training vocabulary\n",
        "rct_20k_text_vocab = text_vectorizer.get_vocabulary()\n",
        "print(f\"Number of words in vocab: {len(rct_20k_text_vocab)}\")\n",
        "print(f\"Most common words in the vocab: {rct_20k_text_vocab[:5]}\")\n",
        "print(f\"Least common words in the vocab: {rct_20k_text_vocab[-5:]}\")"
      ],
      "metadata": {
        "colab": {
          "base_uri": "https://localhost:8080/"
        },
        "id": "1isnRmV-Lk9m",
        "outputId": "7afe154e-9cc6-4b5e-d24b-5fe63705e102"
      },
      "execution_count": 31,
      "outputs": [
        {
          "output_type": "stream",
          "name": "stdout",
          "text": [
            "Number of words in vocab: 64841\n",
            "Most common words in the vocab: ['', '[UNK]', 'the', 'and', 'of']\n",
            "Least common words in the vocab: ['aainduced', 'aaigroup', 'aachener', 'aachen', 'aaacp']\n"
          ]
        }
      ]
    },
    {
      "cell_type": "code",
      "source": [
        "# Get teh config of our text vectorizer\n",
        "text_vectorizer.get_config()"
      ],
      "metadata": {
        "colab": {
          "base_uri": "https://localhost:8080/"
        },
        "id": "qlVh1f9EMRMJ",
        "outputId": "57f415d5-0f1d-432e-e146-e3b2164afdcf"
      },
      "execution_count": 32,
      "outputs": [
        {
          "output_type": "execute_result",
          "data": {
            "text/plain": [
              "{'name': 'text_vectorization',\n",
              " 'trainable': True,\n",
              " 'batch_input_shape': (None,),\n",
              " 'dtype': 'string',\n",
              " 'max_tokens': 68000,\n",
              " 'standardize': 'lower_and_strip_punctuation',\n",
              " 'split': 'whitespace',\n",
              " 'ngrams': None,\n",
              " 'output_mode': 'int',\n",
              " 'output_sequence_length': 55,\n",
              " 'pad_to_max_tokens': False,\n",
              " 'sparse': False,\n",
              " 'ragged': False,\n",
              " 'vocabulary': None,\n",
              " 'idf_weights': None}"
            ]
          },
          "metadata": {},
          "execution_count": 32
        }
      ]
    },
    {
      "cell_type": "markdown",
      "source": [
        "#### Create custom text embedding"
      ],
      "metadata": {
        "id": "x6Zh2k2pMiVI"
      }
    },
    {
      "cell_type": "code",
      "source": [
        "# Create token embedding layer\n",
        "token_embed = layers.Embedding(input_dim=len(rct_20k_text_vocab), # length of the vocabulary\n",
        "                               output_dim=128,\n",
        "                               mask_zero=True, # use masking to handle variables sequence lengths\n",
        "                               name=\"token_embedding\")"
      ],
      "metadata": {
        "id": "fWUXN11XMtvU"
      },
      "execution_count": 33,
      "outputs": []
    },
    {
      "cell_type": "code",
      "source": [
        "# Show example embedding\n",
        "print(f\"Sentence before vectorization:\\n {target_sentence}\\n\")\n",
        "vectorized_sentence = text_vectorizer([target_sentence])\n",
        "print(f\"Sentence after vectorization (before embedding):\\n {vectorized_sentence}\\n\")\n",
        "embedded_sentence = token_embed(vectorized_sentence)\n",
        "print(f\"Sentence after embedding:\\n {embedded_sentence}\\n\")\n",
        "print(f\"Sentence after embedding shape: {embedded_sentence.shape}\\n\")\n",
        "\n"
      ],
      "metadata": {
        "colab": {
          "base_uri": "https://localhost:8080/"
        },
        "id": "2z1vQYXgNdhr",
        "outputId": "892d1e5e-96d9-4b5a-9b31-17ac509ce0cb"
      },
      "execution_count": 34,
      "outputs": [
        {
          "output_type": "stream",
          "name": "stdout",
          "text": [
            "Sentence before vectorization:\n",
            " this prospective randomised study was conducted in @ patients who underwent implantation of different targets of monofocal intraocular lens for each eye at konkuk university medical center between november @ and august @ .\n",
            "\n",
            "Sentence after vectorization (before embedding):\n",
            " [[   23   241   210    17    10   198     5    12    67   352  1087     4\n",
            "    197  2357     4 10671  1944  1613    11   122   672    15 54116   735\n",
            "    274   768    30  2223     3  2030     0     0     0     0     0     0\n",
            "      0     0     0     0     0     0     0     0     0     0     0     0\n",
            "      0     0     0     0     0     0     0]]\n",
            "\n",
            "Sentence after embedding:\n",
            " [[[-0.03237858  0.02107934 -0.03208493 ... -0.01779637  0.03925118\n",
            "    0.01363827]\n",
            "  [ 0.03100029  0.00129715 -0.01659269 ...  0.02358213  0.00180501\n",
            "   -0.02959865]\n",
            "  [-0.01798359  0.02388157 -0.03089592 ...  0.03610057 -0.02468034\n",
            "   -0.03478373]\n",
            "  ...\n",
            "  [ 0.01467422  0.009771   -0.03475117 ... -0.01352165  0.00473189\n",
            "   -0.03362962]\n",
            "  [ 0.01467422  0.009771   -0.03475117 ... -0.01352165  0.00473189\n",
            "   -0.03362962]\n",
            "  [ 0.01467422  0.009771   -0.03475117 ... -0.01352165  0.00473189\n",
            "   -0.03362962]]]\n",
            "\n",
            "Sentence after embedding shape: (1, 55, 128)\n",
            "\n"
          ]
        }
      ]
    },
    {
      "cell_type": "markdown",
      "source": [
        "### Creating datasets \n",
        "make sure that data loads as fast as possible using TensorFlow tf.data API."
      ],
      "metadata": {
        "id": "BeH72vkaOjD0"
      }
    },
    {
      "cell_type": "code",
      "source": [
        "# Turn our data into TensorFlow Dataset\n",
        "train_dataset = tf.data.Dataset.from_tensor_slices((train_sentences, train_labels_one_hot))\n",
        "validation_dataset = tf.data.Dataset.from_tensor_slices((val_sentences, val_labels_one_hot))\n",
        "test_dataset = tf.data.Dataset.from_tensor_slices((test_sentences, test_labels_one_hot))\n",
        "\n",
        "train_dataset"
      ],
      "metadata": {
        "colab": {
          "base_uri": "https://localhost:8080/"
        },
        "id": "dFHTgTT8O0Nh",
        "outputId": "f3ab4c79-ee17-4af4-deca-e2b287e20f4f"
      },
      "execution_count": 35,
      "outputs": [
        {
          "output_type": "execute_result",
          "data": {
            "text/plain": [
              "<TensorSliceDataset element_spec=(TensorSpec(shape=(), dtype=tf.string, name=None), TensorSpec(shape=(5,), dtype=tf.float64, name=None))>"
            ]
          },
          "metadata": {},
          "execution_count": 35
        }
      ]
    },
    {
      "cell_type": "code",
      "source": [
        "train_dataset = train_dataset.batch(32).prefetch(tf.data.AUTOTUNE)\n",
        "validation_dataset = validation_dataset.batch(32).prefetch(tf.data.AUTOTUNE)\n",
        "test_dataset = test_dataset.batch(32).prefetch(tf.data.AUTOTUNE)\n",
        "\n",
        "train_dataset"
      ],
      "metadata": {
        "colab": {
          "base_uri": "https://localhost:8080/"
        },
        "id": "F3JaXAZePYcl",
        "outputId": "b153661b-33a1-45ea-b098-e11b9adc9414"
      },
      "execution_count": 36,
      "outputs": [
        {
          "output_type": "execute_result",
          "data": {
            "text/plain": [
              "<PrefetchDataset element_spec=(TensorSpec(shape=(None,), dtype=tf.string, name=None), TensorSpec(shape=(None, 5), dtype=tf.float64, name=None))>"
            ]
          },
          "metadata": {},
          "execution_count": 36
        }
      ]
    },
    {
      "cell_type": "markdown",
      "source": [
        "### Model 1: Conv1D with token embedding"
      ],
      "metadata": {
        "id": "RffDrR014iXN"
      }
    },
    {
      "cell_type": "code",
      "source": [
        "# Create 1D conv model to proecss sequences\n",
        "inputs = layers.Input(shape=(1,), dtype=tf.string)\n",
        "text_vectors = text_vectorizer(inputs) # vectorize the inputs\n",
        "token_embedding = token_embed(text_vectors) # Create embeddings\n",
        "x = layers.Conv1D(64, kernel_size=5, padding=\"same\", activation=\"relu\")(token_embedding)\n",
        "x = layers.GlobalAveragePooling1D()(x)\n",
        "outputs = layers.Dense(num_classes, activation=\"sigmoid\")(x)\n",
        "\n",
        "model_1 = tf.keras.Model(inputs, outputs, name=\"Model_1_Conv1D\")\n",
        "\n",
        "model_1.compile(loss=\"categorical_crossentropy\",\n",
        "                optimizer=\"Adam\",\n",
        "                metrics=[\"accuracy\"])\n",
        "\n",
        "model_1.summary()"
      ],
      "metadata": {
        "colab": {
          "base_uri": "https://localhost:8080/"
        },
        "id": "UykR7y7HQDfG",
        "outputId": "1a2aca84-bb0b-4102-844e-684e656bf343"
      },
      "execution_count": 37,
      "outputs": [
        {
          "output_type": "stream",
          "name": "stdout",
          "text": [
            "Model: \"Model_1_Conv1D\"\n",
            "_________________________________________________________________\n",
            " Layer (type)                Output Shape              Param #   \n",
            "=================================================================\n",
            " input_1 (InputLayer)        [(None, 1)]               0         \n",
            "                                                                 \n",
            " text_vectorization (TextVec  (None, 55)               0         \n",
            " torization)                                                     \n",
            "                                                                 \n",
            " token_embedding (Embedding)  (None, 55, 128)          8299648   \n",
            "                                                                 \n",
            " conv1d (Conv1D)             (None, 55, 64)            41024     \n",
            "                                                                 \n",
            " global_average_pooling1d (G  (None, 64)               0         \n",
            " lobalAveragePooling1D)                                          \n",
            "                                                                 \n",
            " dense (Dense)               (None, 5)                 325       \n",
            "                                                                 \n",
            "=================================================================\n",
            "Total params: 8,340,997\n",
            "Trainable params: 8,340,997\n",
            "Non-trainable params: 0\n",
            "_________________________________________________________________\n"
          ]
        }
      ]
    },
    {
      "cell_type": "code",
      "source": [
        "# Fit the model\n",
        "history_model_1 = model_1.fit(train_dataset,\n",
        "                              epochs=3,\n",
        "                              steps_per_epoch=int(0.1 * len(train_dataset)),\n",
        "                              validation_data=validation_dataset,\n",
        "                              validation_steps=int(0.1 * len(train_dataset)))"
      ],
      "metadata": {
        "colab": {
          "base_uri": "https://localhost:8080/"
        },
        "id": "kNtpFFLnRHFo",
        "outputId": "e74951cb-cd08-4432-8964-2f98a7787106"
      },
      "execution_count": 38,
      "outputs": [
        {
          "output_type": "stream",
          "name": "stdout",
          "text": [
            "Epoch 1/3\n",
            "562/562 [==============================] - 17s 13ms/step - loss: 0.9092 - accuracy: 0.6418 - val_loss: 0.6748 - val_accuracy: 0.7470\n",
            "Epoch 2/3\n",
            "562/562 [==============================] - 8s 15ms/step - loss: 0.6515 - accuracy: 0.7603 - val_loss: 0.6318 - val_accuracy: 0.7764\n",
            "Epoch 3/3\n",
            "562/562 [==============================] - 6s 11ms/step - loss: 0.6124 - accuracy: 0.7784 - val_loss: 0.5886 - val_accuracy: 0.7911\n"
          ]
        }
      ]
    },
    {
      "cell_type": "code",
      "source": [
        "# Evalaute on the whole validation dataset \n",
        "model_1.evaluate(validation_dataset)"
      ],
      "metadata": {
        "colab": {
          "base_uri": "https://localhost:8080/"
        },
        "id": "EF7Cs9y-SOpW",
        "outputId": "34fbb225-08fa-4f48-c679-2f8a43ffc06b"
      },
      "execution_count": 39,
      "outputs": [
        {
          "output_type": "stream",
          "name": "stdout",
          "text": [
            "945/945 [==============================] - 4s 5ms/step - loss: 0.5945 - accuracy: 0.7870\n"
          ]
        },
        {
          "output_type": "execute_result",
          "data": {
            "text/plain": [
              "[0.5944989323616028, 0.7870051860809326]"
            ]
          },
          "metadata": {},
          "execution_count": 39
        }
      ]
    },
    {
      "cell_type": "code",
      "source": [
        "# Make predictions \n",
        "model_1_pred_probs = model_1.predict(validation_dataset)\n",
        "model_1_pred_probs, model_1_pred_probs.shape"
      ],
      "metadata": {
        "colab": {
          "base_uri": "https://localhost:8080/"
        },
        "id": "90qHlqO7SqaR",
        "outputId": "480de7b4-186e-4d4c-cfed-993a296d47ad"
      },
      "execution_count": 40,
      "outputs": [
        {
          "output_type": "stream",
          "name": "stdout",
          "text": [
            "945/945 [==============================] - 3s 3ms/step\n"
          ]
        },
        {
          "output_type": "execute_result",
          "data": {
            "text/plain": [
              "(array([[6.4268994e-01, 3.9369428e-01, 1.6693328e-01, 5.3122586e-01,\n",
              "         9.0810731e-02],\n",
              "        [7.1377701e-01, 6.6627705e-01, 8.0369532e-02, 5.8882207e-01,\n",
              "         6.9677711e-02],\n",
              "        [7.4438804e-01, 9.0140224e-02, 3.7387986e-02, 9.4325656e-01,\n",
              "         8.1096363e-04],\n",
              "        ...,\n",
              "        [8.3891796e-03, 3.0420384e-01, 4.3198800e-01, 4.5116451e-03,\n",
              "         9.9881291e-01],\n",
              "        [1.5415074e-01, 5.7012600e-01, 2.5996298e-01, 1.7017950e-01,\n",
              "         5.4373288e-01],\n",
              "        [5.3222293e-01, 8.5929650e-01, 2.4106221e-01, 2.4813345e-01,\n",
              "         2.7053392e-01]], dtype=float32), (30212, 5))"
            ]
          },
          "metadata": {},
          "execution_count": 40
        }
      ]
    },
    {
      "cell_type": "code",
      "source": [
        "# Convert pred probs to classes \n",
        "model_1_preds = tf.argmax(model_1_pred_probs, axis=1)\n",
        "model_1_preds"
      ],
      "metadata": {
        "colab": {
          "base_uri": "https://localhost:8080/"
        },
        "id": "lumilIkKS8zl",
        "outputId": "946712c5-6d15-4442-a4b0-fa81e3ca997f"
      },
      "execution_count": 41,
      "outputs": [
        {
          "output_type": "execute_result",
          "data": {
            "text/plain": [
              "<tf.Tensor: shape=(30212,), dtype=int64, numpy=array([0, 0, 3, ..., 4, 1, 1])>"
            ]
          },
          "metadata": {},
          "execution_count": 41
        }
      ]
    },
    {
      "cell_type": "code",
      "source": [
        "# Caculate results\n",
        "model_1_results = calculate_results(val_labels_encoded,\n",
        "                                   model_1_preds)\n",
        "model_1_results"
      ],
      "metadata": {
        "colab": {
          "base_uri": "https://localhost:8080/"
        },
        "id": "hlVO-VhZTOKm",
        "outputId": "03b3eeb5-4002-49e7-e11a-68cea1c4e262"
      },
      "execution_count": 42,
      "outputs": [
        {
          "output_type": "execute_result",
          "data": {
            "text/plain": [
              "{'accuracy': 78.70051635111876,\n",
              " 'precision': 0.7841282368438953,\n",
              " 'recall': 0.7870051635111877,\n",
              " 'f1': 0.7846855221156539}"
            ]
          },
          "metadata": {},
          "execution_count": 42
        }
      ]
    },
    {
      "cell_type": "markdown",
      "source": [
        "### Model 2: Feature extraction with pretrained token embeddings\n",
        "\n",
        "For this porblem we will use the Universal Sentence Encoder USE: https://tfhub.dev/google/universal-sentence-encoder/4"
      ],
      "metadata": {
        "id": "hScw2sv6TesE"
      }
    },
    {
      "cell_type": "code",
      "source": [
        "# Download pretrained TensorFlow HUB USE \n",
        "import tensorflow_hub as hub\n",
        "tf_hub_embedding_layer = hub.KerasLayer(\"https://tfhub.dev/google/universal-sentence-encoder/4\",\n",
        "                                        trainable=False,\n",
        "                                        name=\"universal_sentence_encoder\")"
      ],
      "metadata": {
        "id": "TJHuEZSDT6TL"
      },
      "execution_count": 43,
      "outputs": []
    },
    {
      "cell_type": "code",
      "source": [
        "# Test out pretrained embedding on a random sentence\n",
        "target_sentence = random.choice(train_sentences)\n",
        "print(f\"Random Sentence:\\n {target_sentence}\\n\")\n",
        "use_embedded_sentence = tf_hub_embedding_layer([target_sentence])\n",
        "print(f\"Sentence after embedding:\\n{use_embedded_sentence[0][:30]}\\n\")\n",
        "print(f\"Length of sentence embedding:\\n{len(use_embedded_sentence[0])}\\n\")"
      ],
      "metadata": {
        "colab": {
          "base_uri": "https://localhost:8080/"
        },
        "id": "Ru8ThaLxV-qq",
        "outputId": "ac542745-23da-48b1-e4a6-fb3c8e7c6568"
      },
      "execution_count": 44,
      "outputs": [
        {
          "output_type": "stream",
          "name": "stdout",
          "text": [
            "Random Sentence:\n",
            " to explore the better therapy in the treatment of ganglion .\n",
            "\n",
            "Sentence after embedding:\n",
            "[ 0.04847997  0.01188158  0.04172084 -0.05228816 -0.06558721 -0.08244911\n",
            " -0.00650651 -0.04931514  0.03789597 -0.00016965  0.09699742  0.00023101\n",
            "  0.01897785 -0.04637821  0.01274388 -0.02859685 -0.09559465 -0.01594878\n",
            "  0.03661008 -0.01419919 -0.04254562 -0.02932024 -0.00439213 -0.05988047\n",
            " -0.01795587  0.05335183 -0.02836026  0.00667106  0.02429613  0.01179901]\n",
            "\n",
            "Length of sentence embedding:\n",
            "512\n",
            "\n"
          ]
        }
      ]
    },
    {
      "cell_type": "code",
      "source": [
        "# Build modle_2 \n",
        "inputs = layers.Input(shape=[], dtype=tf.string)\n",
        "pretrained_embeddings = tf_hub_embedding_layer(inputs)\n",
        "x = layers.Dense(128, activation=\"relu\")(pretrained_embeddings)\n",
        "outputs = layers.Dense(num_classes, activation=\"softmax\")(x)\n",
        "\n",
        "model_2 = tf.keras.Model(inputs, outputs, name=\"model_2_USE_feature_extraction\")\n",
        "\n",
        "# Compile model\n",
        "model_2.compile(loss=\"categorical_crossentropy\",\n",
        "                optimizer=\"Adam\",\n",
        "                metrics=[\"accuracy\"])\n",
        "\n",
        "model_2.summary()"
      ],
      "metadata": {
        "colab": {
          "base_uri": "https://localhost:8080/"
        },
        "id": "bshdqyGxXIER",
        "outputId": "96757b1d-a3d9-40d1-e6ae-c4187e6a889c"
      },
      "execution_count": 45,
      "outputs": [
        {
          "output_type": "stream",
          "name": "stdout",
          "text": [
            "Model: \"model_2_USE_feature_extraction\"\n",
            "_________________________________________________________________\n",
            " Layer (type)                Output Shape              Param #   \n",
            "=================================================================\n",
            " input_2 (InputLayer)        [(None,)]                 0         \n",
            "                                                                 \n",
            " universal_sentence_encoder   (None, 512)              256797824 \n",
            " (KerasLayer)                                                    \n",
            "                                                                 \n",
            " dense_1 (Dense)             (None, 128)               65664     \n",
            "                                                                 \n",
            " dense_2 (Dense)             (None, 5)                 645       \n",
            "                                                                 \n",
            "=================================================================\n",
            "Total params: 256,864,133\n",
            "Trainable params: 66,309\n",
            "Non-trainable params: 256,797,824\n",
            "_________________________________________________________________\n"
          ]
        }
      ]
    },
    {
      "cell_type": "code",
      "source": [
        "# Fit the model\n",
        "history_model_2 = model_2.fit(train_dataset,\n",
        "                            epochs=3,\n",
        "                            steps_per_epoch = int(0.1 * len(train_dataset)),\n",
        "                            validation_data=validation_dataset,\n",
        "                            validation_steps=int(0.1 * len(validation_dataset)))"
      ],
      "metadata": {
        "colab": {
          "base_uri": "https://localhost:8080/"
        },
        "id": "7nXm2wckX9Cp",
        "outputId": "9e7f8762-aae7-4766-8388-af872ff8fecd"
      },
      "execution_count": 46,
      "outputs": [
        {
          "output_type": "stream",
          "name": "stdout",
          "text": [
            "Epoch 1/3\n",
            "562/562 [==============================] - 10s 13ms/step - loss: 0.9184 - accuracy: 0.6489 - val_loss: 0.7966 - val_accuracy: 0.6892\n",
            "Epoch 2/3\n",
            "562/562 [==============================] - 7s 12ms/step - loss: 0.7668 - accuracy: 0.7020 - val_loss: 0.7519 - val_accuracy: 0.7048\n",
            "Epoch 3/3\n",
            "562/562 [==============================] - 8s 15ms/step - loss: 0.7505 - accuracy: 0.7113 - val_loss: 0.7360 - val_accuracy: 0.7138\n"
          ]
        }
      ]
    },
    {
      "cell_type": "code",
      "source": [
        "# Evalaute the model on the entire validation dataset\n",
        "model_2.evaluate(validation_dataset)"
      ],
      "metadata": {
        "colab": {
          "base_uri": "https://localhost:8080/"
        },
        "id": "85Zu0JbPZAhv",
        "outputId": "a0ccd5b1-8b92-4646-9d72-0ca3cf61a647"
      },
      "execution_count": 47,
      "outputs": [
        {
          "output_type": "stream",
          "name": "stdout",
          "text": [
            "945/945 [==============================] - 11s 12ms/step - loss: 0.7383 - accuracy: 0.7155\n"
          ]
        },
        {
          "output_type": "execute_result",
          "data": {
            "text/plain": [
              "[0.7383192181587219, 0.7154772877693176]"
            ]
          },
          "metadata": {},
          "execution_count": 47
        }
      ]
    },
    {
      "cell_type": "code",
      "source": [
        "# Make predicitons\n",
        "model_2_pred_probs = model_2.predict(validation_dataset)\n",
        "model_2_preds = tf.argmax(model_2_pred_probs, axis=1)\n",
        "\n",
        "# Caculate results\n",
        "model_2_results = calculate_results(val_labels_encoded,\n",
        "                                    model_2_preds)\n",
        "model_2_results"
      ],
      "metadata": {
        "colab": {
          "base_uri": "https://localhost:8080/"
        },
        "id": "6d_XaDaeZQtB",
        "outputId": "0b8508b8-d96a-44cf-fd50-fb44544b3e10"
      },
      "execution_count": 48,
      "outputs": [
        {
          "output_type": "stream",
          "name": "stdout",
          "text": [
            "945/945 [==============================] - 13s 14ms/step\n"
          ]
        },
        {
          "output_type": "execute_result",
          "data": {
            "text/plain": [
              "{'accuracy': 71.54772937905469,\n",
              " 'precision': 0.7156714727521937,\n",
              " 'recall': 0.7154772937905468,\n",
              " 'f1': 0.7124385453507878}"
            ]
          },
          "metadata": {},
          "execution_count": 48
        }
      ]
    },
    {
      "cell_type": "markdown",
      "source": [
        "### Model 3: Cov1D with character embeddings"
      ],
      "metadata": {
        "id": "TxJHGUStZqa1"
      }
    },
    {
      "cell_type": "markdown",
      "source": [
        "#### Create a character level tokinizer\n",
        "\n",
        "The original paper we are replicating states that they have used a combination of token and character-level embeddings.\n",
        "\n",
        "Previously, we have created token-level embeddings, so let's try doing a similar steps for characters-level embeddings."
      ],
      "metadata": {
        "id": "dOqEQoSoabVF"
      }
    },
    {
      "cell_type": "code",
      "source": [
        "# Make a function to split sentences into characters \n",
        "def split_chars(text):\n",
        "  return \" \".join(list(text))\n",
        "\n",
        "# Text splitting non-character-level sequences into characters\n",
        "split_chars(target_sentence)"
      ],
      "metadata": {
        "colab": {
          "base_uri": "https://localhost:8080/",
          "height": 36
        },
        "id": "m8RGzNmiayh2",
        "outputId": "46347d54-af06-4c6b-f468-8db44b90323e"
      },
      "execution_count": 49,
      "outputs": [
        {
          "output_type": "execute_result",
          "data": {
            "text/plain": [
              "'t o   e x p l o r e   t h e   b e t t e r   t h e r a p y   i n   t h e   t r e a t m e n t   o f   g a n g l i o n   .'"
            ],
            "application/vnd.google.colaboratory.intrinsic+json": {
              "type": "string"
            }
          },
          "metadata": {},
          "execution_count": 49
        }
      ]
    },
    {
      "cell_type": "code",
      "source": [
        "# Split sequence-level data into character-level data\n",
        "train_chars = [split_chars(sentence) for sentence in train_sentences]\n",
        "val_chars = [split_chars(sentence) for sentence in val_sentences]\n",
        "test_chars = [split_chars(sentence) for sentence in test_sentences]\n",
        "train_chars[:2]"
      ],
      "metadata": {
        "colab": {
          "base_uri": "https://localhost:8080/"
        },
        "id": "GHRoW7DwbL3n",
        "outputId": "7e957701-9f44-45f1-fb9e-7e865f8a1998"
      },
      "execution_count": 50,
      "outputs": [
        {
          "output_type": "execute_result",
          "data": {
            "text/plain": [
              "['t o   i n v e s t i g a t e   t h e   e f f i c a c y   o f   @   w e e k s   o f   d a i l y   l o w - d o s e   o r a l   p r e d n i s o l o n e   i n   i m p r o v i n g   p a i n   ,   m o b i l i t y   ,   a n d   s y s t e m i c   l o w - g r a d e   i n f l a m m a t i o n   i n   t h e   s h o r t   t e r m   a n d   w h e t h e r   t h e   e f f e c t   w o u l d   b e   s u s t a i n e d   a t   @   w e e k s   i n   o l d e r   a d u l t s   w i t h   m o d e r a t e   t o   s e v e r e   k n e e   o s t e o a r t h r i t i s   (   o a   )   .',\n",
              " 'a   t o t a l   o f   @   p a t i e n t s   w i t h   p r i m a r y   k n e e   o a   w e r e   r a n d o m i z e d   @ : @   ;   @   r e c e i v e d   @   m g / d a y   o f   p r e d n i s o l o n e   a n d   @   r e c e i v e d   p l a c e b o   f o r   @   w e e k s   .']"
            ]
          },
          "metadata": {},
          "execution_count": 50
        }
      ]
    },
    {
      "cell_type": "code",
      "source": [
        "# Get the average character length\n",
        "char_lens = [len(sentence) for sentence in train_sentences]\n",
        "mean_char_len = np.mean(char_lens)\n",
        "mean_char_len"
      ],
      "metadata": {
        "colab": {
          "base_uri": "https://localhost:8080/"
        },
        "id": "h3npjtfCbsuz",
        "outputId": "382b4793-15ba-4a18-e02a-8a6726c7efb7"
      },
      "execution_count": 51,
      "outputs": [
        {
          "output_type": "execute_result",
          "data": {
            "text/plain": [
              "149.3662574983337"
            ]
          },
          "metadata": {},
          "execution_count": 51
        }
      ]
    },
    {
      "cell_type": "code",
      "source": [
        "# Check the distribution of our sequences at character-level\n",
        "import matplotlib.pyplot as plt\n",
        "plt.hist(char_lens, bins=50)\n",
        "plt.xlim(np.min(char_lens), np.max(char_lens))"
      ],
      "metadata": {
        "colab": {
          "base_uri": "https://localhost:8080/",
          "height": 282
        },
        "id": "uJ4qoMlacByC",
        "outputId": "df87bbc0-08c6-47bc-9ab6-d2512e7178c4"
      },
      "execution_count": 52,
      "outputs": [
        {
          "output_type": "execute_result",
          "data": {
            "text/plain": [
              "(1.0, 1386.0)"
            ]
          },
          "metadata": {},
          "execution_count": 52
        },
        {
          "output_type": "display_data",
          "data": {
            "text/plain": [
              "<Figure size 432x288 with 1 Axes>"
            ],
            "image/png": "[encoded data removed]"
          },
          "metadata": {
            "needs_background": "light"
          }
        }
      ]
    },
    {
      "cell_type": "code",
      "source": [
        "# Find what character length covers 95% of sequences\n",
        "output_seq_char_len = int(np.percentile(char_lens, 95))\n",
        "output_seq_char_len"
      ],
      "metadata": {
        "colab": {
          "base_uri": "https://localhost:8080/"
        },
        "id": "1W5OVPOVcyN5",
        "outputId": "132b9d34-1da0-40cb-ccc7-589b1ddd1eee"
      },
      "execution_count": 53,
      "outputs": [
        {
          "output_type": "execute_result",
          "data": {
            "text/plain": [
              "290"
            ]
          },
          "metadata": {},
          "execution_count": 53
        }
      ]
    },
    {
      "cell_type": "code",
      "source": [
        "# Create a char-level token vectorizer instance\n",
        "char_vectorizer = TextVectorization(max_tokens=28,  \n",
        "                                    output_sequence_length=output_seq_char_len,\n",
        "                                    name=\"char_vectorizer\")\n",
        "\n",
        "# Adapt character vectorizer to training characters\n",
        "char_vectorizer.adapt(train_chars)"
      ],
      "metadata": {
        "id": "VlvRIN3Idadi"
      },
      "execution_count": 54,
      "outputs": []
    },
    {
      "cell_type": "code",
      "source": [
        "# Check character vocab stats\n",
        "char_vocab = char_vectorizer.get_vocabulary()\n",
        "print(f\"Number of different characters in character vocab: {len(char_vocab)}\")\n",
        "print(f\"5 most common characters: {char_vocab[:5]}\")\n",
        "print(f\"5 least common characters: {char_vocab[-5:]}\")"
      ],
      "metadata": {
        "colab": {
          "base_uri": "https://localhost:8080/"
        },
        "id": "0ctqM7PAdx5_",
        "outputId": "3bab8ca8-04fd-4e6c-c34f-604335bd08eb"
      },
      "execution_count": 55,
      "outputs": [
        {
          "output_type": "stream",
          "name": "stdout",
          "text": [
            "Number of different characters in character vocab: 28\n",
            "5 most common characters: ['', '[UNK]', 'e', 't', 'i']\n",
            "5 least common characters: ['k', 'x', 'z', 'q', 'j']\n"
          ]
        }
      ]
    },
    {
      "cell_type": "code",
      "source": [
        "# Test out character vectorizer\n",
        "random_train_chars = random.choice(train_chars)\n",
        "print(f\"Charified text:\\n{random_train_chars}\")\n",
        "print(f\"\\nLength of chars: {len(random_train_chars.split())}\")\n",
        "vectorized_chars = char_vectorizer([random_train_chars])\n",
        "print(f\"\\nVectorized chars:\\n{vectorized_chars}\")\n",
        "print(f\"\\nLength of vectorized chars: {len(vectorized_chars[0])}\")"
      ],
      "metadata": {
        "colab": {
          "base_uri": "https://localhost:8080/"
        },
        "id": "VygjfecHeUOt",
        "outputId": "8c6867c7-76b8-4b8e-b707-fe14f4a62799"
      },
      "execution_count": 56,
      "outputs": [
        {
          "output_type": "stream",
          "name": "stdout",
          "text": [
            "Charified text:\n",
            "c o m p l i c a t i o n   r a t e s   ,   l e n g t h s   o f   h o s p i t a l   s t a y   ,   a n d   h o s p i t a l   c o s t s   w e r e   s i m i l a r   b e t w e e n   t h e   t w o   g r o u p s   .\n",
            "\n",
            "Length of chars: 87\n",
            "\n",
            "Vectorized chars:\n",
            "[[11  7 15 14 12  4 11  5  3  4  7  6  8  5  3  2  9 12  2  6 18  3 13  9\n",
            "   7 17 13  7  9 14  4  3  5 12  9  3  5 19  5  6 10 13  7  9 14  4  3  5\n",
            "  12 11  7  9  3  9 20  2  8  2  9  4 15  4 12  5  8 22  2  3 20  2  2  6\n",
            "   3 13  2  3 20  7 18  8  7 16 14  9  0  0  0  0  0  0  0  0  0  0  0  0\n",
            "   0  0  0  0  0  0  0  0  0  0  0  0  0  0  0  0  0  0  0  0  0  0  0  0\n",
            "   0  0  0  0  0  0  0  0  0  0  0  0  0  0  0  0  0  0  0  0  0  0  0  0\n",
            "   0  0  0  0  0  0  0  0  0  0  0  0  0  0  0  0  0  0  0  0  0  0  0  0\n",
            "   0  0  0  0  0  0  0  0  0  0  0  0  0  0  0  0  0  0  0  0  0  0  0  0\n",
            "   0  0  0  0  0  0  0  0  0  0  0  0  0  0  0  0  0  0  0  0  0  0  0  0\n",
            "   0  0  0  0  0  0  0  0  0  0  0  0  0  0  0  0  0  0  0  0  0  0  0  0\n",
            "   0  0  0  0  0  0  0  0  0  0  0  0  0  0  0  0  0  0  0  0  0  0  0  0\n",
            "   0  0  0  0  0  0  0  0  0  0  0  0  0  0  0  0  0  0  0  0  0  0  0  0\n",
            "   0  0]]\n",
            "\n",
            "Length of vectorized chars: 290\n"
          ]
        }
      ]
    },
    {
      "cell_type": "markdown",
      "source": [
        "#### Create a character level embedding\n"
      ],
      "metadata": {
        "id": "L7QK9VI0fAWp"
      }
    },
    {
      "cell_type": "code",
      "source": [
        "# Create char embedding layer\n",
        "char_embed = layers.Embedding(input_dim=len(char_vocab), # number of different characters\n",
        "                              output_dim=25, # embedding dimension of each character\n",
        "                              name=\"char_embed\")\n",
        "\n",
        "# Test out character embedding layer\n",
        "print(f\"Charified text (before vectorization and embedding):\\n{random_train_chars}\\n\")\n",
        "char_embed_example = char_embed(char_vectorizer([random_train_chars]))\n",
        "print(f\"Embedded chars (after vectorization and embedding):\\n{char_embed_example}\\n\")\n",
        "print(f\"Character embedding shape: {char_embed_example.shape}\")"
      ],
      "metadata": {
        "colab": {
          "base_uri": "https://localhost:8080/"
        },
        "id": "tiNvBnKpgWkh",
        "outputId": "46343683-517d-4bd4-f578-332b5edb0023"
      },
      "execution_count": 57,
      "outputs": [
        {
          "output_type": "stream",
          "name": "stdout",
          "text": [
            "Charified text (before vectorization and embedding):\n",
            "c o m p l i c a t i o n   r a t e s   ,   l e n g t h s   o f   h o s p i t a l   s t a y   ,   a n d   h o s p i t a l   c o s t s   w e r e   s i m i l a r   b e t w e e n   t h e   t w o   g r o u p s   .\n",
            "\n",
            "Embedded chars (after vectorization and embedding):\n",
            "[[[ 0.00719731  0.01879544  0.04582436 ...  0.0078434  -0.04363674\n",
            "   -0.04790069]\n",
            "  [-0.03822314  0.0470212  -0.04152723 ... -0.04378517 -0.02450076\n",
            "    0.01862837]\n",
            "  [ 0.01318843 -0.00574738 -0.0156761  ...  0.00134398  0.02606035\n",
            "    0.04691653]\n",
            "  ...\n",
            "  [-0.01668446  0.02289185 -0.01547325 ...  0.04457921 -0.04176478\n",
            "   -0.01304568]\n",
            "  [-0.01668446  0.02289185 -0.01547325 ...  0.04457921 -0.04176478\n",
            "   -0.01304568]\n",
            "  [-0.01668446  0.02289185 -0.01547325 ...  0.04457921 -0.04176478\n",
            "   -0.01304568]]]\n",
            "\n",
            "Character embedding shape: (1, 290, 25)\n"
          ]
        }
      ]
    },
    {
      "cell_type": "code",
      "source": [
        "# Create char datasets\n",
        "train_char_dataset = tf.data.Dataset.from_tensor_slices((train_chars, train_labels_one_hot)).batch(32).prefetch(tf.data.AUTOTUNE)\n",
        "val_char_dataset = tf.data.Dataset.from_tensor_slices((val_chars, val_labels_one_hot)).batch(32).prefetch(tf.data.AUTOTUNE)\n",
        "test_char_dataset = tf.data.Dataset.from_tensor_slices((test_chars, test_labels_one_hot)).batch(32).prefetch(tf.data.AUTOTUNE)\n",
        "\n",
        "train_char_dataset"
      ],
      "metadata": {
        "colab": {
          "base_uri": "https://localhost:8080/"
        },
        "id": "WeFmtTUmjwvI",
        "outputId": "993561c0-588c-4d0a-ea68-ab175a116b96"
      },
      "execution_count": 58,
      "outputs": [
        {
          "output_type": "execute_result",
          "data": {
            "text/plain": [
              "<PrefetchDataset element_spec=(TensorSpec(shape=(None,), dtype=tf.string, name=None), TensorSpec(shape=(None, 5), dtype=tf.float64, name=None))>"
            ]
          },
          "metadata": {},
          "execution_count": 58
        }
      ]
    },
    {
      "cell_type": "markdown",
      "source": [
        "#### Build the model"
      ],
      "metadata": {
        "id": "TT3BUxdsiIT0"
      }
    },
    {
      "cell_type": "code",
      "source": [
        "# Make Conv1D on chars only\n",
        "inputs = layers.Input(shape=(1,), dtype=tf.string)\n",
        "char_vectors = char_vectorizer(inputs)\n",
        "char_embedding = char_embed(char_vectors)\n",
        "x = layers.Conv1D(64, kernel_size=10, padding=\"same\", activation=\"relu\")(char_embedding)\n",
        "x = layers.GlobalMaxPooling1D()(x)\n",
        "outputs = layers.Dense(num_classes, activation=\"softmax\")(x)\n",
        "\n",
        "model_3 = tf.keras.Model(inputs, outputs, name=\"model_3_char_level_embedding_Conv1D\")\n",
        "\n",
        "\n",
        "# Compile the model\n",
        "model_3.compile(loss=\"categorical_crossentropy\",\n",
        "                optimizer=\"Adam\",\n",
        "                metrics=[\"accuracy\"])\n",
        "\n",
        "model_3.summary()"
      ],
      "metadata": {
        "colab": {
          "base_uri": "https://localhost:8080/"
        },
        "id": "p2KSO5wPivU9",
        "outputId": "f2c9effa-09c5-41ae-f7ab-ef68858248f7"
      },
      "execution_count": 59,
      "outputs": [
        {
          "output_type": "stream",
          "name": "stdout",
          "text": [
            "Model: \"model_3_char_level_embedding_Conv1D\"\n",
            "_________________________________________________________________\n",
            " Layer (type)                Output Shape              Param #   \n",
            "=================================================================\n",
            " input_3 (InputLayer)        [(None, 1)]               0         \n",
            "                                                                 \n",
            " char_vectorizer (TextVector  (None, 290)              0         \n",
            " ization)                                                        \n",
            "                                                                 \n",
            " char_embed (Embedding)      (None, 290, 25)           700       \n",
            "                                                                 \n",
            " conv1d_1 (Conv1D)           (None, 290, 64)           16064     \n",
            "                                                                 \n",
            " global_max_pooling1d (Globa  (None, 64)               0         \n",
            " lMaxPooling1D)                                                  \n",
            "                                                                 \n",
            " dense_3 (Dense)             (None, 5)                 325       \n",
            "                                                                 \n",
            "=================================================================\n",
            "Total params: 17,089\n",
            "Trainable params: 17,089\n",
            "Non-trainable params: 0\n",
            "_________________________________________________________________\n"
          ]
        }
      ]
    },
    {
      "cell_type": "code",
      "source": [
        "# Fit the model on chars only\n",
        "history_model_3 = model_3.fit(train_char_dataset,\n",
        "                              epochs=3,\n",
        "                              steps_per_epoch= int(0.1 * len(train_char_dataset)),\n",
        "                              validation_data= val_char_dataset,\n",
        "                              validation_steps = int(0.1 * len(val_char_dataset)))"
      ],
      "metadata": {
        "colab": {
          "base_uri": "https://localhost:8080/"
        },
        "id": "mM-49zCMkCWp",
        "outputId": "a20bba64-eabb-4628-e116-22eeed8f54b6"
      },
      "execution_count": 60,
      "outputs": [
        {
          "output_type": "stream",
          "name": "stdout",
          "text": [
            "Epoch 1/3\n",
            "562/562 [==============================] - 6s 10ms/step - loss: 1.2079 - accuracy: 0.5110 - val_loss: 0.9831 - val_accuracy: 0.6127\n",
            "Epoch 2/3\n",
            "562/562 [==============================] - 4s 7ms/step - loss: 0.9484 - accuracy: 0.6293 - val_loss: 0.8801 - val_accuracy: 0.6599\n",
            "Epoch 3/3\n",
            "562/562 [==============================] - 3s 5ms/step - loss: 0.8693 - accuracy: 0.6624 - val_loss: 0.8146 - val_accuracy: 0.6848\n"
          ]
        }
      ]
    },
    {
      "cell_type": "code",
      "source": [
        "# Evaluate the model on the entire validation dataset\n",
        "model_3.evaluate(val_char_dataset)"
      ],
      "metadata": {
        "colab": {
          "base_uri": "https://localhost:8080/"
        },
        "id": "n4p1II8WkseD",
        "outputId": "7cdb3fd9-0fa4-4640-ce06-9fe3f38f322a"
      },
      "execution_count": 61,
      "outputs": [
        {
          "output_type": "stream",
          "name": "stdout",
          "text": [
            "945/945 [==============================] - 4s 5ms/step - loss: 0.8296 - accuracy: 0.6838\n"
          ]
        },
        {
          "output_type": "execute_result",
          "data": {
            "text/plain": [
              "[0.8295587301254272, 0.6837680339813232]"
            ]
          },
          "metadata": {},
          "execution_count": 61
        }
      ]
    },
    {
      "cell_type": "code",
      "source": [
        "# Make predicitons\n",
        "model_3_pred_probs = model_3.predict(val_char_dataset)\n",
        "model_3_preds = tf.argmax(model_3_pred_probs, axis=1)\n",
        "\n",
        "# Caculate results\n",
        "model_3_results = calculate_results(val_labels_encoded,\n",
        "                                    model_3_preds)\n",
        "model_3_results"
      ],
      "metadata": {
        "colab": {
          "base_uri": "https://localhost:8080/"
        },
        "id": "-vrdZR0ikefr",
        "outputId": "9f6c434b-3c85-4634-c903-edbfeca79b6f"
      },
      "execution_count": 62,
      "outputs": [
        {
          "output_type": "stream",
          "name": "stdout",
          "text": [
            "945/945 [==============================] - 2s 2ms/step\n"
          ]
        },
        {
          "output_type": "execute_result",
          "data": {
            "text/plain": [
              "{'accuracy': 68.3768039189726,\n",
              " 'precision': 0.6769558874777138,\n",
              " 'recall': 0.683768039189726,\n",
              " 'f1': 0.6738579361355014}"
            ]
          },
          "metadata": {},
          "execution_count": 62
        }
      ]
    },
    {
      "cell_type": "markdown",
      "source": [
        "### Model 4: Combining pretrained token embeddings + character embeddings (hybrid embedding layer) \n",
        "\n",
        "1. Create a token-level embedding model\n",
        "2. Create a character-level model\n",
        "3. Combine 1 & 2 with a concatenate (`layers.Concatenate`)\n",
        "4. Build a series of outputs on top of 3\n",
        "5. Construct a model which takes token and character-level sequences as input and produce sequence label probabilities as output.\n",
        "\n",
        "Steps inspired by the original paper"
      ],
      "metadata": {
        "id": "UO-U9WDpk5sM"
      }
    },
    {
      "cell_type": "code",
      "source": [
        "# 1. Setup token inputs/model\n",
        "token_inputs = layers.Input(shape=[], dtype=tf.string, name=\"token_inputs\")\n",
        "token_embeddings = tf_hub_embedding_layer(token_inputs)\n",
        "token_output = layers.Dense(128, activation=\"relu\")(token_embeddings)\n",
        "\n",
        "token_model = tf.keras.Model(token_inputs, token_output)\n",
        "\n",
        "# 2. Setup char inputs/model\n",
        "char_inputs = layers.Input(shape=(1,), dtype=tf.string, name=\"char_input\")\n",
        "char_vectors = char_vectorizer(char_inputs)\n",
        "char_embeddings = char_embed(char_vectors)\n",
        "char_bi_lstm = layers.Bidirectional(layers.LSTM(24))(char_embeddings)\n",
        "\n",
        "char_model = tf.keras.Model(char_inputs, char_bi_lstm)\n",
        "\n",
        "# 3. Concatenate token adn char inputs (create hybrid token embedding)\n",
        "token_char_concat = layers.Concatenate(name=\"token_char_hybrid\")([token_model.output, char_model.output])\n",
        "\n",
        "# 4. Create output layers - adding in Dropput\n",
        "combined_dropout = layers.Dropout(0.5)(token_char_concat)\n",
        "combined_dense = layers.Dense(128, activation=\"relu\")(combined_dropout)\n",
        "final_dropout = layers.Dropout(0.5)(combined_dense)\n",
        "output_layer = layers.Dense(num_classes, activation=\"softmax\")(final_dropout)\n",
        "\n",
        "# 5. Construct model with char and token inputs\n",
        "model_4 = tf.keras.Model(inputs=[token_model.input, char_model.input],\n",
        "                         outputs=output_layer,\n",
        "                         name=\"model_4_token_and_char_embeddings\")"
      ],
      "metadata": {
        "id": "GwMFhAwRlkjL"
      },
      "execution_count": 63,
      "outputs": []
    },
    {
      "cell_type": "code",
      "source": [
        "model_4.summary()"
      ],
      "metadata": {
        "colab": {
          "base_uri": "https://localhost:8080/"
        },
        "id": "-nOIEEdDrKqY",
        "outputId": "36ed3fc3-5dd8-46a9-f893-36e74d4f5113"
      },
      "execution_count": 64,
      "outputs": [
        {
          "output_type": "stream",
          "name": "stdout",
          "text": [
            "Model: \"model_4_token_and_char_embeddings\"\n",
            "__________________________________________________________________________________________________\n",
            " Layer (type)                   Output Shape         Param #     Connected to                     \n",
            "==================================================================================================\n",
            " char_input (InputLayer)        [(None, 1)]          0           []                               \n",
            "                                                                                                  \n",
            " token_inputs (InputLayer)      [(None,)]            0           []                               \n",
            "                                                                                                  \n",
            " char_vectorizer (TextVectoriza  (None, 290)         0           ['char_input[0][0]']             \n",
            " tion)                                                                                            \n",
            "                                                                                                  \n",
            " universal_sentence_encoder (Ke  (None, 512)         256797824   ['token_inputs[0][0]']           \n",
            " rasLayer)                                                                                        \n",
            "                                                                                                  \n",
            " char_embed (Embedding)         (None, 290, 25)      700         ['char_vectorizer[1][0]']        \n",
            "                                                                                                  \n",
            " dense_4 (Dense)                (None, 128)          65664       ['universal_sentence_encoder[1][0\n",
            "                                                                 ]']                              \n",
            "                                                                                                  \n",
            " bidirectional (Bidirectional)  (None, 48)           9600        ['char_embed[1][0]']             \n",
            "                                                                                                  \n",
            " token_char_hybrid (Concatenate  (None, 176)         0           ['dense_4[0][0]',                \n",
            " )                                                                'bidirectional[0][0]']          \n",
            "                                                                                                  \n",
            " dropout (Dropout)              (None, 176)          0           ['token_char_hybrid[0][0]']      \n",
            "                                                                                                  \n",
            " dense_5 (Dense)                (None, 128)          22656       ['dropout[0][0]']                \n",
            "                                                                                                  \n",
            " dropout_1 (Dropout)            (None, 128)          0           ['dense_5[0][0]']                \n",
            "                                                                                                  \n",
            " dense_6 (Dense)                (None, 5)            645         ['dropout_1[0][0]']              \n",
            "                                                                                                  \n",
            "==================================================================================================\n",
            "Total params: 256,897,089\n",
            "Trainable params: 99,265\n",
            "Non-trainable params: 256,797,824\n",
            "__________________________________________________________________________________________________\n"
          ]
        }
      ]
    },
    {
      "cell_type": "code",
      "source": [
        "# Plot hybrid token and character model\n",
        "from tensorflow.keras.utils import plot_model\n",
        "plot_model(model_4, show_shapes=True)"
      ],
      "metadata": {
        "colab": {
          "base_uri": "https://localhost:8080/",
          "height": 976
        },
        "id": "eyDy5hKDuB18",
        "outputId": "0ecb5dd1-3094-4a68-cf7b-832ba93d76bb"
      },
      "execution_count": 65,
      "outputs": [
        {
          "output_type": "execute_result",
          "data": {
            "image/png": "[encoded data removed]",
            "text/plain": [
              "<IPython.core.display.Image object>"
            ]
          },
          "metadata": {},
          "execution_count": 65
        }
      ]
    },
    {
      "cell_type": "code",
      "source": [
        "# Compile model_4\n",
        "model_4.compile(loss=\"categorical_crossentropy\",\n",
        "                optimizer=\"Adam\",\n",
        "                metrics=[\"accuracy\"])"
      ],
      "metadata": {
        "id": "yMUH_epNugGz"
      },
      "execution_count": 66,
      "outputs": []
    },
    {
      "cell_type": "markdown",
      "source": [
        "#### Combining token and character data into a tf.data Dataset"
      ],
      "metadata": {
        "id": "9dlnaVydvayS"
      }
    },
    {
      "cell_type": "code",
      "source": [
        "# For Training Data\n",
        "\n",
        "# Combine chars and tokens into a dataset\n",
        "train_char_token_data = tf.data.Dataset.from_tensor_slices((train_sentences, train_chars)) # make data\n",
        "train_char_token_data_labels = tf.data.Dataset.from_tensor_slices(train_labels_one_hot) # make labels\n",
        "train_char_token_dataset = tf.data.Dataset.zip((train_char_token_data, train_char_token_data_labels)) # combine data with labels\n",
        "\n",
        "# Prefetch and batch train data\n",
        "train_char_token_dataset = train_char_token_dataset.batch(32).prefetch(tf.data.AUTOTUNE)\n",
        "\n",
        "# For Validation Data\n",
        "\n",
        "# Combine chars and tokens into a dataset for validation dataset\n",
        "val_char_token_data = tf.data.Dataset.from_tensor_slices((val_sentences, val_chars)) # make data\n",
        "val_char_token_data_labels = tf.data.Dataset.from_tensor_slices(val_labels_one_hot) # make labels\n",
        "val_char_token_dataset = tf.data.Dataset.zip((val_char_token_data, val_char_token_data_labels)) # combine data with labels\n",
        "\n",
        "# Prefetch and batch validation data\n",
        "val_char_token_dataset = val_char_token_dataset.batch(32).prefetch(tf.data.AUTOTUNE)"
      ],
      "metadata": {
        "id": "TNN2Gxmqv014"
      },
      "execution_count": 67,
      "outputs": []
    },
    {
      "cell_type": "code",
      "source": [
        "train_char_token_dataset, val_char_token_dataset"
      ],
      "metadata": {
        "colab": {
          "base_uri": "https://localhost:8080/"
        },
        "id": "5ThitqX4xRIp",
        "outputId": "354bc5cb-37b2-4ca9-f9f1-66c0c866a779"
      },
      "execution_count": 68,
      "outputs": [
        {
          "output_type": "execute_result",
          "data": {
            "text/plain": [
              "(<PrefetchDataset element_spec=((TensorSpec(shape=(None,), dtype=tf.string, name=None), TensorSpec(shape=(None,), dtype=tf.string, name=None)), TensorSpec(shape=(None, 5), dtype=tf.float64, name=None))>,\n",
              " <PrefetchDataset element_spec=((TensorSpec(shape=(None,), dtype=tf.string, name=None), TensorSpec(shape=(None,), dtype=tf.string, name=None)), TensorSpec(shape=(None, 5), dtype=tf.float64, name=None))>)"
            ]
          },
          "metadata": {},
          "execution_count": 68
        }
      ]
    },
    {
      "cell_type": "markdown",
      "source": [
        "#### Fitting a model on token and character-level sequences"
      ],
      "metadata": {
        "id": "mv1if1VUxath"
      }
    },
    {
      "cell_type": "code",
      "source": [
        "history_model_4 = model_4.fit(train_char_token_dataset,\n",
        "                              epochs=3,\n",
        "                              steps_per_epoch=int(0.1 * len(train_char_token_dataset)),\n",
        "                              validation_data=val_char_token_dataset,\n",
        "                              validation_steps=int(0.1 * len(val_char_token_dataset)))"
      ],
      "metadata": {
        "colab": {
          "base_uri": "https://localhost:8080/"
        },
        "id": "TOSWjncpzPBv",
        "outputId": "63754de7-ca23-457e-b250-fb6f65ac9fbf"
      },
      "execution_count": 69,
      "outputs": [
        {
          "output_type": "stream",
          "name": "stdout",
          "text": [
            "Epoch 1/3\n",
            "562/562 [==============================] - 28s 42ms/step - loss: 0.9890 - accuracy: 0.6051 - val_loss: 0.7939 - val_accuracy: 0.6971\n",
            "Epoch 2/3\n",
            "562/562 [==============================] - 23s 41ms/step - loss: 0.8055 - accuracy: 0.6916 - val_loss: 0.7198 - val_accuracy: 0.7281\n",
            "Epoch 3/3\n",
            "562/562 [==============================] - 24s 42ms/step - loss: 0.7753 - accuracy: 0.7036 - val_loss: 0.6980 - val_accuracy: 0.7354\n"
          ]
        }
      ]
    },
    {
      "cell_type": "code",
      "source": [
        "# Evaluate on the whole dataset\n",
        "model_4.evaluate(val_char_token_dataset)"
      ],
      "metadata": {
        "colab": {
          "base_uri": "https://localhost:8080/"
        },
        "id": "5zgawgyXzw7M",
        "outputId": "7a9a1222-e615-4e47-dd29-7c5289714032"
      },
      "execution_count": 70,
      "outputs": [
        {
          "output_type": "stream",
          "name": "stdout",
          "text": [
            "945/945 [==============================] - 23s 25ms/step - loss: 0.6981 - accuracy: 0.7323\n"
          ]
        },
        {
          "output_type": "execute_result",
          "data": {
            "text/plain": [
              "[0.6981067657470703, 0.7322918176651001]"
            ]
          },
          "metadata": {},
          "execution_count": 70
        }
      ]
    },
    {
      "cell_type": "code",
      "source": [
        "# Make predicitons\n",
        "model_4_pred_probs = model_4.predict(val_char_token_dataset)\n",
        "model_4_preds = tf.argmax(model_4_pred_probs, axis=1)\n",
        "\n",
        "# Caculate results\n",
        "model_4_results = calculate_results(val_labels_encoded,\n",
        "                                    model_4_preds)\n",
        "model_4_results"
      ],
      "metadata": {
        "colab": {
          "base_uri": "https://localhost:8080/"
        },
        "id": "zw4PJoo_05Gd",
        "outputId": "886978d3-97b3-4ce2-998e-67babac1a82d"
      },
      "execution_count": 71,
      "outputs": [
        {
          "output_type": "stream",
          "name": "stdout",
          "text": [
            "945/945 [==============================] - 22s 22ms/step\n"
          ]
        },
        {
          "output_type": "execute_result",
          "data": {
            "text/plain": [
              "{'accuracy': 73.22918045809612,\n",
              " 'precision': 0.7352129979045996,\n",
              " 'recall': 0.7322918045809612,\n",
              " 'f1': 0.7296076397372668}"
            ]
          },
          "metadata": {},
          "execution_count": 71
        }
      ]
    },
    {
      "cell_type": "markdown",
      "source": [
        "### Model 5: Transfer Learning with pretrained token embeddings + character embeddings + postional embeddings\n",
        "\n"
      ],
      "metadata": {
        "id": "wXssxM121EM5"
      }
    },
    {
      "cell_type": "code",
      "source": [
        "pd.DataFrame(train_df, columns=[\"line_number\", \"total_lines\", \"target\"]).corr()"
      ],
      "metadata": {
        "colab": {
          "base_uri": "https://localhost:8080/",
          "height": 112
        },
        "id": "UJVPpXMA2ujf",
        "outputId": "ba76c31d-4876-495b-ce24-fd023f6b24c4"
      },
      "execution_count": 72,
      "outputs": [
        {
          "output_type": "execute_result",
          "data": {
            "text/plain": [
              "             line_number  total_lines\n",
              "line_number        1.000        0.392\n",
              "total_lines        0.392        1.000"
            ],
            "text/html": [
              "\n",
              "  <div id=\"df-a8e12785-6d9d-41fb-b875-c6c32e98ca8f\">\n",
              "    <div class=\"colab-df-container\">\n",
              "      <div>\n",
              "<style scoped>\n",
              "    .dataframe tbody tr th:only-of-type {\n",
              "        vertical-align: middle;\n",
              "    }\n",
              "\n",
              "    .dataframe tbody tr th {\n",
              "        vertical-align: top;\n",
              "    }\n",
              "\n",
              "    .dataframe thead th {\n",
              "        text-align: right;\n",
              "    }\n",
              "</style>\n",
              "<table border=\"1\" class=\"dataframe\">\n",
              "  <thead>\n",
              "    <tr style=\"text-align: right;\">\n",
              "      <th></th>\n",
              "      <th>line_number</th>\n",
              "      <th>total_lines</th>\n",
              "    </tr>\n",
              "  </thead>\n",
              "  <tbody>\n",
              "    <tr>\n",
              "      <th>line_number</th>\n",
              "      <td>1.000</td>\n",
              "      <td>0.392</td>\n",
              "    </tr>\n",
              "    <tr>\n",
              "      <th>total_lines</th>\n",
              "      <td>0.392</td>\n",
              "      <td>1.000</td>\n",
              "    </tr>\n",
              "  </tbody>\n",
              "</table>\n",
              "</div>\n",
              "      <button class=\"colab-df-convert\" onclick=\"convertToInteractive('df-a8e12785-6d9d-41fb-b875-c6c32e98ca8f')\"\n",
              "              title=\"Convert this dataframe to an interactive table.\"\n",
              "              style=\"display:none;\">\n",
              "        \n",
              "  <svg xmlns=\"http://www.w3.org/2000/svg\" height=\"24px\"viewBox=\"0 0 24 24\"\n",
              "       width=\"24px\">\n",
              "    <path d=\"M0 0h24v24H0V0z\" fill=\"none\"/>\n",
              "    <path d=\"M18.56 5.44l.94 2.06.94-2.06 2.06-.94-2.06-.94-.94-2.06-.94 2.06-2.06.94zm-11 1L8.5 8.5l.94-2.06 2.06-.94-2.06-.94L8.5 2.5l-.94 2.06-2.06.94zm10 10l.94 2.06.94-2.06 2.06-.94-2.06-.94-.94-2.06-.94 2.06-2.06.94z\"/><path d=\"M17.41 7.96l-1.37-1.37c-.4-.4-.92-.59-1.43-.59-.52 0-1.04.2-1.43.59L10.3 9.45l-7.72 7.72c-.78.78-.78 2.05 0 2.83L4 21.41c.39.39.9.59 1.41.59.51 0 1.02-.2 1.41-.59l7.78-7.78 2.81-2.81c.8-.78.8-2.07 0-2.86zM5.41 20L4 18.59l7.72-7.72 1.47 1.35L5.41 20z\"/>\n",
              "  </svg>\n",
              "      </button>\n",
              "      \n",
              "  <style>\n",
              "    .colab-df-container {\n",
              "      display:flex;\n",
              "      flex-wrap:wrap;\n",
              "      gap: 12px;\n",
              "    }\n",
              "\n",
              "    .colab-df-convert {\n",
              "      background-color: #E8F0FE;\n",
              "      border: none;\n",
              "      border-radius: 50%;\n",
              "      cursor: pointer;\n",
              "      display: none;\n",
              "      fill: #1967D2;\n",
              "      height: 32px;\n",
              "      padding: 0 0 0 0;\n",
              "      width: 32px;\n",
              "    }\n",
              "\n",
              "    .colab-df-convert:hover {\n",
              "      background-color: #E2EBFA;\n",
              "      box-shadow: 0px 1px 2px rgba(60, 64, 67, 0.3), 0px 1px 3px 1px rgba(60, 64, 67, 0.15);\n",
              "      fill: #174EA6;\n",
              "    }\n",
              "\n",
              "    [theme=dark] .colab-df-convert {\n",
              "      background-color: #3B4455;\n",
              "      fill: #D2E3FC;\n",
              "    }\n",
              "\n",
              "    [theme=dark] .colab-df-convert:hover {\n",
              "      background-color: #434B5C;\n",
              "      box-shadow: 0px 1px 3px 1px rgba(0, 0, 0, 0.15);\n",
              "      filter: drop-shadow(0px 1px 2px rgba(0, 0, 0, 0.3));\n",
              "      fill: #FFFFFF;\n",
              "    }\n",
              "  </style>\n",
              "\n",
              "      <script>\n",
              "        const buttonEl =\n",
              "          document.querySelector('#df-a8e12785-6d9d-41fb-b875-c6c32e98ca8f button.colab-df-convert');\n",
              "        buttonEl.style.display =\n",
              "          google.colab.kernel.accessAllowed ? 'block' : 'none';\n",
              "\n",
              "        async function convertToInteractive(key) {\n",
              "          const element = document.querySelector('#df-a8e12785-6d9d-41fb-b875-c6c32e98ca8f');\n",
              "          const dataTable =\n",
              "            await google.colab.kernel.invokeFunction('convertToInteractive',\n",
              "                                                     [key], {});\n",
              "          if (!dataTable) return;\n",
              "\n",
              "          const docLinkHtml = 'Like what you see? Visit the ' +\n",
              "            '<a target=\"_blank\" href=https://colab.research.google.com/notebooks/data_table.ipynb>data table notebook</a>'\n",
              "            + ' to learn more about interactive tables.';\n",
              "          element.innerHTML = '';\n",
              "          dataTable['output_type'] = 'display_data';\n",
              "          await google.colab.output.renderOutput(dataTable, element);\n",
              "          const docLink = document.createElement('div');\n",
              "          docLink.innerHTML = docLinkHtml;\n",
              "          element.appendChild(docLink);\n",
              "        }\n",
              "      </script>\n",
              "    </div>\n",
              "  </div>\n",
              "  "
            ]
          },
          "metadata": {},
          "execution_count": 72
        }
      ]
    },
    {
      "cell_type": "code",
      "source": [
        "train_df"
      ],
      "metadata": {
        "colab": {
          "base_uri": "https://localhost:8080/",
          "height": 424
        },
        "id": "jpZKTPMa33of",
        "outputId": "0598c963-a4d0-4f38-f34e-8c02233432f4"
      },
      "execution_count": 73,
      "outputs": [
        {
          "output_type": "execute_result",
          "data": {
            "text/plain": [
              "        line_number       target  \\\n",
              "0                 0    OBJECTIVE   \n",
              "1                 1      METHODS   \n",
              "2                 2      METHODS   \n",
              "3                 3      METHODS   \n",
              "4                 4      METHODS   \n",
              "...             ...          ...   \n",
              "180035            7      RESULTS   \n",
              "180036            8      RESULTS   \n",
              "180037            9      RESULTS   \n",
              "180038           10  CONCLUSIONS   \n",
              "180039           11  CONCLUSIONS   \n",
              "\n",
              "                                                     text  total_lines  \n",
              "0       to investigate the efficacy of @ weeks of dail...           11  \n",
              "1       a total of @ patients with primary knee oa wer...           11  \n",
              "2       outcome measures included pain reduction and i...           11  \n",
              "3       pain was assessed using the visual analog pain...           11  \n",
              "4       secondary outcome measures included the wester...           11  \n",
              "...                                                   ...          ...  \n",
              "180035  for the absolute change in percent atheroma vo...           11  \n",
              "180036  for pav , a significantly greater percentage o...           11  \n",
              "180037  both strategies had acceptable side effect pro...           11  \n",
              "180038  compared with standard statin monotherapy , th...           11  \n",
              "180039  ( plaque regression with cholesterol absorptio...           11  \n",
              "\n",
              "[180040 rows x 4 columns]"
            ],
            "text/html": [
              "\n",
              "  <div id=\"df-22d45fef-4d75-4505-bb10-8dc1cb5fc7fe\">\n",
              "    <div class=\"colab-df-container\">\n",
              "      <div>\n",
              "<style scoped>\n",
              "    .dataframe tbody tr th:only-of-type {\n",
              "        vertical-align: middle;\n",
              "    }\n",
              "\n",
              "    .dataframe tbody tr th {\n",
              "        vertical-align: top;\n",
              "    }\n",
              "\n",
              "    .dataframe thead th {\n",
              "        text-align: right;\n",
              "    }\n",
              "</style>\n",
              "<table border=\"1\" class=\"dataframe\">\n",
              "  <thead>\n",
              "    <tr style=\"text-align: right;\">\n",
              "      <th></th>\n",
              "      <th>line_number</th>\n",
              "      <th>target</th>\n",
              "      <th>text</th>\n",
              "      <th>total_lines</th>\n",
              "    </tr>\n",
              "  </thead>\n",
              "  <tbody>\n",
              "    <tr>\n",
              "      <th>0</th>\n",
              "      <td>0</td>\n",
              "      <td>OBJECTIVE</td>\n",
              "      <td>to investigate the efficacy of @ weeks of dail...</td>\n",
              "      <td>11</td>\n",
              "    </tr>\n",
              "    <tr>\n",
              "      <th>1</th>\n",
              "      <td>1</td>\n",
              "      <td>METHODS</td>\n",
              "      <td>a total of @ patients with primary knee oa wer...</td>\n",
              "      <td>11</td>\n",
              "    </tr>\n",
              "    <tr>\n",
              "      <th>2</th>\n",
              "      <td>2</td>\n",
              "      <td>METHODS</td>\n",
              "      <td>outcome measures included pain reduction and i...</td>\n",
              "      <td>11</td>\n",
              "    </tr>\n",
              "    <tr>\n",
              "      <th>3</th>\n",
              "      <td>3</td>\n",
              "      <td>METHODS</td>\n",
              "      <td>pain was assessed using the visual analog pain...</td>\n",
              "      <td>11</td>\n",
              "    </tr>\n",
              "    <tr>\n",
              "      <th>4</th>\n",
              "      <td>4</td>\n",
              "      <td>METHODS</td>\n",
              "      <td>secondary outcome measures included the wester...</td>\n",
              "      <td>11</td>\n",
              "    </tr>\n",
              "    <tr>\n",
              "      <th>...</th>\n",
              "      <td>...</td>\n",
              "      <td>...</td>\n",
              "      <td>...</td>\n",
              "      <td>...</td>\n",
              "    </tr>\n",
              "    <tr>\n",
              "      <th>180035</th>\n",
              "      <td>7</td>\n",
              "      <td>RESULTS</td>\n",
              "      <td>for the absolute change in percent atheroma vo...</td>\n",
              "      <td>11</td>\n",
              "    </tr>\n",
              "    <tr>\n",
              "      <th>180036</th>\n",
              "      <td>8</td>\n",
              "      <td>RESULTS</td>\n",
              "      <td>for pav , a significantly greater percentage o...</td>\n",
              "      <td>11</td>\n",
              "    </tr>\n",
              "    <tr>\n",
              "      <th>180037</th>\n",
              "      <td>9</td>\n",
              "      <td>RESULTS</td>\n",
              "      <td>both strategies had acceptable side effect pro...</td>\n",
              "      <td>11</td>\n",
              "    </tr>\n",
              "    <tr>\n",
              "      <th>180038</th>\n",
              "      <td>10</td>\n",
              "      <td>CONCLUSIONS</td>\n",
              "      <td>compared with standard statin monotherapy , th...</td>\n",
              "      <td>11</td>\n",
              "    </tr>\n",
              "    <tr>\n",
              "      <th>180039</th>\n",
              "      <td>11</td>\n",
              "      <td>CONCLUSIONS</td>\n",
              "      <td>( plaque regression with cholesterol absorptio...</td>\n",
              "      <td>11</td>\n",
              "    </tr>\n",
              "  </tbody>\n",
              "</table>\n",
              "<p>180040 rows × 4 columns</p>\n",
              "</div>\n",
              "      <button class=\"colab-df-convert\" onclick=\"convertToInteractive('df-22d45fef-4d75-4505-bb10-8dc1cb5fc7fe')\"\n",
              "              title=\"Convert this dataframe to an interactive table.\"\n",
              "              style=\"display:none;\">\n",
              "        \n",
              "  <svg xmlns=\"http://www.w3.org/2000/svg\" height=\"24px\"viewBox=\"0 0 24 24\"\n",
              "       width=\"24px\">\n",
              "    <path d=\"M0 0h24v24H0V0z\" fill=\"none\"/>\n",
              "    <path d=\"M18.56 5.44l.94 2.06.94-2.06 2.06-.94-2.06-.94-.94-2.06-.94 2.06-2.06.94zm-11 1L8.5 8.5l.94-2.06 2.06-.94-2.06-.94L8.5 2.5l-.94 2.06-2.06.94zm10 10l.94 2.06.94-2.06 2.06-.94-2.06-.94-.94-2.06-.94 2.06-2.06.94z\"/><path d=\"M17.41 7.96l-1.37-1.37c-.4-.4-.92-.59-1.43-.59-.52 0-1.04.2-1.43.59L10.3 9.45l-7.72 7.72c-.78.78-.78 2.05 0 2.83L4 21.41c.39.39.9.59 1.41.59.51 0 1.02-.2 1.41-.59l7.78-7.78 2.81-2.81c.8-.78.8-2.07 0-2.86zM5.41 20L4 18.59l7.72-7.72 1.47 1.35L5.41 20z\"/>\n",
              "  </svg>\n",
              "      </button>\n",
              "      \n",
              "  <style>\n",
              "    .colab-df-container {\n",
              "      display:flex;\n",
              "      flex-wrap:wrap;\n",
              "      gap: 12px;\n",
              "    }\n",
              "\n",
              "    .colab-df-convert {\n",
              "      background-color: #E8F0FE;\n",
              "      border: none;\n",
              "      border-radius: 50%;\n",
              "      cursor: pointer;\n",
              "      display: none;\n",
              "      fill: #1967D2;\n",
              "      height: 32px;\n",
              "      padding: 0 0 0 0;\n",
              "      width: 32px;\n",
              "    }\n",
              "\n",
              "    .colab-df-convert:hover {\n",
              "      background-color: #E2EBFA;\n",
              "      box-shadow: 0px 1px 2px rgba(60, 64, 67, 0.3), 0px 1px 3px 1px rgba(60, 64, 67, 0.15);\n",
              "      fill: #174EA6;\n",
              "    }\n",
              "\n",
              "    [theme=dark] .colab-df-convert {\n",
              "      background-color: #3B4455;\n",
              "      fill: #D2E3FC;\n",
              "    }\n",
              "\n",
              "    [theme=dark] .colab-df-convert:hover {\n",
              "      background-color: #434B5C;\n",
              "      box-shadow: 0px 1px 3px 1px rgba(0, 0, 0, 0.15);\n",
              "      filter: drop-shadow(0px 1px 2px rgba(0, 0, 0, 0.3));\n",
              "      fill: #FFFFFF;\n",
              "    }\n",
              "  </style>\n",
              "\n",
              "      <script>\n",
              "        const buttonEl =\n",
              "          document.querySelector('#df-22d45fef-4d75-4505-bb10-8dc1cb5fc7fe button.colab-df-convert');\n",
              "        buttonEl.style.display =\n",
              "          google.colab.kernel.accessAllowed ? 'block' : 'none';\n",
              "\n",
              "        async function convertToInteractive(key) {\n",
              "          const element = document.querySelector('#df-22d45fef-4d75-4505-bb10-8dc1cb5fc7fe');\n",
              "          const dataTable =\n",
              "            await google.colab.kernel.invokeFunction('convertToInteractive',\n",
              "                                                     [key], {});\n",
              "          if (!dataTable) return;\n",
              "\n",
              "          const docLinkHtml = 'Like what you see? Visit the ' +\n",
              "            '<a target=\"_blank\" href=https://colab.research.google.com/notebooks/data_table.ipynb>data table notebook</a>'\n",
              "            + ' to learn more about interactive tables.';\n",
              "          element.innerHTML = '';\n",
              "          dataTable['output_type'] = 'display_data';\n",
              "          await google.colab.output.renderOutput(dataTable, element);\n",
              "          const docLink = document.createElement('div');\n",
              "          docLink.innerHTML = docLinkHtml;\n",
              "          element.appendChild(docLink);\n",
              "        }\n",
              "      </script>\n",
              "    </div>\n",
              "  </div>\n",
              "  "
            ]
          },
          "metadata": {},
          "execution_count": 73
        }
      ]
    },
    {
      "cell_type": "markdown",
      "source": [
        "#### Create positional embeddings"
      ],
      "metadata": {
        "id": "Jc7umkhv4D7y"
      }
    },
    {
      "cell_type": "code",
      "source": [
        "# Get the disribution of the \"line_number\" column across the dataset\n",
        "train_df[\"line_number\"].value_counts()"
      ],
      "metadata": {
        "colab": {
          "base_uri": "https://localhost:8080/"
        },
        "id": "2oXqKl53qI-6",
        "outputId": "6fb24a8f-bb4f-4284-ff0a-3a4d21d4000a"
      },
      "execution_count": 74,
      "outputs": [
        {
          "output_type": "execute_result",
          "data": {
            "text/plain": [
              "0     15000\n",
              "1     15000\n",
              "2     15000\n",
              "3     15000\n",
              "4     14992\n",
              "5     14949\n",
              "6     14758\n",
              "7     14279\n",
              "8     13346\n",
              "9     11981\n",
              "10    10041\n",
              "11     7892\n",
              "12     5853\n",
              "13     4152\n",
              "14     2835\n",
              "15     1861\n",
              "16     1188\n",
              "17      751\n",
              "18      462\n",
              "19      286\n",
              "20      162\n",
              "21      101\n",
              "22       66\n",
              "23       33\n",
              "24       22\n",
              "25       14\n",
              "26        7\n",
              "27        4\n",
              "28        3\n",
              "29        1\n",
              "30        1\n",
              "Name: line_number, dtype: int64"
            ]
          },
          "metadata": {},
          "execution_count": 74
        }
      ]
    },
    {
      "cell_type": "code",
      "source": [
        "train_df[\"line_number\"].plot.hist(bins=25);"
      ],
      "metadata": {
        "colab": {
          "base_uri": "https://localhost:8080/",
          "height": 265
        },
        "id": "coisXjVjqgS1",
        "outputId": "b151b591-8d59-42c7-9237-4342185503ee"
      },
      "execution_count": 75,
      "outputs": [
        {
          "output_type": "display_data",
          "data": {
            "text/plain": [
              "<Figure size 432x288 with 1 Axes>"
            ],
            "image/png": "[encoded data removed]"
          },
          "metadata": {
            "needs_background": "light"
          }
        }
      ]
    },
    {
      "cell_type": "markdown",
      "source": [
        "As the vast majority of **`line_number`** values are less to or equal to **15**, we will use **15** as the depth of our one-hot-encoded tensors"
      ],
      "metadata": {
        "id": "U74k51klrot0"
      }
    },
    {
      "cell_type": "code",
      "source": [
        "# Use Tensorflow to create a one-hot-encoded tesnros of our \"line_number\" column\n",
        "train_line_number_one_hot = tf.one_hot(train_df.line_number.to_numpy(), depth=15)\n",
        "val_line_number_one_hot = tf.one_hot(val_df.line_number.to_numpy(), depth=15)\n",
        "test_line_number_one_hot = tf.one_hot(test_df.line_number.to_numpy(), depth=15)\n",
        "\n",
        "train_line_number_one_hot[:14], train_line_number_one_hot.shape"
      ],
      "metadata": {
        "colab": {
          "base_uri": "https://localhost:8080/"
        },
        "id": "Frt9DZVfq4vH",
        "outputId": "ce91db72-6393-4178-fd7b-934a55989d47"
      },
      "execution_count": 76,
      "outputs": [
        {
          "output_type": "execute_result",
          "data": {
            "text/plain": [
              "(<tf.Tensor: shape=(14, 15), dtype=float32, numpy=\n",
              " array([[1., 0., 0., 0., 0., 0., 0., 0., 0., 0., 0., 0., 0., 0., 0.],\n",
              "        [0., 1., 0., 0., 0., 0., 0., 0., 0., 0., 0., 0., 0., 0., 0.],\n",
              "        [0., 0., 1., 0., 0., 0., 0., 0., 0., 0., 0., 0., 0., 0., 0.],\n",
              "        [0., 0., 0., 1., 0., 0., 0., 0., 0., 0., 0., 0., 0., 0., 0.],\n",
              "        [0., 0., 0., 0., 1., 0., 0., 0., 0., 0., 0., 0., 0., 0., 0.],\n",
              "        [0., 0., 0., 0., 0., 1., 0., 0., 0., 0., 0., 0., 0., 0., 0.],\n",
              "        [0., 0., 0., 0., 0., 0., 1., 0., 0., 0., 0., 0., 0., 0., 0.],\n",
              "        [0., 0., 0., 0., 0., 0., 0., 1., 0., 0., 0., 0., 0., 0., 0.],\n",
              "        [0., 0., 0., 0., 0., 0., 0., 0., 1., 0., 0., 0., 0., 0., 0.],\n",
              "        [0., 0., 0., 0., 0., 0., 0., 0., 0., 1., 0., 0., 0., 0., 0.],\n",
              "        [0., 0., 0., 0., 0., 0., 0., 0., 0., 0., 1., 0., 0., 0., 0.],\n",
              "        [0., 0., 0., 0., 0., 0., 0., 0., 0., 0., 0., 1., 0., 0., 0.],\n",
              "        [1., 0., 0., 0., 0., 0., 0., 0., 0., 0., 0., 0., 0., 0., 0.],\n",
              "        [0., 1., 0., 0., 0., 0., 0., 0., 0., 0., 0., 0., 0., 0., 0.]],\n",
              "       dtype=float32)>, TensorShape([180040, 15]))"
            ]
          },
          "metadata": {},
          "execution_count": 76
        }
      ]
    },
    {
      "cell_type": "markdown",
      "source": [
        "Now we have encoded our line numbers feature, let's do the same for our total lines feature."
      ],
      "metadata": {
        "id": "4jOJq6eRsRmF"
      }
    },
    {
      "cell_type": "code",
      "source": [
        "train_df[\"total_lines\"].value_counts()"
      ],
      "metadata": {
        "colab": {
          "base_uri": "https://localhost:8080/"
        },
        "id": "M89FM90ssmrg",
        "outputId": "007478a9-bde0-4fe2-b811-4b6808c9095d"
      },
      "execution_count": 77,
      "outputs": [
        {
          "output_type": "execute_result",
          "data": {
            "text/plain": [
              "11    24468\n",
              "10    23639\n",
              "12    22113\n",
              "9     19400\n",
              "13    18438\n",
              "14    14610\n",
              "8     12285\n",
              "15    10768\n",
              "7      7464\n",
              "16     7429\n",
              "17     5202\n",
              "6      3353\n",
              "18     3344\n",
              "19     2480\n",
              "20     1281\n",
              "5      1146\n",
              "21      770\n",
              "22      759\n",
              "23      264\n",
              "4       215\n",
              "24      200\n",
              "25      182\n",
              "26       81\n",
              "28       58\n",
              "3        32\n",
              "30       31\n",
              "27       28\n",
              "Name: total_lines, dtype: int64"
            ]
          },
          "metadata": {},
          "execution_count": 77
        }
      ]
    },
    {
      "cell_type": "code",
      "source": [
        "train_df[\"total_lines\"].plot.hist(bins=25);"
      ],
      "metadata": {
        "colab": {
          "base_uri": "https://localhost:8080/",
          "height": 265
        },
        "id": "Bg92LiJjspzj",
        "outputId": "c26223f8-a3c3-45aa-98ec-4c4c26bf0cc2"
      },
      "execution_count": 78,
      "outputs": [
        {
          "output_type": "display_data",
          "data": {
            "text/plain": [
              "<Figure size 432x288 with 1 Axes>"
            ],
            "image/png": "[encoded data removed]"
          },
          "metadata": {
            "needs_background": "light"
          }
        }
      ]
    },
    {
      "cell_type": "markdown",
      "source": [
        "As the vast majority of **`total_lines`** values are less to or equal to **20**, we will use **20** as the depth of our one-hot-encoded tensors"
      ],
      "metadata": {
        "id": "f9oOjWu4tNuE"
      }
    },
    {
      "cell_type": "code",
      "source": [
        "# Use TensorFlow to create one-hot-encoded tensors of our \"total_lines\" feature\n",
        "train_total_lines_one_hot = tf.one_hot(train_df.total_lines.to_numpy(), depth=20)\n",
        "val_total_lines_one_hot = tf.one_hot(val_df.total_lines.to_numpy(), depth=20)\n",
        "test_total_lines_one_hot = tf.one_hot(test_df.total_lines.to_numpy(), depth=20)\n",
        "train_total_lines_one_hot[:10], train_total_lines_one_hot.shape"
      ],
      "metadata": {
        "colab": {
          "base_uri": "https://localhost:8080/"
        },
        "id": "A1aba91Is5oZ",
        "outputId": "92fc870f-3ee4-410f-a54a-eb25a3577a47"
      },
      "execution_count": 79,
      "outputs": [
        {
          "output_type": "execute_result",
          "data": {
            "text/plain": [
              "(<tf.Tensor: shape=(10, 20), dtype=float32, numpy=\n",
              " array([[0., 0., 0., 0., 0., 0., 0., 0., 0., 0., 0., 1., 0., 0., 0., 0.,\n",
              "         0., 0., 0., 0.],\n",
              "        [0., 0., 0., 0., 0., 0., 0., 0., 0., 0., 0., 1., 0., 0., 0., 0.,\n",
              "         0., 0., 0., 0.],\n",
              "        [0., 0., 0., 0., 0., 0., 0., 0., 0., 0., 0., 1., 0., 0., 0., 0.,\n",
              "         0., 0., 0., 0.],\n",
              "        [0., 0., 0., 0., 0., 0., 0., 0., 0., 0., 0., 1., 0., 0., 0., 0.,\n",
              "         0., 0., 0., 0.],\n",
              "        [0., 0., 0., 0., 0., 0., 0., 0., 0., 0., 0., 1., 0., 0., 0., 0.,\n",
              "         0., 0., 0., 0.],\n",
              "        [0., 0., 0., 0., 0., 0., 0., 0., 0., 0., 0., 1., 0., 0., 0., 0.,\n",
              "         0., 0., 0., 0.],\n",
              "        [0., 0., 0., 0., 0., 0., 0., 0., 0., 0., 0., 1., 0., 0., 0., 0.,\n",
              "         0., 0., 0., 0.],\n",
              "        [0., 0., 0., 0., 0., 0., 0., 0., 0., 0., 0., 1., 0., 0., 0., 0.,\n",
              "         0., 0., 0., 0.],\n",
              "        [0., 0., 0., 0., 0., 0., 0., 0., 0., 0., 0., 1., 0., 0., 0., 0.,\n",
              "         0., 0., 0., 0.],\n",
              "        [0., 0., 0., 0., 0., 0., 0., 0., 0., 0., 0., 1., 0., 0., 0., 0.,\n",
              "         0., 0., 0., 0.]], dtype=float32)>, TensorShape([180040, 20]))"
            ]
          },
          "metadata": {},
          "execution_count": 79
        }
      ]
    },
    {
      "cell_type": "markdown",
      "source": [
        "#### Building a tribrid embedding model\n",
        "\n",
        "1. Create a token-level model\n",
        "2. Create a character-level model\n",
        "3. Create a model for the `line_number` feature\n",
        "4. create a model for `total_lines` feature\n",
        "5. Combine the outputs of 1 & 2 using `tf.keras.layers.Concatenate`\n",
        "6. Combine the outputs of 3 & 4 & 5 using `tf.keras.layers.Concatenate`\n",
        "7. Create an output layer to accept the tribried embedding and output label probabilities \n",
        "8. Combine the inputs of 1, 2, 3, 4 adn outputs of into a `tf.keras.Model`"
      ],
      "metadata": {
        "id": "gh-OnA4Vt6-z"
      }
    },
    {
      "cell_type": "code",
      "source": [
        "# 1. Token-level model\n",
        "token_inputs = layers.Input(shape=[], dtype=tf.string, name=\"token_inputs\")\n",
        "token_embeddings = tf_hub_embedding_layer(token_inputs)\n",
        "token_outputs = layers.Dense(128, activation=\"relu\")(token_embeddings)\n",
        "token_model = tf.keras.Model(inputs=token_inputs,\n",
        "                             outputs=token_outputs,\n",
        "                             name=\"Token_Level_Model\")\n",
        "\n",
        "\n",
        "# 2. Char-Level model\n",
        "char_inputs = layers.Input(shape=(1,), dtype=tf.string, name=\"char_inputs\")\n",
        "char_vectors = char_vectorizer(char_inputs)\n",
        "char_embeddings = char_embed(char_vectors)\n",
        "char_bi_lstm = layers.Bidirectional(layers.LSTM(24))(char_embeddings)\n",
        "char_model = tf.keras.Model(inputs=char_inputs,\n",
        "                            outputs=char_bi_lstm,\n",
        "                            name=\"Character_Level_Model\")\n",
        "\n",
        "# 3. Line_Number Model\n",
        "line_number_inputs = layers.Input(shape=(15,), dtype=tf.float32, name=\"line_number_input\")\n",
        "x = layers.Dense(32, activation=\"relu\")(line_number_inputs)\n",
        "line_number_model = tf.keras.Model(inputs=line_number_inputs,\n",
        "                                   outputs=x,\n",
        "                                   name=\"Line_Number_Model\")\n",
        "\n",
        "# 4. Total_Lines Model\n",
        "total_lines_inputs = layers.Input(shape=(20,), dtype=tf.float32, name=\"total_lines_input\")\n",
        "y = layers.Dense(32, activation=\"relu\")(total_lines_inputs)\n",
        "total_lines_model = tf.keras.Model(inputs=total_lines_inputs,\n",
        "                                   outputs=y,\n",
        "                                   name=\"Total_Lines_Model\")\n",
        "\n",
        "# 5. Combine Token_Level Model and the Char_Level Model\n",
        "combine_embeddings = layers.Concatenate(name=\"char_token_hybrid_embedding\")([token_model.output,\n",
        "                                                                             char_model.output])\n",
        "z = layers.Dense(256, activation=\"relu\")(combine_embeddings)\n",
        "z = layers.Dropout(0.5)(z)\n",
        "\n",
        "# 6. Combine positional embedding with combined token and char embeddings\n",
        "tribrid_embeddings = layers.Concatenate(name=\"char_token_positional_embedding\")([line_number_model.output,\n",
        "                                                                                 total_lines_model.output,\n",
        "                                                                                 z])\n",
        "\n",
        "# 7. Create the output layer\n",
        "output_layer = layers.Dense(num_classes, activation=\"softmax\", name=\"output_layer\")(tribrid_embeddings)\n",
        "\n",
        "# 8. Put together model with all kinds of inputs\n",
        "model_5 = tf.keras.Model(inputs=[line_number_model.input,\n",
        "                                total_lines_model.input,\n",
        "                                token_model.input,\n",
        "                                char_model.input],\n",
        "                         outputs=output_layer,\n",
        "                         name=\"model_5_tribrid_embedding_model\")"
      ],
      "metadata": {
        "id": "s2KdPib4u81W"
      },
      "execution_count": 80,
      "outputs": []
    },
    {
      "cell_type": "code",
      "source": [
        "model_5.summary()"
      ],
      "metadata": {
        "colab": {
          "base_uri": "https://localhost:8080/"
        },
        "id": "wwsinUTvzA66",
        "outputId": "3a242910-cb37-4004-994d-1c5328a99c39"
      },
      "execution_count": 81,
      "outputs": [
        {
          "output_type": "stream",
          "name": "stdout",
          "text": [
            "Model: \"model_5_tribrid_embedding_model\"\n",
            "__________________________________________________________________________________________________\n",
            " Layer (type)                   Output Shape         Param #     Connected to                     \n",
            "==================================================================================================\n",
            " char_inputs (InputLayer)       [(None, 1)]          0           []                               \n",
            "                                                                                                  \n",
            " token_inputs (InputLayer)      [(None,)]            0           []                               \n",
            "                                                                                                  \n",
            " char_vectorizer (TextVectoriza  (None, 290)         0           ['char_inputs[0][0]']            \n",
            " tion)                                                                                            \n",
            "                                                                                                  \n",
            " universal_sentence_encoder (Ke  (None, 512)         256797824   ['token_inputs[0][0]']           \n",
            " rasLayer)                                                                                        \n",
            "                                                                                                  \n",
            " char_embed (Embedding)         (None, 290, 25)      700         ['char_vectorizer[2][0]']        \n",
            "                                                                                                  \n",
            " dense_7 (Dense)                (None, 128)          65664       ['universal_sentence_encoder[2][0\n",
            "                                                                 ]']                              \n",
            "                                                                                                  \n",
            " bidirectional_1 (Bidirectional  (None, 48)          9600        ['char_embed[2][0]']             \n",
            " )                                                                                                \n",
            "                                                                                                  \n",
            " char_token_hybrid_embedding (C  (None, 176)         0           ['dense_7[0][0]',                \n",
            " oncatenate)                                                      'bidirectional_1[0][0]']        \n",
            "                                                                                                  \n",
            " line_number_input (InputLayer)  [(None, 15)]        0           []                               \n",
            "                                                                                                  \n",
            " total_lines_input (InputLayer)  [(None, 20)]        0           []                               \n",
            "                                                                                                  \n",
            " dense_10 (Dense)               (None, 256)          45312       ['char_token_hybrid_embedding[0][\n",
            "                                                                 0]']                             \n",
            "                                                                                                  \n",
            " dense_8 (Dense)                (None, 32)           512         ['line_number_input[0][0]']      \n",
            "                                                                                                  \n",
            " dense_9 (Dense)                (None, 32)           672         ['total_lines_input[0][0]']      \n",
            "                                                                                                  \n",
            " dropout_2 (Dropout)            (None, 256)          0           ['dense_10[0][0]']               \n",
            "                                                                                                  \n",
            " char_token_positional_embeddin  (None, 320)         0           ['dense_8[0][0]',                \n",
            " g (Concatenate)                                                  'dense_9[0][0]',                \n",
            "                                                                  'dropout_2[0][0]']              \n",
            "                                                                                                  \n",
            " output_layer (Dense)           (None, 5)            1605        ['char_token_positional_embedding\n",
            "                                                                 [0][0]']                         \n",
            "                                                                                                  \n",
            "==================================================================================================\n",
            "Total params: 256,921,889\n",
            "Trainable params: 124,065\n",
            "Non-trainable params: 256,797,824\n",
            "__________________________________________________________________________________________________\n"
          ]
        }
      ]
    },
    {
      "cell_type": "code",
      "source": [
        "# Plot model_5 to explore it visually...\n",
        "from tensorflow.keras.utils import plot_model\n",
        "plot_model(model_5, show_shapes=True)"
      ],
      "metadata": {
        "colab": {
          "base_uri": "https://localhost:8080/",
          "height": 829
        },
        "id": "SE_CVg1N0eIV",
        "outputId": "05644258-768c-4fb9-ee00-d3acfd1db325"
      },
      "execution_count": 82,
      "outputs": [
        {
          "output_type": "execute_result",
          "data": {
            "image/png": "[encoded data removed]",
            "text/plain": [
              "<IPython.core.display.Image object>"
            ]
          },
          "metadata": {},
          "execution_count": 82
        }
      ]
    },
    {
      "cell_type": "code",
      "source": [
        "# Compile the model\n",
        "model_5.compile(loss=tf.keras.losses.CategoricalCrossentropy(label_smoothing=0.2),\n",
        "                optimizer=\"Adam\",\n",
        "                metrics=[\"accuracy\"])"
      ],
      "metadata": {
        "id": "pMrhfpHB0vNt"
      },
      "execution_count": 83,
      "outputs": []
    },
    {
      "cell_type": "markdown",
      "source": [
        "#### Create tribrid embedding datasets using tf.data"
      ],
      "metadata": {
        "id": "C27RtTrP2Nxx"
      }
    },
    {
      "cell_type": "code",
      "source": [
        "# Create training and validation datasets with all four kinds of input data\n",
        "train_char_token_pos_data = tf.data.Dataset.from_tensor_slices((train_line_number_one_hot,\n",
        "                                                                train_total_lines_one_hot,\n",
        "                                                                train_sentences,\n",
        "                                                                train_chars))\n",
        "train_char_token_pos_labels = tf.data.Dataset.from_tensor_slices(train_labels_one_hot)\n",
        "train_char_token_pos_dataset = tf.data.Dataset.zip((train_char_token_pos_data, train_char_token_pos_labels))\n",
        "train_char_token_pos_dataset = train_char_token_pos_dataset.batch(32).prefetch(tf.data.AUTOTUNE)\n",
        "\n",
        "# Do the same for validation dataset\n",
        "val_char_token_pos_data = tf.data.Dataset.from_tensor_slices((val_line_number_one_hot,\n",
        "                                                              val_total_lines_one_hot,\n",
        "                                                              val_sentences,\n",
        "                                                              val_chars))\n",
        "val_char_token_pos_labels = tf.data.Dataset.from_tensor_slices(val_labels_one_hot)\n",
        "val_char_token_pos_dataset = tf.data.Dataset.zip((val_char_token_pos_data, val_char_token_pos_labels))\n",
        "val_char_token_pos_dataset = val_char_token_pos_dataset.batch(32).prefetch(tf.data.AUTOTUNE)\n",
        "\n"
      ],
      "metadata": {
        "id": "tUMjmYvA2hdv"
      },
      "execution_count": 84,
      "outputs": []
    },
    {
      "cell_type": "code",
      "source": [
        "# Check input shape\n",
        "train_char_token_pos_dataset, val_char_token_pos_dataset"
      ],
      "metadata": {
        "colab": {
          "base_uri": "https://localhost:8080/"
        },
        "id": "Wk7z17VD5yck",
        "outputId": "7c4bb928-cf6e-486b-86f0-fbdc1fdc7ffc"
      },
      "execution_count": 85,
      "outputs": [
        {
          "output_type": "execute_result",
          "data": {
            "text/plain": [
              "(<PrefetchDataset element_spec=((TensorSpec(shape=(None, 15), dtype=tf.float32, name=None), TensorSpec(shape=(None, 20), dtype=tf.float32, name=None), TensorSpec(shape=(None,), dtype=tf.string, name=None), TensorSpec(shape=(None,), dtype=tf.string, name=None)), TensorSpec(shape=(None, 5), dtype=tf.float64, name=None))>,\n",
              " <PrefetchDataset element_spec=((TensorSpec(shape=(None, 15), dtype=tf.float32, name=None), TensorSpec(shape=(None, 20), dtype=tf.float32, name=None), TensorSpec(shape=(None,), dtype=tf.string, name=None), TensorSpec(shape=(None,), dtype=tf.string, name=None)), TensorSpec(shape=(None, 5), dtype=tf.float64, name=None))>)"
            ]
          },
          "metadata": {},
          "execution_count": 85
        }
      ]
    },
    {
      "cell_type": "markdown",
      "source": [
        "#### Fit, evaluate, and make predictions with model_5"
      ],
      "metadata": {
        "id": "OaCcvxsq6Fzp"
      }
    },
    {
      "cell_type": "code",
      "source": [
        "# Fit our tribrid embedding model\n",
        "history_model_5 = model_5.fit(train_char_token_pos_dataset,\n",
        "                              epochs=3,\n",
        "                              steps_per_epoch=int(0.1 * len(train_char_token_pos_dataset)),\n",
        "                              validation_data=val_char_token_pos_dataset,\n",
        "                              validation_steps=int(0.1 * len(val_char_token_pos_dataset)))"
      ],
      "metadata": {
        "colab": {
          "base_uri": "https://localhost:8080/"
        },
        "id": "-almIoSx7cft",
        "outputId": "d3440e4e-2cb9-4749-a91e-2d15ce5a7921"
      },
      "execution_count": 86,
      "outputs": [
        {
          "output_type": "stream",
          "name": "stdout",
          "text": [
            "Epoch 1/3\n",
            "562/562 [==============================] - 27s 40ms/step - loss: 1.0992 - accuracy: 0.7233 - val_loss: 0.9810 - val_accuracy: 0.8092\n",
            "Epoch 2/3\n",
            "562/562 [==============================] - 23s 41ms/step - loss: 0.9686 - accuracy: 0.8165 - val_loss: 0.9492 - val_accuracy: 0.8301\n",
            "Epoch 3/3\n",
            "562/562 [==============================] - 22s 39ms/step - loss: 0.9524 - accuracy: 0.8216 - val_loss: 0.9368 - val_accuracy: 0.8341\n"
          ]
        }
      ]
    },
    {
      "cell_type": "code",
      "source": [
        "# Evaluate the model\n",
        "model_5.evaluate(val_char_token_pos_dataset)"
      ],
      "metadata": {
        "colab": {
          "base_uri": "https://localhost:8080/"
        },
        "id": "B6BXwaot72TN",
        "outputId": "b649570c-217a-4138-fa0f-777cec9dc879"
      },
      "execution_count": 87,
      "outputs": [
        {
          "output_type": "stream",
          "name": "stdout",
          "text": [
            "945/945 [==============================] - 23s 24ms/step - loss: 0.9378 - accuracy: 0.8313\n"
          ]
        },
        {
          "output_type": "execute_result",
          "data": {
            "text/plain": [
              "[0.9377655982971191, 0.8313252925872803]"
            ]
          },
          "metadata": {},
          "execution_count": 87
        }
      ]
    },
    {
      "cell_type": "code",
      "source": [
        "# Make predicitons\n",
        "model_5_pred_probs = model_5.predict(val_char_token_pos_dataset)\n",
        "model_5_preds = tf.argmax(model_5_pred_probs, axis=1)\n",
        "\n",
        "# Caculate results\n",
        "model_5_results = calculate_results(val_labels_encoded,\n",
        "                                    model_5_preds)\n",
        "model_5_results"
      ],
      "metadata": {
        "colab": {
          "base_uri": "https://localhost:8080/"
        },
        "id": "yAVfBKcM8GIB",
        "outputId": "6625a244-2910-4edc-8663-bba4ec7a1bdf"
      },
      "execution_count": 88,
      "outputs": [
        {
          "output_type": "stream",
          "name": "stdout",
          "text": [
            "945/945 [==============================] - 30s 31ms/step\n"
          ]
        },
        {
          "output_type": "execute_result",
          "data": {
            "text/plain": [
              "{'accuracy': 83.13253012048193,\n",
              " 'precision': 0.8299569602499689,\n",
              " 'recall': 0.8313253012048193,\n",
              " 'f1': 0.8303285593557591}"
            ]
          },
          "metadata": {},
          "execution_count": 88
        }
      ]
    },
    {
      "cell_type": "markdown",
      "source": [
        "### Model 6: custom token embeddings + character embeddings + postional embeddings   \n",
        "\n",
        "\n",
        "Mixing between Model 1 and Model 5 \n"
      ],
      "metadata": {
        "id": "iq5YAJAnAVkt"
      }
    },
    {
      "cell_type": "markdown",
      "source": [
        "#### Building a tribrid embedding model with custom token embeddings\n",
        "\n",
        "1. Create a token-level model using Conv1D layer **Same as model_1**\n",
        "2. Create a character-level model **Same as model_5**\n",
        "3. Create a model for the `line_number` feature **Same as model_5**\n",
        "4. create a model for `total_lines` feature **Same as model_5**\n",
        "5. Combine the outputs of 1 & 2 using `tf.keras.layers.Concatenate` **Same as model_5**\n",
        "6. Combine the outputs of 3 & 4 `tf.keras.layers.Concatenate` \n",
        "7. Combine the outputs of 5 & 6 `tf.keras.layers.Concatenate` \n",
        "8. Create an output layer to accept the tribried embedding and output label probabilities **Same as model_5**\n",
        "9. Combine the inputs of 1, 2, 3, 4 adn outputs of into a `tf.keras.Model` **Same as model_5**"
      ],
      "metadata": {
        "id": "dmgFgGrOAzfS"
      }
    },
    {
      "cell_type": "code",
      "source": [
        "# 1. Token-level model\n",
        "inputs = layers.Input(shape=(1,), dtype=tf.string)\n",
        "text_vectors = text_vectorizer(inputs) # vectorize the inputs\n",
        "token_embedding = token_embed(text_vectors) # Create embeddings\n",
        "x = layers.Conv1D(64, kernel_size=5, padding=\"same\", activation=\"relu\")(token_embedding)\n",
        "x = layers.GlobalAveragePooling1D()(x)\n",
        "\n",
        "token_model = tf.keras.Model(inputs=inputs,\n",
        "                             outputs =x,\n",
        "                             name=\"Token_Level_Model\")\n",
        "\n",
        "# 2. Char-Level model\n",
        "char_inputs = layers.Input(shape=(1,), dtype=tf.string, name=\"char_inputs\")\n",
        "char_vectors = char_vectorizer(char_inputs)\n",
        "char_embeddings = char_embed(char_vectors)\n",
        "char_bi_lstm = layers.Bidirectional(layers.LSTM(24))(char_embeddings)\n",
        "char_model = tf.keras.Model(inputs=char_inputs,\n",
        "                            outputs=char_bi_lstm,\n",
        "                            name=\"Character_Level_Model\")\n",
        "\n",
        "# 3. Line_Number Model\n",
        "line_number_inputs = layers.Input(shape=(15,), dtype=tf.float32, name=\"line_number_input\")\n",
        "x = layers.Dense(32, activation=\"relu\")(line_number_inputs)\n",
        "line_number_model = tf.keras.Model(inputs=line_number_inputs,\n",
        "                                   outputs=x,\n",
        "                                   name=\"Line_Number_Model\")\n",
        "\n",
        "# 4. Total_Lines Model\n",
        "total_lines_inputs = layers.Input(shape=(20,), dtype=tf.float32, name=\"total_lines_input\")\n",
        "y = layers.Dense(32, activation=\"relu\")(total_lines_inputs)\n",
        "total_lines_model = tf.keras.Model(inputs=total_lines_inputs,\n",
        "                                   outputs=y,\n",
        "                                   name=\"Total_Lines_Model\")\n",
        "\n",
        "# 5. Combine Token_Level Model and the Char_Level Model\n",
        "combine_embeddings = layers.Concatenate(name=\"char_token_hybrid_embedding\")([token_model.output,\n",
        "                                                                             char_model.output])\n",
        "z = layers.Dense(256, activation=\"relu\")(combine_embeddings)\n",
        "z = layers.Dropout(0.5)(z)\n",
        "\n",
        "# 6. Combine line_number model and total_lines model\n",
        "postional_embeddings = layers.Concatenate(name=\"positional_embedding\")([line_number_model.output,\n",
        "                                                                        total_lines_model.output])\n",
        "\n",
        "# 7. Combine positional embedding with combined token and char embeddings\n",
        "tribrid_embeddings = layers.Concatenate(name=\"char_token_positional_embedding\")([postional_embeddings,\n",
        "                                                                                 z])\n",
        "\n",
        "# 8. Create the output layer\n",
        "output_layer = layers.Dense(num_classes, activation=\"softmax\", name=\"output_layer\")(tribrid_embeddings)\n",
        "\n",
        "# 9. Put together model with all kinds of inputs\n",
        "model_6 = tf.keras.Model(inputs=[line_number_model.input,\n",
        "                                total_lines_model.input,\n",
        "                                token_model.input,\n",
        "                                char_model.input],\n",
        "                         outputs=output_layer,\n",
        "                         name=\"model_6_tribrid_embedding_model\")"
      ],
      "metadata": {
        "id": "MBusfVyQBBr6"
      },
      "execution_count": 89,
      "outputs": []
    },
    {
      "cell_type": "code",
      "source": [
        "model_6.compile(loss=tf.keras.losses.CategoricalCrossentropy(label_smoothing=0.2),\n",
        "                optimizer=\"Adam\",\n",
        "                metrics=[\"accuracy\"])"
      ],
      "metadata": {
        "id": "NJ9_RKFSHmmQ"
      },
      "execution_count": 90,
      "outputs": []
    },
    {
      "cell_type": "code",
      "source": [
        "# Plot model\n",
        "plot_model(model_6, show_shapes=True)"
      ],
      "metadata": {
        "colab": {
          "base_uri": "https://localhost:8080/",
          "height": 804
        },
        "id": "t3IECC9ONOqb",
        "outputId": "918633a4-288c-498b-da49-1319ba3887b7"
      },
      "execution_count": 91,
      "outputs": [
        {
          "output_type": "execute_result",
          "data": {
            "image/png": "[encoded data removed]",
            "text/plain": [
              "<IPython.core.display.Image object>"
            ]
          },
          "metadata": {},
          "execution_count": 91
        }
      ]
    },
    {
      "cell_type": "code",
      "source": [
        "# Fit our tribrid embedding model\n",
        "history_model_6 = model_6.fit(train_char_token_pos_dataset,\n",
        "                              epochs=3,\n",
        "                              steps_per_epoch=int(0.1 * len(train_char_token_pos_dataset)),\n",
        "                              validation_data=val_char_token_pos_dataset,\n",
        "                              validation_steps=int(0.1 * len(val_char_token_pos_dataset)))"
      ],
      "metadata": {
        "colab": {
          "base_uri": "https://localhost:8080/"
        },
        "id": "RkNWYOOHHV7l",
        "outputId": "9b5bbe88-0ec4-4f78-d78f-fa4ea9d18938"
      },
      "execution_count": 92,
      "outputs": [
        {
          "output_type": "stream",
          "name": "stdout",
          "text": [
            "Epoch 1/3\n",
            "562/562 [==============================] - 24s 33ms/step - loss: 1.0091 - accuracy: 0.7946 - val_loss: 0.9329 - val_accuracy: 0.8447\n",
            "Epoch 2/3\n",
            "562/562 [==============================] - 18s 32ms/step - loss: 0.8964 - accuracy: 0.8698 - val_loss: 0.9204 - val_accuracy: 0.8361\n",
            "Epoch 3/3\n",
            "562/562 [==============================] - 17s 31ms/step - loss: 0.8823 - accuracy: 0.8783 - val_loss: 0.9092 - val_accuracy: 0.8431\n"
          ]
        }
      ]
    },
    {
      "cell_type": "code",
      "source": [
        "# Evaluate the model\n",
        "model_6.evaluate(val_char_token_pos_dataset)"
      ],
      "metadata": {
        "colab": {
          "base_uri": "https://localhost:8080/"
        },
        "id": "5nN-UTeYHzMu",
        "outputId": "6ea67b9d-f58e-4200-bf03-7329d63ffbeb"
      },
      "execution_count": 93,
      "outputs": [
        {
          "output_type": "stream",
          "name": "stdout",
          "text": [
            "945/945 [==============================] - 12s 12ms/step - loss: 0.9054 - accuracy: 0.8473\n"
          ]
        },
        {
          "output_type": "execute_result",
          "data": {
            "text/plain": [
              "[0.9053918123245239, 0.847312331199646]"
            ]
          },
          "metadata": {},
          "execution_count": 93
        }
      ]
    },
    {
      "cell_type": "code",
      "source": [
        "# Make predicitons\n",
        "model_6_pred_probs = model_6.predict(val_char_token_pos_dataset)\n",
        "model_6_preds = tf.argmax(model_6_pred_probs, axis=1)\n",
        "\n",
        "# Caculate results\n",
        "model_6_results = calculate_results(val_labels_encoded,\n",
        "                                    model_6_preds)\n",
        "model_6_results"
      ],
      "metadata": {
        "colab": {
          "base_uri": "https://localhost:8080/"
        },
        "id": "8xVswYycMTA3",
        "outputId": "8740f836-dc4d-43d7-d477-7050c328cdeb"
      },
      "execution_count": 94,
      "outputs": [
        {
          "output_type": "stream",
          "name": "stdout",
          "text": [
            "945/945 [==============================] - 12s 12ms/step\n"
          ]
        },
        {
          "output_type": "execute_result",
          "data": {
            "text/plain": [
              "{'accuracy': 84.73123262279888,\n",
              " 'precision': 0.8462362654957363,\n",
              " 'recall': 0.8473123262279889,\n",
              " 'f1': 0.8461190782727588}"
            ]
          },
          "metadata": {},
          "execution_count": 94
        }
      ]
    },
    {
      "cell_type": "markdown",
      "source": [
        "## Compare model results"
      ],
      "metadata": {
        "id": "w__gQpP88uwW"
      }
    },
    {
      "cell_type": "code",
      "source": [
        "# Combine model results into a dataframe\n",
        "all_models_results = pd.DataFrame({\"model_0_baseline\":model_0_results,\n",
        "                                   \"model_1_custom_token_embedding\":model_1_results,\n",
        "                                   \"model_2_pretrained_token_embedding\":model_2_results,\n",
        "                                   \"model_3_custom_char_embedding\":model_3_results,\n",
        "                                   \"model_4_hybrid_char_token_embedding\":model_4_results,\n",
        "                                   \"model_5_pos_char_token_embedding\":model_5_results,\n",
        "                                   \"model_6_custom_char_token_+_pos_embedding\":model_6_results})\n",
        "\n",
        "all_models_results = all_models_results.T\n",
        "all_models_results"
      ],
      "metadata": {
        "colab": {
          "base_uri": "https://localhost:8080/",
          "height": 269
        },
        "id": "Fp1q7cWMObvI",
        "outputId": "7c127b36-50d6-40b0-afe6-93810ba2706f"
      },
      "execution_count": 95,
      "outputs": [
        {
          "output_type": "execute_result",
          "data": {
            "text/plain": [
              "                                            accuracy  precision    recall  \\\n",
              "model_0_baseline                           72.183238   0.718647  0.721832   \n",
              "model_1_custom_token_embedding             78.700516   0.784128  0.787005   \n",
              "model_2_pretrained_token_embedding         71.547729   0.715671  0.715477   \n",
              "model_3_custom_char_embedding              68.376804   0.676956  0.683768   \n",
              "model_4_hybrid_char_token_embedding        73.229180   0.735213  0.732292   \n",
              "model_5_pos_char_token_embedding           83.132530   0.829957  0.831325   \n",
              "model_6_custom_char_token_+_pos_embedding  84.731233   0.846236  0.847312   \n",
              "\n",
              "                                                 f1  \n",
              "model_0_baseline                           0.698925  \n",
              "model_1_custom_token_embedding             0.784686  \n",
              "model_2_pretrained_token_embedding         0.712439  \n",
              "model_3_custom_char_embedding              0.673858  \n",
              "model_4_hybrid_char_token_embedding        0.729608  \n",
              "model_5_pos_char_token_embedding           0.830329  \n",
              "model_6_custom_char_token_+_pos_embedding  0.846119  "
            ],
            "text/html": [
              "\n",
              "  <div id=\"df-2a013b91-fe9a-44fa-864d-691469e95a19\">\n",
              "    <div class=\"colab-df-container\">\n",
              "      <div>\n",
              "<style scoped>\n",
              "    .dataframe tbody tr th:only-of-type {\n",
              "        vertical-align: middle;\n",
              "    }\n",
              "\n",
              "    .dataframe tbody tr th {\n",
              "        vertical-align: top;\n",
              "    }\n",
              "\n",
              "    .dataframe thead th {\n",
              "        text-align: right;\n",
              "    }\n",
              "</style>\n",
              "<table border=\"1\" class=\"dataframe\">\n",
              "  <thead>\n",
              "    <tr style=\"text-align: right;\">\n",
              "      <th></th>\n",
              "      <th>accuracy</th>\n",
              "      <th>precision</th>\n",
              "      <th>recall</th>\n",
              "      <th>f1</th>\n",
              "    </tr>\n",
              "  </thead>\n",
              "  <tbody>\n",
              "    <tr>\n",
              "      <th>model_0_baseline</th>\n",
              "      <td>72.183238</td>\n",
              "      <td>0.718647</td>\n",
              "      <td>0.721832</td>\n",
              "      <td>0.698925</td>\n",
              "    </tr>\n",
              "    <tr>\n",
              "      <th>model_1_custom_token_embedding</th>\n",
              "      <td>78.700516</td>\n",
              "      <td>0.784128</td>\n",
              "      <td>0.787005</td>\n",
              "      <td>0.784686</td>\n",
              "    </tr>\n",
              "    <tr>\n",
              "      <th>model_2_pretrained_token_embedding</th>\n",
              "      <td>71.547729</td>\n",
              "      <td>0.715671</td>\n",
              "      <td>0.715477</td>\n",
              "      <td>0.712439</td>\n",
              "    </tr>\n",
              "    <tr>\n",
              "      <th>model_3_custom_char_embedding</th>\n",
              "      <td>68.376804</td>\n",
              "      <td>0.676956</td>\n",
              "      <td>0.683768</td>\n",
              "      <td>0.673858</td>\n",
              "    </tr>\n",
              "    <tr>\n",
              "      <th>model_4_hybrid_char_token_embedding</th>\n",
              "      <td>73.229180</td>\n",
              "      <td>0.735213</td>\n",
              "      <td>0.732292</td>\n",
              "      <td>0.729608</td>\n",
              "    </tr>\n",
              "    <tr>\n",
              "      <th>model_5_pos_char_token_embedding</th>\n",
              "      <td>83.132530</td>\n",
              "      <td>0.829957</td>\n",
              "      <td>0.831325</td>\n",
              "      <td>0.830329</td>\n",
              "    </tr>\n",
              "    <tr>\n",
              "      <th>model_6_custom_char_token_+_pos_embedding</th>\n",
              "      <td>84.731233</td>\n",
              "      <td>0.846236</td>\n",
              "      <td>0.847312</td>\n",
              "      <td>0.846119</td>\n",
              "    </tr>\n",
              "  </tbody>\n",
              "</table>\n",
              "</div>\n",
              "      <button class=\"colab-df-convert\" onclick=\"convertToInteractive('df-2a013b91-fe9a-44fa-864d-691469e95a19')\"\n",
              "              title=\"Convert this dataframe to an interactive table.\"\n",
              "              style=\"display:none;\">\n",
              "        \n",
              "  <svg xmlns=\"http://www.w3.org/2000/svg\" height=\"24px\"viewBox=\"0 0 24 24\"\n",
              "       width=\"24px\">\n",
              "    <path d=\"M0 0h24v24H0V0z\" fill=\"none\"/>\n",
              "    <path d=\"M18.56 5.44l.94 2.06.94-2.06 2.06-.94-2.06-.94-.94-2.06-.94 2.06-2.06.94zm-11 1L8.5 8.5l.94-2.06 2.06-.94-2.06-.94L8.5 2.5l-.94 2.06-2.06.94zm10 10l.94 2.06.94-2.06 2.06-.94-2.06-.94-.94-2.06-.94 2.06-2.06.94z\"/><path d=\"M17.41 7.96l-1.37-1.37c-.4-.4-.92-.59-1.43-.59-.52 0-1.04.2-1.43.59L10.3 9.45l-7.72 7.72c-.78.78-.78 2.05 0 2.83L4 21.41c.39.39.9.59 1.41.59.51 0 1.02-.2 1.41-.59l7.78-7.78 2.81-2.81c.8-.78.8-2.07 0-2.86zM5.41 20L4 18.59l7.72-7.72 1.47 1.35L5.41 20z\"/>\n",
              "  </svg>\n",
              "      </button>\n",
              "      \n",
              "  <style>\n",
              "    .colab-df-container {\n",
              "      display:flex;\n",
              "      flex-wrap:wrap;\n",
              "      gap: 12px;\n",
              "    }\n",
              "\n",
              "    .colab-df-convert {\n",
              "      background-color: #E8F0FE;\n",
              "      border: none;\n",
              "      border-radius: 50%;\n",
              "      cursor: pointer;\n",
              "      display: none;\n",
              "      fill: #1967D2;\n",
              "      height: 32px;\n",
              "      padding: 0 0 0 0;\n",
              "      width: 32px;\n",
              "    }\n",
              "\n",
              "    .colab-df-convert:hover {\n",
              "      background-color: #E2EBFA;\n",
              "      box-shadow: 0px 1px 2px rgba(60, 64, 67, 0.3), 0px 1px 3px 1px rgba(60, 64, 67, 0.15);\n",
              "      fill: #174EA6;\n",
              "    }\n",
              "\n",
              "    [theme=dark] .colab-df-convert {\n",
              "      background-color: #3B4455;\n",
              "      fill: #D2E3FC;\n",
              "    }\n",
              "\n",
              "    [theme=dark] .colab-df-convert:hover {\n",
              "      background-color: #434B5C;\n",
              "      box-shadow: 0px 1px 3px 1px rgba(0, 0, 0, 0.15);\n",
              "      filter: drop-shadow(0px 1px 2px rgba(0, 0, 0, 0.3));\n",
              "      fill: #FFFFFF;\n",
              "    }\n",
              "  </style>\n",
              "\n",
              "      <script>\n",
              "        const buttonEl =\n",
              "          document.querySelector('#df-2a013b91-fe9a-44fa-864d-691469e95a19 button.colab-df-convert');\n",
              "        buttonEl.style.display =\n",
              "          google.colab.kernel.accessAllowed ? 'block' : 'none';\n",
              "\n",
              "        async function convertToInteractive(key) {\n",
              "          const element = document.querySelector('#df-2a013b91-fe9a-44fa-864d-691469e95a19');\n",
              "          const dataTable =\n",
              "            await google.colab.kernel.invokeFunction('convertToInteractive',\n",
              "                                                     [key], {});\n",
              "          if (!dataTable) return;\n",
              "\n",
              "          const docLinkHtml = 'Like what you see? Visit the ' +\n",
              "            '<a target=\"_blank\" href=https://colab.research.google.com/notebooks/data_table.ipynb>data table notebook</a>'\n",
              "            + ' to learn more about interactive tables.';\n",
              "          element.innerHTML = '';\n",
              "          dataTable['output_type'] = 'display_data';\n",
              "          await google.colab.output.renderOutput(dataTable, element);\n",
              "          const docLink = document.createElement('div');\n",
              "          docLink.innerHTML = docLinkHtml;\n",
              "          element.appendChild(docLink);\n",
              "        }\n",
              "      </script>\n",
              "    </div>\n",
              "  </div>\n",
              "  "
            ]
          },
          "metadata": {},
          "execution_count": 95
        }
      ]
    },
    {
      "cell_type": "code",
      "source": [
        "# Reduce the accuracy to same scale as other metrics\n",
        "all_models_results[\"accuracy\"] = all_models_results[\"accuracy\"]/100"
      ],
      "metadata": {
        "id": "Esw27ZEe-7Y7"
      },
      "execution_count": 96,
      "outputs": []
    },
    {
      "cell_type": "code",
      "source": [
        "# Plot and compare all model results\n",
        "all_models_results.plot(kind=\"bar\", figsize=(10,7)).legend(bbox_to_anchor=(1.0,1.0));"
      ],
      "metadata": {
        "colab": {
          "base_uri": "https://localhost:8080/",
          "height": 660
        },
        "id": "BMFL8Vpt_RNP",
        "outputId": "42726ebd-5907-437e-d5f5-563fa8ff6aef"
      },
      "execution_count": 97,
      "outputs": [
        {
          "output_type": "display_data",
          "data": {
            "text/plain": [
              "<Figure size 720x504 with 1 Axes>"
            ],
            "image/png": "[encoded data removed]"
          },
          "metadata": {
            "needs_background": "light"
          }
        }
      ]
    },
    {
      "cell_type": "code",
      "source": [
        "# Sort models results by f1-score\n",
        "all_models_results.sort_values(\"f1\", ascending=False)[\"f1\"].plot(kind=\"bar\", figsize=(10,7));"
      ],
      "metadata": {
        "colab": {
          "base_uri": "https://localhost:8080/",
          "height": 660
        },
        "id": "PZbI-u1l_flJ",
        "outputId": "524ead6d-404f-4a48-9f3b-63ff90f3f9f1"
      },
      "execution_count": 98,
      "outputs": [
        {
          "output_type": "display_data",
          "data": {
            "text/plain": [
              "<Figure size 720x504 with 1 Axes>"
            ],
            "image/png": "[encoded data removed]"
          },
          "metadata": {
            "needs_background": "light"
          }
        }
      ]
    },
    {
      "cell_type": "markdown",
      "source": [
        "Based on the figures above, model_6 is best model we have created so far, and its performance is so close to model 5. Therefore, let's fit both of them on 100% of the PubMed_20k_RCT training dataset"
      ],
      "metadata": {
        "id": "gffRAwhTBizn"
      }
    },
    {
      "cell_type": "markdown",
      "source": [
        "### Fit model_5 on 100% of the training dataset of PubMed_20k_RCT"
      ],
      "metadata": {
        "id": "AE2dvbDePWSS"
      }
    },
    {
      "cell_type": "code",
      "source": [
        "history_model_5_extended = model_5.fit(train_char_token_pos_dataset,\n",
        "                                       epochs=6,\n",
        "                                       validation_data=val_char_token_pos_dataset,\n",
        "                                       validation_steps=int(0.1 * len(val_char_token_pos_dataset)),\n",
        "                                       initial_epoch=3)"
      ],
      "metadata": {
        "colab": {
          "base_uri": "https://localhost:8080/"
        },
        "id": "6hfPkjZsPp73",
        "outputId": "83fa7de7-f725-420f-f728-2f0c042cd47e"
      },
      "execution_count": 99,
      "outputs": [
        {
          "output_type": "stream",
          "name": "stdout",
          "text": [
            "Epoch 4/6\n",
            "5627/5627 [==============================] - 171s 30ms/step - loss: 0.9252 - accuracy: 0.8431 - val_loss: 0.9067 - val_accuracy: 0.8517\n",
            "Epoch 5/6\n",
            "5627/5627 [==============================] - 172s 30ms/step - loss: 0.9050 - accuracy: 0.8574 - val_loss: 0.9044 - val_accuracy: 0.8481\n",
            "Epoch 6/6\n",
            "5627/5627 [==============================] - 173s 31ms/step - loss: 0.8942 - accuracy: 0.8650 - val_loss: 0.8994 - val_accuracy: 0.8471\n"
          ]
        }
      ]
    },
    {
      "cell_type": "code",
      "source": [
        "# Evaluate the model\n",
        "model_5.evaluate(val_char_token_pos_dataset)"
      ],
      "metadata": {
        "colab": {
          "base_uri": "https://localhost:8080/"
        },
        "id": "oWKgI8plQiCr",
        "outputId": "ea463569-c736-4e9e-b6af-50c40b8a860c"
      },
      "execution_count": 100,
      "outputs": [
        {
          "output_type": "stream",
          "name": "stdout",
          "text": [
            "945/945 [==============================] - 20s 21ms/step - loss: 0.8957 - accuracy: 0.8566\n"
          ]
        },
        {
          "output_type": "execute_result",
          "data": {
            "text/plain": [
              "[0.8957453370094299, 0.8566463589668274]"
            ]
          },
          "metadata": {},
          "execution_count": 100
        }
      ]
    },
    {
      "cell_type": "code",
      "source": [
        "# Make predicitons\n",
        "model_5_pred_probs = model_5.predict(val_char_token_pos_dataset)\n",
        "model_5_preds = tf.argmax(model_5_pred_probs, axis=1)\n",
        "\n",
        "# Caculate results\n",
        "model_5_extended_results = calculate_results(val_labels_encoded,\n",
        "                                             model_5_preds)\n",
        "model_5_extended_results"
      ],
      "metadata": {
        "colab": {
          "base_uri": "https://localhost:8080/"
        },
        "id": "9UmyxqciQqsv",
        "outputId": "9423ffe5-7052-47c8-9a35-8cc7178e4504"
      },
      "execution_count": 101,
      "outputs": [
        {
          "output_type": "stream",
          "name": "stdout",
          "text": [
            "945/945 [==============================] - 19s 21ms/step\n"
          ]
        },
        {
          "output_type": "execute_result",
          "data": {
            "text/plain": [
              "{'accuracy': 85.66463656825103,\n",
              " 'precision': 0.8582798523948777,\n",
              " 'recall': 0.8566463656825103,\n",
              " 'f1': 0.8539888585241773}"
            ]
          },
          "metadata": {},
          "execution_count": 101
        }
      ]
    },
    {
      "cell_type": "markdown",
      "source": [
        "### Fit model_6 on 100% of the training dataset of PubMed_20k_RCT"
      ],
      "metadata": {
        "id": "_rbPGdoGQ_z1"
      }
    },
    {
      "cell_type": "code",
      "source": [
        "history_model_6_extended = model_6.fit(train_char_token_pos_dataset,\n",
        "                                       epochs=6,\n",
        "                                       validation_data=val_char_token_pos_dataset,\n",
        "                                       validation_steps=int(0.1 * len(val_char_token_pos_dataset)),\n",
        "                                       initial_epoch=3)"
      ],
      "metadata": {
        "colab": {
          "base_uri": "https://localhost:8080/"
        },
        "id": "DFt12_hQS1pQ",
        "outputId": "a512a135-61e4-455a-be1e-28bb1a3e031b"
      },
      "execution_count": 102,
      "outputs": [
        {
          "output_type": "stream",
          "name": "stdout",
          "text": [
            "Epoch 4/6\n",
            "5627/5627 [==============================] - 141s 25ms/step - loss: 0.8830 - accuracy: 0.8752 - val_loss: 0.8899 - val_accuracy: 0.8610\n",
            "Epoch 5/6\n",
            "5627/5627 [==============================] - 140s 25ms/step - loss: 0.8458 - accuracy: 0.9003 - val_loss: 0.8841 - val_accuracy: 0.8650\n",
            "Epoch 6/6\n",
            "5627/5627 [==============================] - 142s 25ms/step - loss: 0.8109 - accuracy: 0.9254 - val_loss: 0.8983 - val_accuracy: 0.8527\n"
          ]
        }
      ]
    },
    {
      "cell_type": "code",
      "source": [
        "# Evaluate the model\n",
        "model_6.evaluate(val_char_token_pos_dataset)"
      ],
      "metadata": {
        "colab": {
          "base_uri": "https://localhost:8080/"
        },
        "id": "lZmP-Sw4S80o",
        "outputId": "5eae304b-aa8a-44b9-d271-03bbeb08446e"
      },
      "execution_count": 103,
      "outputs": [
        {
          "output_type": "stream",
          "name": "stdout",
          "text": [
            "945/945 [==============================] - 11s 12ms/step - loss: 0.8884 - accuracy: 0.8627\n"
          ]
        },
        {
          "output_type": "execute_result",
          "data": {
            "text/plain": [
              "[0.8884270787239075, 0.8627035617828369]"
            ]
          },
          "metadata": {},
          "execution_count": 103
        }
      ]
    },
    {
      "cell_type": "code",
      "source": [
        "# Make predicitons\n",
        "model_6_pred_probs = model_6.predict(val_char_token_pos_dataset)\n",
        "model_6_preds = tf.argmax(model_6_pred_probs, axis=1)\n",
        "\n",
        "# Caculate results\n",
        "model_6_extended_results = calculate_results(val_labels_encoded,\n",
        "                                             model_6_preds)\n",
        "model_6_extended_results"
      ],
      "metadata": {
        "colab": {
          "base_uri": "https://localhost:8080/"
        },
        "id": "DloHhOQJS-RI",
        "outputId": "2c7bc6bb-6f12-4d73-ae72-a906601bf078"
      },
      "execution_count": 104,
      "outputs": [
        {
          "output_type": "stream",
          "name": "stdout",
          "text": [
            "945/945 [==============================] - 11s 12ms/step\n"
          ]
        },
        {
          "output_type": "execute_result",
          "data": {
            "text/plain": [
              "{'accuracy': 86.27035614987422,\n",
              " 'precision': 0.8630037049982107,\n",
              " 'recall': 0.8627035614987422,\n",
              " 'f1': 0.8606837096334893}"
            ]
          },
          "metadata": {},
          "execution_count": 104
        }
      ]
    },
    {
      "cell_type": "code",
      "source": [
        "# Combine model results into a dataframe\n",
        "extended_results = pd.DataFrame({\"model_5_original\":model_5_results,\n",
        "                                 \"model_6_original\":model_6_results,\n",
        "                                 \"model_5_extended\":model_5_extended_results,\n",
        "                                 \"model_6_extended\":model_6_extended_results})\n",
        "\n",
        "extended_results = extended_results.T\n",
        "extended_results"
      ],
      "metadata": {
        "colab": {
          "base_uri": "https://localhost:8080/",
          "height": 175
        },
        "id": "kx15BtG8Ux0S",
        "outputId": "33b4724e-7613-482b-cb44-d9545451cacb"
      },
      "execution_count": 105,
      "outputs": [
        {
          "output_type": "execute_result",
          "data": {
            "text/plain": [
              "                   accuracy  precision    recall        f1\n",
              "model_5_original  83.132530   0.829957  0.831325  0.830329\n",
              "model_6_original  84.731233   0.846236  0.847312  0.846119\n",
              "model_5_extended  85.664637   0.858280  0.856646  0.853989\n",
              "model_6_extended  86.270356   0.863004  0.862704  0.860684"
            ],
            "text/html": [
              "\n",
              "  <div id=\"df-ee7467c5-c5c0-4c35-9b27-6e7746ab7f79\">\n",
              "    <div class=\"colab-df-container\">\n",
              "      <div>\n",
              "<style scoped>\n",
              "    .dataframe tbody tr th:only-of-type {\n",
              "        vertical-align: middle;\n",
              "    }\n",
              "\n",
              "    .dataframe tbody tr th {\n",
              "        vertical-align: top;\n",
              "    }\n",
              "\n",
              "    .dataframe thead th {\n",
              "        text-align: right;\n",
              "    }\n",
              "</style>\n",
              "<table border=\"1\" class=\"dataframe\">\n",
              "  <thead>\n",
              "    <tr style=\"text-align: right;\">\n",
              "      <th></th>\n",
              "      <th>accuracy</th>\n",
              "      <th>precision</th>\n",
              "      <th>recall</th>\n",
              "      <th>f1</th>\n",
              "    </tr>\n",
              "  </thead>\n",
              "  <tbody>\n",
              "    <tr>\n",
              "      <th>model_5_original</th>\n",
              "      <td>83.132530</td>\n",
              "      <td>0.829957</td>\n",
              "      <td>0.831325</td>\n",
              "      <td>0.830329</td>\n",
              "    </tr>\n",
              "    <tr>\n",
              "      <th>model_6_original</th>\n",
              "      <td>84.731233</td>\n",
              "      <td>0.846236</td>\n",
              "      <td>0.847312</td>\n",
              "      <td>0.846119</td>\n",
              "    </tr>\n",
              "    <tr>\n",
              "      <th>model_5_extended</th>\n",
              "      <td>85.664637</td>\n",
              "      <td>0.858280</td>\n",
              "      <td>0.856646</td>\n",
              "      <td>0.853989</td>\n",
              "    </tr>\n",
              "    <tr>\n",
              "      <th>model_6_extended</th>\n",
              "      <td>86.270356</td>\n",
              "      <td>0.863004</td>\n",
              "      <td>0.862704</td>\n",
              "      <td>0.860684</td>\n",
              "    </tr>\n",
              "  </tbody>\n",
              "</table>\n",
              "</div>\n",
              "      <button class=\"colab-df-convert\" onclick=\"convertToInteractive('df-ee7467c5-c5c0-4c35-9b27-6e7746ab7f79')\"\n",
              "              title=\"Convert this dataframe to an interactive table.\"\n",
              "              style=\"display:none;\">\n",
              "        \n",
              "  <svg xmlns=\"http://www.w3.org/2000/svg\" height=\"24px\"viewBox=\"0 0 24 24\"\n",
              "       width=\"24px\">\n",
              "    <path d=\"M0 0h24v24H0V0z\" fill=\"none\"/>\n",
              "    <path d=\"M18.56 5.44l.94 2.06.94-2.06 2.06-.94-2.06-.94-.94-2.06-.94 2.06-2.06.94zm-11 1L8.5 8.5l.94-2.06 2.06-.94-2.06-.94L8.5 2.5l-.94 2.06-2.06.94zm10 10l.94 2.06.94-2.06 2.06-.94-2.06-.94-.94-2.06-.94 2.06-2.06.94z\"/><path d=\"M17.41 7.96l-1.37-1.37c-.4-.4-.92-.59-1.43-.59-.52 0-1.04.2-1.43.59L10.3 9.45l-7.72 7.72c-.78.78-.78 2.05 0 2.83L4 21.41c.39.39.9.59 1.41.59.51 0 1.02-.2 1.41-.59l7.78-7.78 2.81-2.81c.8-.78.8-2.07 0-2.86zM5.41 20L4 18.59l7.72-7.72 1.47 1.35L5.41 20z\"/>\n",
              "  </svg>\n",
              "      </button>\n",
              "      \n",
              "  <style>\n",
              "    .colab-df-container {\n",
              "      display:flex;\n",
              "      flex-wrap:wrap;\n",
              "      gap: 12px;\n",
              "    }\n",
              "\n",
              "    .colab-df-convert {\n",
              "      background-color: #E8F0FE;\n",
              "      border: none;\n",
              "      border-radius: 50%;\n",
              "      cursor: pointer;\n",
              "      display: none;\n",
              "      fill: #1967D2;\n",
              "      height: 32px;\n",
              "      padding: 0 0 0 0;\n",
              "      width: 32px;\n",
              "    }\n",
              "\n",
              "    .colab-df-convert:hover {\n",
              "      background-color: #E2EBFA;\n",
              "      box-shadow: 0px 1px 2px rgba(60, 64, 67, 0.3), 0px 1px 3px 1px rgba(60, 64, 67, 0.15);\n",
              "      fill: #174EA6;\n",
              "    }\n",
              "\n",
              "    [theme=dark] .colab-df-convert {\n",
              "      background-color: #3B4455;\n",
              "      fill: #D2E3FC;\n",
              "    }\n",
              "\n",
              "    [theme=dark] .colab-df-convert:hover {\n",
              "      background-color: #434B5C;\n",
              "      box-shadow: 0px 1px 3px 1px rgba(0, 0, 0, 0.15);\n",
              "      filter: drop-shadow(0px 1px 2px rgba(0, 0, 0, 0.3));\n",
              "      fill: #FFFFFF;\n",
              "    }\n",
              "  </style>\n",
              "\n",
              "      <script>\n",
              "        const buttonEl =\n",
              "          document.querySelector('#df-ee7467c5-c5c0-4c35-9b27-6e7746ab7f79 button.colab-df-convert');\n",
              "        buttonEl.style.display =\n",
              "          google.colab.kernel.accessAllowed ? 'block' : 'none';\n",
              "\n",
              "        async function convertToInteractive(key) {\n",
              "          const element = document.querySelector('#df-ee7467c5-c5c0-4c35-9b27-6e7746ab7f79');\n",
              "          const dataTable =\n",
              "            await google.colab.kernel.invokeFunction('convertToInteractive',\n",
              "                                                     [key], {});\n",
              "          if (!dataTable) return;\n",
              "\n",
              "          const docLinkHtml = 'Like what you see? Visit the ' +\n",
              "            '<a target=\"_blank\" href=https://colab.research.google.com/notebooks/data_table.ipynb>data table notebook</a>'\n",
              "            + ' to learn more about interactive tables.';\n",
              "          element.innerHTML = '';\n",
              "          dataTable['output_type'] = 'display_data';\n",
              "          await google.colab.output.renderOutput(dataTable, element);\n",
              "          const docLink = document.createElement('div');\n",
              "          docLink.innerHTML = docLinkHtml;\n",
              "          element.appendChild(docLink);\n",
              "        }\n",
              "      </script>\n",
              "    </div>\n",
              "  </div>\n",
              "  "
            ]
          },
          "metadata": {},
          "execution_count": 105
        }
      ]
    },
    {
      "cell_type": "code",
      "source": [
        "# Reduce the accuracy to same scale as other metrics\n",
        "extended_results[\"accuracy\"] = extended_results[\"accuracy\"]/100\n",
        "\n",
        "# Plot and compare all model results\n",
        "extended_results.plot(kind=\"bar\", figsize=(10,7)).legend(bbox_to_anchor=(1.0,1.0));"
      ],
      "metadata": {
        "colab": {
          "base_uri": "https://localhost:8080/",
          "height": 513
        },
        "id": "c8Ynbj-NVFNc",
        "outputId": "6e5cc456-4b6a-4096-932d-53b31a6d40f1"
      },
      "execution_count": 106,
      "outputs": [
        {
          "output_type": "display_data",
          "data": {
            "text/plain": [
              "<Figure size 720x504 with 1 Axes>"
            ],
            "image/png": "[encoded data removed]"
          },
          "metadata": {
            "needs_background": "light"
          }
        }
      ]
    },
    {
      "cell_type": "code",
      "source": [
        "# Sort models results by f1-score\n",
        "extended_results.sort_values(\"f1\", ascending=False)[\"f1\"].plot(kind=\"bar\", figsize=(10,7));"
      ],
      "metadata": {
        "colab": {
          "base_uri": "https://localhost:8080/",
          "height": 513
        },
        "id": "EmhhYLg7VRyI",
        "outputId": "1c5a61e2-bb26-4eed-8d84-6266e1bda604"
      },
      "execution_count": 107,
      "outputs": [
        {
          "output_type": "display_data",
          "data": {
            "text/plain": [
              "<Figure size 720x504 with 1 Axes>"
            ],
            "image/png": "[encoded data removed]"
          },
          "metadata": {
            "needs_background": "light"
          }
        }
      ]
    },
    {
      "cell_type": "code",
      "source": [
        "def compare_models_histories(model_1_history, model_1_extended_history, model_2_history, model_2_extended_history, initial_epochs=3):\n",
        "   \n",
        "    # Get original history measurements for model 1\n",
        "    model_1_acc = model_1_history.history[\"accuracy\"]\n",
        "    model_1_loss = model_1_history.history[\"loss\"]\n",
        "\n",
        "    model_1_val_acc = model_1_history.history[\"val_accuracy\"]\n",
        "    model_1_val_loss = model_1_history.history[\"val_loss\"]\n",
        "\n",
        "    # Combine original history with new history\n",
        "    model_1_total_acc = model_1_acc + model_1_extended_history.history[\"accuracy\"]\n",
        "    model_1_total_loss = model_1_loss + model_1_extended_history.history[\"loss\"]\n",
        "\n",
        "    model_1_total_val_acc = model_1_val_acc + model_1_extended_history.history[\"val_accuracy\"]\n",
        "    model_1_total_val_loss = model_1_val_loss + model_1_extended_history.history[\"val_loss\"]\n",
        "\n",
        "\n",
        "    # Do the same for model 2\n",
        "    model_2_acc = model_2_history.history[\"accuracy\"]\n",
        "    model_2_loss = model_2_history.history[\"loss\"]\n",
        "\n",
        "    model_2_val_acc = model_2_history.history[\"val_accuracy\"]\n",
        "    model_2_val_loss = model_2_history.history[\"val_loss\"]\n",
        "\n",
        "    model_2_total_acc = model_2_acc + model_2_extended_history.history[\"accuracy\"]\n",
        "    model_2_total_loss = model_2_loss + model_2_extended_history.history[\"loss\"]\n",
        "\n",
        "    model_2_total_val_acc = model_2_val_acc + model_2_extended_history.history[\"val_accuracy\"]\n",
        "    model_2_total_val_loss = model_2_val_loss + model_2_extended_history.history[\"val_loss\"]\n",
        "\n",
        "    # Make plots\n",
        "    plt.figure(figsize=(16, 16))\n",
        "    plt.subplot(2, 2, 1)\n",
        "    plt.plot(model_1_total_acc, label='Training Accuracy Model 1')\n",
        "    plt.plot(model_1_total_val_acc, label='Validation Accuracy Model 1')\n",
        "    plt.plot([initial_epochs-1, initial_epochs-1],\n",
        "              plt.ylim(), label='Start Fine Tuning') # reshift plot around epochs\n",
        "    plt.legend(loc='lower right')\n",
        "    plt.title('Training and Validation Accuracy For model 1')\n",
        "\n",
        "    plt.subplot(2, 2, 2)\n",
        "    plt.plot(model_1_total_loss, label='Training Loss Model 1')\n",
        "    plt.plot(model_1_total_val_loss, label='Validation Loss Model 1')\n",
        "    plt.plot([initial_epochs-1, initial_epochs-1],\n",
        "              plt.ylim(), label='Start Fine Tuning') # reshift plot around epochs\n",
        "    plt.legend(loc='upper right')\n",
        "    plt.title('Training and Validation Loss For Model 1')\n",
        "\n",
        "    plt.subplot(2, 2, 3)\n",
        "    plt.plot(model_2_total_acc, label='Training Accuracy Model 2')\n",
        "    plt.plot(model_2_total_val_acc, label='Validation Accuracy Model 2')\n",
        "    plt.plot([initial_epochs-1, initial_epochs-1],\n",
        "              plt.ylim(), label='Start Fine Tuning') # reshift plot around epochs\n",
        "    plt.legend(loc='lower right')\n",
        "    plt.title('Training and Validation Accuracy For model 2')\n",
        "\n",
        "    plt.subplot(2, 2, 4)\n",
        "    plt.plot(model_2_total_loss, label='Training Loss Model 2')\n",
        "    plt.plot(model_2_total_val_loss, label='Validation Loss Model 2')\n",
        "    plt.plot([initial_epochs-1, initial_epochs-1],\n",
        "              plt.ylim(), label='Start Fine Tuning') # reshift plot around epochs\n",
        "    plt.legend(loc='upper right')\n",
        "    plt.title('Training and Validation Loss For Model 2')\n",
        "    plt.xlabel('epoch')\n",
        "    plt.show()"
      ],
      "metadata": {
        "id": "PzGoKjMYF1b1"
      },
      "execution_count": 108,
      "outputs": []
    },
    {
      "cell_type": "code",
      "source": [
        "compare_models_histories(history_model_5, history_model_5_extended, history_model_6, history_model_6_extended)"
      ],
      "metadata": {
        "colab": {
          "base_uri": "https://localhost:8080/",
          "height": 948
        },
        "id": "lrCQVLzJL6Ij",
        "outputId": "36f800fd-5839-4e0c-ecb5-c3702afbf541"
      },
      "execution_count": 109,
      "outputs": [
        {
          "output_type": "display_data",
          "data": {
            "text/plain": [
              "<Figure size 1152x1152 with 4 Axes>"
            ],
            "image/png": "[encoded data removed]"
          },
          "metadata": {
            "needs_background": "light"
          }
        }
      ]
    },
    {
      "cell_type": "markdown",
      "source": [
        "Based on all of the above, though model 6 has a slightly better overall metrics, it is more vulnerable of overfitting than model 5, therefore, we will use model 5 for the rest of this notebook."
      ],
      "metadata": {
        "id": "6ZuMZX5wXOi_"
      }
    },
    {
      "cell_type": "markdown",
      "source": [
        "## Model-Driven Data Exploration"
      ],
      "metadata": {
        "id": "dXX9sdweN6RI"
      }
    },
    {
      "cell_type": "markdown",
      "source": [
        "### Create test Dataset"
      ],
      "metadata": {
        "id": "O_1Z1NNfRDoO"
      }
    },
    {
      "cell_type": "code",
      "source": [
        "# Create test dataset with all four kinds of input data\n",
        "test_data = tf.data.Dataset.from_tensor_slices((test_line_number_one_hot,\n",
        "                                                 test_total_lines_one_hot,\n",
        "                                                 test_sentences,\n",
        "                                                 test_chars))\n",
        "test_labels = tf.data.Dataset.from_tensor_slices(test_labels_one_hot)\n",
        "test_dataset = tf.data.Dataset.zip((test_data, test_labels))\n",
        "test_dataset = test_dataset.batch(32).prefetch(tf.data.AUTOTUNE)"
      ],
      "metadata": {
        "id": "XH5mB9nPP5Wc"
      },
      "execution_count": 116,
      "outputs": []
    },
    {
      "cell_type": "markdown",
      "source": [
        "### Find results of the model on test data"
      ],
      "metadata": {
        "id": "Y4ravRpyRAdz"
      }
    },
    {
      "cell_type": "code",
      "source": [
        "# Make predictions on the test dataset\n",
        "test_pred_probs = model_5.predict(test_dataset,\n",
        "                                  verbose=1)\n",
        "test_preds = tf.argmax(test_pred_probs, axis=1)\n",
        "test_preds[:10]"
      ],
      "metadata": {
        "colab": {
          "base_uri": "https://localhost:8080/"
        },
        "id": "r1NIvPECQk8S",
        "outputId": "142ad104-a950-43f6-b869-fb4cd4ad2a39"
      },
      "execution_count": 119,
      "outputs": [
        {
          "output_type": "stream",
          "name": "stdout",
          "text": [
            "942/942 [==============================] - 19s 20ms/step\n"
          ]
        },
        {
          "output_type": "execute_result",
          "data": {
            "text/plain": [
              "<tf.Tensor: shape=(10,), dtype=int64, numpy=array([0, 2, 2, 2, 4, 4, 4, 1, 1, 0])>"
            ]
          },
          "metadata": {},
          "execution_count": 119
        }
      ]
    },
    {
      "cell_type": "code",
      "source": [
        "test_results = calculate_results(y_true=test_labels_encoded,\n",
        "                                 y_pred=test_preds)\n",
        "test_results"
      ],
      "metadata": {
        "colab": {
          "base_uri": "https://localhost:8080/"
        },
        "id": "otM7jUSlQ1V9",
        "outputId": "0ab1753a-be08-4a9e-e251-244c6981e90a"
      },
      "execution_count": 120,
      "outputs": [
        {
          "output_type": "execute_result",
          "data": {
            "text/plain": [
              "{'accuracy': 84.93446158951386,\n",
              " 'precision': 0.8514838990959823,\n",
              " 'recall': 0.8493446158951385,\n",
              " 'f1': 0.8450002565697295}"
            ]
          },
          "metadata": {},
          "execution_count": 120
        }
      ]
    },
    {
      "cell_type": "markdown",
      "source": [
        "### Find most wrong predictions"
      ],
      "metadata": {
        "id": "DJMRov2HQ_uJ"
      }
    },
    {
      "cell_type": "code",
      "source": [
        "# Get list of class names of test predictions\n",
        "test_pred_classes = [label_encoder.classes_[pred] for pred in test_preds]\n",
        "test_pred_classes[:15]"
      ],
      "metadata": {
        "colab": {
          "base_uri": "https://localhost:8080/"
        },
        "id": "_XGk_aCXPqem",
        "outputId": "8c84a8e1-5af7-4416-d27b-d96a68919991"
      },
      "execution_count": 122,
      "outputs": [
        {
          "output_type": "execute_result",
          "data": {
            "text/plain": [
              "['BACKGROUND',\n",
              " 'METHODS',\n",
              " 'METHODS',\n",
              " 'METHODS',\n",
              " 'RESULTS',\n",
              " 'RESULTS',\n",
              " 'RESULTS',\n",
              " 'CONCLUSIONS',\n",
              " 'CONCLUSIONS',\n",
              " 'BACKGROUND',\n",
              " 'BACKGROUND',\n",
              " 'METHODS',\n",
              " 'METHODS',\n",
              " 'METHODS',\n",
              " 'RESULTS']"
            ]
          },
          "metadata": {},
          "execution_count": 122
        }
      ]
    },
    {
      "cell_type": "code",
      "source": [
        "# Add prediction information to the dataset\n",
        "test_df[\"prediction\"] = test_pred_classes # create column with test prediction class names\n",
        "test_df[\"pred_prob\"] = tf.reduce_max(test_pred_probs, axis=1).numpy() # get the maximum prediction probability\n",
        "test_df[\"correct\"] = np.equal(test_df[\"prediction\"], test_df[\"target\"]) # create binary column for whether the prediction is right or not\n",
        "test_df.head(20)"
      ],
      "metadata": {
        "colab": {
          "base_uri": "https://localhost:8080/",
          "height": 676
        },
        "id": "nWwvLm5xPrze",
        "outputId": "55fe1261-9404-405e-cec3-e5352179c7d4"
      },
      "execution_count": 123,
      "outputs": [
        {
          "output_type": "execute_result",
          "data": {
            "text/plain": [
              "    line_number       target  \\\n",
              "0             0   BACKGROUND   \n",
              "1             1      RESULTS   \n",
              "2             2      RESULTS   \n",
              "3             3      RESULTS   \n",
              "4             4      RESULTS   \n",
              "5             5      RESULTS   \n",
              "6             6      RESULTS   \n",
              "7             7  CONCLUSIONS   \n",
              "8             8  CONCLUSIONS   \n",
              "9             0   BACKGROUND   \n",
              "10            1   BACKGROUND   \n",
              "11            2      METHODS   \n",
              "12            3      METHODS   \n",
              "13            4      METHODS   \n",
              "14            5      RESULTS   \n",
              "15            6      RESULTS   \n",
              "16            7      RESULTS   \n",
              "17            8      RESULTS   \n",
              "18            9      RESULTS   \n",
              "19           10      RESULTS   \n",
              "\n",
              "                                                 text  total_lines  \\\n",
              "0   this study analyzed liver function abnormaliti...            8   \n",
              "1   a post hoc analysis was conducted with the use...            8   \n",
              "2   liver function tests ( lfts ) were measured at...            8   \n",
              "3   survival analyses were used to assess the asso...            8   \n",
              "4   the percentage of patients with abnormal lfts ...            8   \n",
              "5   when mean hemodynamic profiles were compared i...            8   \n",
              "6   multivariable analyses revealed that patients ...            8   \n",
              "7   abnormal lfts are common in the adhf populatio...            8   \n",
              "8   elevated meld-xi scores are associated with po...            8   \n",
              "9   minimally invasive endovascular aneurysm repai...           12   \n",
              "10  the aim of this study was to analyse the cost-...           12   \n",
              "11  resource use was determined from the amsterdam...           12   \n",
              "12  the analysis was performed from a provider per...           12   \n",
              "13  all costs were calculated as if all patients h...           12   \n",
              "14            a total of @ patients were randomized .           12   \n",
              "15  the @-day mortality rate was @ per cent after ...           12   \n",
              "16  at @months , the total mortality rate for evar...           12   \n",
              "17  the mean cost difference between evar and or w...           12   \n",
              "18  the incremental cost-effectiveness ratio per p...           12   \n",
              "19  there was no significant difference in quality...           12   \n",
              "\n",
              "     prediction  pred_prob  correct  \n",
              "0    BACKGROUND   0.356979     True  \n",
              "1       METHODS   0.640948    False  \n",
              "2       METHODS   0.810438    False  \n",
              "3       METHODS   0.822174    False  \n",
              "4       RESULTS   0.741115     True  \n",
              "5       RESULTS   0.842744     True  \n",
              "6       RESULTS   0.683361     True  \n",
              "7   CONCLUSIONS   0.758588     True  \n",
              "8   CONCLUSIONS   0.647147     True  \n",
              "9    BACKGROUND   0.653797     True  \n",
              "10   BACKGROUND   0.466097     True  \n",
              "11      METHODS   0.835102     True  \n",
              "12      METHODS   0.894755     True  \n",
              "13      METHODS   0.505389     True  \n",
              "14      RESULTS   0.849792     True  \n",
              "15      RESULTS   0.865018     True  \n",
              "16      RESULTS   0.913739     True  \n",
              "17      RESULTS   0.956320     True  \n",
              "18      RESULTS   0.893388     True  \n",
              "19      RESULTS   0.852809     True  "
            ],
            "text/html": [
              "\n",
              "  <div id=\"df-d69a8d8b-0535-4f2e-bcb7-81040cb5add5\">\n",
              "    <div class=\"colab-df-container\">\n",
              "      <div>\n",
              "<style scoped>\n",
              "    .dataframe tbody tr th:only-of-type {\n",
              "        vertical-align: middle;\n",
              "    }\n",
              "\n",
              "    .dataframe tbody tr th {\n",
              "        vertical-align: top;\n",
              "    }\n",
              "\n",
              "    .dataframe thead th {\n",
              "        text-align: right;\n",
              "    }\n",
              "</style>\n",
              "<table border=\"1\" class=\"dataframe\">\n",
              "  <thead>\n",
              "    <tr style=\"text-align: right;\">\n",
              "      <th></th>\n",
              "      <th>line_number</th>\n",
              "      <th>target</th>\n",
              "      <th>text</th>\n",
              "      <th>total_lines</th>\n",
              "      <th>prediction</th>\n",
              "      <th>pred_prob</th>\n",
              "      <th>correct</th>\n",
              "    </tr>\n",
              "  </thead>\n",
              "  <tbody>\n",
              "    <tr>\n",
              "      <th>0</th>\n",
              "      <td>0</td>\n",
              "      <td>BACKGROUND</td>\n",
              "      <td>this study analyzed liver function abnormaliti...</td>\n",
              "      <td>8</td>\n",
              "      <td>BACKGROUND</td>\n",
              "      <td>0.356979</td>\n",
              "      <td>True</td>\n",
              "    </tr>\n",
              "    <tr>\n",
              "      <th>1</th>\n",
              "      <td>1</td>\n",
              "      <td>RESULTS</td>\n",
              "      <td>a post hoc analysis was conducted with the use...</td>\n",
              "      <td>8</td>\n",
              "      <td>METHODS</td>\n",
              "      <td>0.640948</td>\n",
              "      <td>False</td>\n",
              "    </tr>\n",
              "    <tr>\n",
              "      <th>2</th>\n",
              "      <td>2</td>\n",
              "      <td>RESULTS</td>\n",
              "      <td>liver function tests ( lfts ) were measured at...</td>\n",
              "      <td>8</td>\n",
              "      <td>METHODS</td>\n",
              "      <td>0.810438</td>\n",
              "      <td>False</td>\n",
              "    </tr>\n",
              "    <tr>\n",
              "      <th>3</th>\n",
              "      <td>3</td>\n",
              "      <td>RESULTS</td>\n",
              "      <td>survival analyses were used to assess the asso...</td>\n",
              "      <td>8</td>\n",
              "      <td>METHODS</td>\n",
              "      <td>0.822174</td>\n",
              "      <td>False</td>\n",
              "    </tr>\n",
              "    <tr>\n",
              "      <th>4</th>\n",
              "      <td>4</td>\n",
              "      <td>RESULTS</td>\n",
              "      <td>the percentage of patients with abnormal lfts ...</td>\n",
              "      <td>8</td>\n",
              "      <td>RESULTS</td>\n",
              "      <td>0.741115</td>\n",
              "      <td>True</td>\n",
              "    </tr>\n",
              "    <tr>\n",
              "      <th>5</th>\n",
              "      <td>5</td>\n",
              "      <td>RESULTS</td>\n",
              "      <td>when mean hemodynamic profiles were compared i...</td>\n",
              "      <td>8</td>\n",
              "      <td>RESULTS</td>\n",
              "      <td>0.842744</td>\n",
              "      <td>True</td>\n",
              "    </tr>\n",
              "    <tr>\n",
              "      <th>6</th>\n",
              "      <td>6</td>\n",
              "      <td>RESULTS</td>\n",
              "      <td>multivariable analyses revealed that patients ...</td>\n",
              "      <td>8</td>\n",
              "      <td>RESULTS</td>\n",
              "      <td>0.683361</td>\n",
              "      <td>True</td>\n",
              "    </tr>\n",
              "    <tr>\n",
              "      <th>7</th>\n",
              "      <td>7</td>\n",
              "      <td>CONCLUSIONS</td>\n",
              "      <td>abnormal lfts are common in the adhf populatio...</td>\n",
              "      <td>8</td>\n",
              "      <td>CONCLUSIONS</td>\n",
              "      <td>0.758588</td>\n",
              "      <td>True</td>\n",
              "    </tr>\n",
              "    <tr>\n",
              "      <th>8</th>\n",
              "      <td>8</td>\n",
              "      <td>CONCLUSIONS</td>\n",
              "      <td>elevated meld-xi scores are associated with po...</td>\n",
              "      <td>8</td>\n",
              "      <td>CONCLUSIONS</td>\n",
              "      <td>0.647147</td>\n",
              "      <td>True</td>\n",
              "    </tr>\n",
              "    <tr>\n",
              "      <th>9</th>\n",
              "      <td>0</td>\n",
              "      <td>BACKGROUND</td>\n",
              "      <td>minimally invasive endovascular aneurysm repai...</td>\n",
              "      <td>12</td>\n",
              "      <td>BACKGROUND</td>\n",
              "      <td>0.653797</td>\n",
              "      <td>True</td>\n",
              "    </tr>\n",
              "    <tr>\n",
              "      <th>10</th>\n",
              "      <td>1</td>\n",
              "      <td>BACKGROUND</td>\n",
              "      <td>the aim of this study was to analyse the cost-...</td>\n",
              "      <td>12</td>\n",
              "      <td>BACKGROUND</td>\n",
              "      <td>0.466097</td>\n",
              "      <td>True</td>\n",
              "    </tr>\n",
              "    <tr>\n",
              "      <th>11</th>\n",
              "      <td>2</td>\n",
              "      <td>METHODS</td>\n",
              "      <td>resource use was determined from the amsterdam...</td>\n",
              "      <td>12</td>\n",
              "      <td>METHODS</td>\n",
              "      <td>0.835102</td>\n",
              "      <td>True</td>\n",
              "    </tr>\n",
              "    <tr>\n",
              "      <th>12</th>\n",
              "      <td>3</td>\n",
              "      <td>METHODS</td>\n",
              "      <td>the analysis was performed from a provider per...</td>\n",
              "      <td>12</td>\n",
              "      <td>METHODS</td>\n",
              "      <td>0.894755</td>\n",
              "      <td>True</td>\n",
              "    </tr>\n",
              "    <tr>\n",
              "      <th>13</th>\n",
              "      <td>4</td>\n",
              "      <td>METHODS</td>\n",
              "      <td>all costs were calculated as if all patients h...</td>\n",
              "      <td>12</td>\n",
              "      <td>METHODS</td>\n",
              "      <td>0.505389</td>\n",
              "      <td>True</td>\n",
              "    </tr>\n",
              "    <tr>\n",
              "      <th>14</th>\n",
              "      <td>5</td>\n",
              "      <td>RESULTS</td>\n",
              "      <td>a total of @ patients were randomized .</td>\n",
              "      <td>12</td>\n",
              "      <td>RESULTS</td>\n",
              "      <td>0.849792</td>\n",
              "      <td>True</td>\n",
              "    </tr>\n",
              "    <tr>\n",
              "      <th>15</th>\n",
              "      <td>6</td>\n",
              "      <td>RESULTS</td>\n",
              "      <td>the @-day mortality rate was @ per cent after ...</td>\n",
              "      <td>12</td>\n",
              "      <td>RESULTS</td>\n",
              "      <td>0.865018</td>\n",
              "      <td>True</td>\n",
              "    </tr>\n",
              "    <tr>\n",
              "      <th>16</th>\n",
              "      <td>7</td>\n",
              "      <td>RESULTS</td>\n",
              "      <td>at @months , the total mortality rate for evar...</td>\n",
              "      <td>12</td>\n",
              "      <td>RESULTS</td>\n",
              "      <td>0.913739</td>\n",
              "      <td>True</td>\n",
              "    </tr>\n",
              "    <tr>\n",
              "      <th>17</th>\n",
              "      <td>8</td>\n",
              "      <td>RESULTS</td>\n",
              "      <td>the mean cost difference between evar and or w...</td>\n",
              "      <td>12</td>\n",
              "      <td>RESULTS</td>\n",
              "      <td>0.956320</td>\n",
              "      <td>True</td>\n",
              "    </tr>\n",
              "    <tr>\n",
              "      <th>18</th>\n",
              "      <td>9</td>\n",
              "      <td>RESULTS</td>\n",
              "      <td>the incremental cost-effectiveness ratio per p...</td>\n",
              "      <td>12</td>\n",
              "      <td>RESULTS</td>\n",
              "      <td>0.893388</td>\n",
              "      <td>True</td>\n",
              "    </tr>\n",
              "    <tr>\n",
              "      <th>19</th>\n",
              "      <td>10</td>\n",
              "      <td>RESULTS</td>\n",
              "      <td>there was no significant difference in quality...</td>\n",
              "      <td>12</td>\n",
              "      <td>RESULTS</td>\n",
              "      <td>0.852809</td>\n",
              "      <td>True</td>\n",
              "    </tr>\n",
              "  </tbody>\n",
              "</table>\n",
              "</div>\n",
              "      <button class=\"colab-df-convert\" onclick=\"convertToInteractive('df-d69a8d8b-0535-4f2e-bcb7-81040cb5add5')\"\n",
              "              title=\"Convert this dataframe to an interactive table.\"\n",
              "              style=\"display:none;\">\n",
              "        \n",
              "  <svg xmlns=\"http://www.w3.org/2000/svg\" height=\"24px\"viewBox=\"0 0 24 24\"\n",
              "       width=\"24px\">\n",
              "    <path d=\"M0 0h24v24H0V0z\" fill=\"none\"/>\n",
              "    <path d=\"M18.56 5.44l.94 2.06.94-2.06 2.06-.94-2.06-.94-.94-2.06-.94 2.06-2.06.94zm-11 1L8.5 8.5l.94-2.06 2.06-.94-2.06-.94L8.5 2.5l-.94 2.06-2.06.94zm10 10l.94 2.06.94-2.06 2.06-.94-2.06-.94-.94-2.06-.94 2.06-2.06.94z\"/><path d=\"M17.41 7.96l-1.37-1.37c-.4-.4-.92-.59-1.43-.59-.52 0-1.04.2-1.43.59L10.3 9.45l-7.72 7.72c-.78.78-.78 2.05 0 2.83L4 21.41c.39.39.9.59 1.41.59.51 0 1.02-.2 1.41-.59l7.78-7.78 2.81-2.81c.8-.78.8-2.07 0-2.86zM5.41 20L4 18.59l7.72-7.72 1.47 1.35L5.41 20z\"/>\n",
              "  </svg>\n",
              "      </button>\n",
              "      \n",
              "  <style>\n",
              "    .colab-df-container {\n",
              "      display:flex;\n",
              "      flex-wrap:wrap;\n",
              "      gap: 12px;\n",
              "    }\n",
              "\n",
              "    .colab-df-convert {\n",
              "      background-color: #E8F0FE;\n",
              "      border: none;\n",
              "      border-radius: 50%;\n",
              "      cursor: pointer;\n",
              "      display: none;\n",
              "      fill: #1967D2;\n",
              "      height: 32px;\n",
              "      padding: 0 0 0 0;\n",
              "      width: 32px;\n",
              "    }\n",
              "\n",
              "    .colab-df-convert:hover {\n",
              "      background-color: #E2EBFA;\n",
              "      box-shadow: 0px 1px 2px rgba(60, 64, 67, 0.3), 0px 1px 3px 1px rgba(60, 64, 67, 0.15);\n",
              "      fill: #174EA6;\n",
              "    }\n",
              "\n",
              "    [theme=dark] .colab-df-convert {\n",
              "      background-color: #3B4455;\n",
              "      fill: #D2E3FC;\n",
              "    }\n",
              "\n",
              "    [theme=dark] .colab-df-convert:hover {\n",
              "      background-color: #434B5C;\n",
              "      box-shadow: 0px 1px 3px 1px rgba(0, 0, 0, 0.15);\n",
              "      filter: drop-shadow(0px 1px 2px rgba(0, 0, 0, 0.3));\n",
              "      fill: #FFFFFF;\n",
              "    }\n",
              "  </style>\n",
              "\n",
              "      <script>\n",
              "        const buttonEl =\n",
              "          document.querySelector('#df-d69a8d8b-0535-4f2e-bcb7-81040cb5add5 button.colab-df-convert');\n",
              "        buttonEl.style.display =\n",
              "          google.colab.kernel.accessAllowed ? 'block' : 'none';\n",
              "\n",
              "        async function convertToInteractive(key) {\n",
              "          const element = document.querySelector('#df-d69a8d8b-0535-4f2e-bcb7-81040cb5add5');\n",
              "          const dataTable =\n",
              "            await google.colab.kernel.invokeFunction('convertToInteractive',\n",
              "                                                     [key], {});\n",
              "          if (!dataTable) return;\n",
              "\n",
              "          const docLinkHtml = 'Like what you see? Visit the ' +\n",
              "            '<a target=\"_blank\" href=https://colab.research.google.com/notebooks/data_table.ipynb>data table notebook</a>'\n",
              "            + ' to learn more about interactive tables.';\n",
              "          element.innerHTML = '';\n",
              "          dataTable['output_type'] = 'display_data';\n",
              "          await google.colab.output.renderOutput(dataTable, element);\n",
              "          const docLink = document.createElement('div');\n",
              "          docLink.innerHTML = docLinkHtml;\n",
              "          element.appendChild(docLink);\n",
              "        }\n",
              "      </script>\n",
              "    </div>\n",
              "  </div>\n",
              "  "
            ]
          },
          "metadata": {},
          "execution_count": 123
        }
      ]
    },
    {
      "cell_type": "code",
      "source": [
        "# Get top 50 most wrong samples\n",
        "top_50_wrong = test_df[test_df[\"correct\"] == False].sort_values(\"pred_prob\", ascending=False)[:50]\n",
        "top_50_wrong"
      ],
      "metadata": {
        "colab": {
          "base_uri": "https://localhost:8080/",
          "height": 1000
        },
        "id": "bVLEU-WcRlM8",
        "outputId": "2967350c-1741-47f1-a503-06fbbf5061fe"
      },
      "execution_count": 124,
      "outputs": [
        {
          "output_type": "execute_result",
          "data": {
            "text/plain": [
              "       line_number       target  \\\n",
              "8545             1      METHODS   \n",
              "20427            1    OBJECTIVE   \n",
              "22736            4    OBJECTIVE   \n",
              "13874            4  CONCLUSIONS   \n",
              "29692            3      RESULTS   \n",
              "29294            4      RESULTS   \n",
              "3573             3      RESULTS   \n",
              "16780           16      METHODS   \n",
              "1827            18  CONCLUSIONS   \n",
              "4391            15  CONCLUSIONS   \n",
              "19223            7      METHODS   \n",
              "16580            4    OBJECTIVE   \n",
              "25104            4      RESULTS   \n",
              "18191            5      RESULTS   \n",
              "3574             4      RESULTS   \n",
              "2388             4      RESULTS   \n",
              "17777            3   BACKGROUND   \n",
              "13598            6      METHODS   \n",
              "18720            8      RESULTS   \n",
              "12635            7      RESULTS   \n",
              "18188            2      RESULTS   \n",
              "8640             7      METHODS   \n",
              "2794             8      METHODS   \n",
              "26280            7      RESULTS   \n",
              "23858            2    OBJECTIVE   \n",
              "29320            5      RESULTS   \n",
              "20426            0    OBJECTIVE   \n",
              "2387             3      RESULTS   \n",
              "7281             5      RESULTS   \n",
              "16879            6      RESULTS   \n",
              "6027             4      RESULTS   \n",
              "16347            0   BACKGROUND   \n",
              "22312            7      METHODS   \n",
              "4910             8      METHODS   \n",
              "20040           11  CONCLUSIONS   \n",
              "12158            9      METHODS   \n",
              "22567            3   BACKGROUND   \n",
              "4419            10      METHODS   \n",
              "29006            4      RESULTS   \n",
              "12458            3      RESULTS   \n",
              "26600            3    OBJECTIVE   \n",
              "12164            2   BACKGROUND   \n",
              "23019            3   BACKGROUND   \n",
              "12269            4      RESULTS   \n",
              "13693            8      METHODS   \n",
              "25528            7      METHODS   \n",
              "27814            3   BACKGROUND   \n",
              "3665             9  CONCLUSIONS   \n",
              "19222            6      METHODS   \n",
              "10137            4      RESULTS   \n",
              "\n",
              "                                                    text  total_lines  \\\n",
              "8545                                  pretest-posttest .           11   \n",
              "20427  the national institute of neurological disorde...           18   \n",
              "22736  the national institute of oncology , budapest ...           20   \n",
              "13874  symptom outcomes will be assessed and estimate...            6   \n",
              "29692  repeated measures analysis of variance ( anova...            6   \n",
              "29294  baseline measures included sociodemographics ,...           13   \n",
              "3573   a cluster randomised trial was implemented wit...           16   \n",
              "16780  we will comply with the consort guidelines and...           19   \n",
              "1827                       nct@ ( clinicaltrials.gov ) .           18   \n",
              "4391   -lsb- netherlands trial register ( http://www....           15   \n",
              "19223  of the @ dogs receiving placebo , @ ( @ % ) vo...           10   \n",
              "16580  second , we collected patient-reported outcome...           27   \n",
              "25104  multiple validated questionnaires were adminis...           15   \n",
              "18191  se game clinicians were e-mailed @ question ev...           17   \n",
              "3574   the intervention was delivered to children ran...           16   \n",
              "2388   the primary endpoint is the cumulative three-y...           13   \n",
              "17777  the effects of sex and ethnicity were also inv...           18   \n",
              "13598  -@ % vs. fish : -@ % vs. fish + s : -@ % ; p <...            9   \n",
              "18720                       non-diffuse-trickling '' ) .           15   \n",
              "12635  patients will be evaluated at @ , @ and @ mont...           11   \n",
              "18188  a @-arm randomized trial was conducted over @ ...           17   \n",
              "8640   both drugs were well tolerated and no severe s...            9   \n",
              "2794   forty-seven percent had cervical injuries , @ ...           17   \n",
              "26280  treatment efficacy was analyzed by using a t t...           14   \n",
              "23858  secondary endpoints were changes of pain frequ...           11   \n",
              "29320  the patients were divided into @ groups : @ un...           13   \n",
              "20426  there are no treatments available to slow or p...           18   \n",
              "2387   a combination prevention package including hom...           13   \n",
              "7281                the primary outcome is weight loss .            7   \n",
              "16879  safety evaluations included : adverse events ,...           13   \n",
              "6027   patients were randomized in a bayesian respons...           15   \n",
              "16347  to evaluate the effects of the lactic acid bac...           12   \n",
              "22312  of the total @ patients , @ will be in ihome a...           11   \n",
              "4910                    response rates were @ % to @ % .           15   \n",
              "20040                                       chictr.org .           12   \n",
              "12158  in the saffron group , there was no decline in...           12   \n",
              "22567  the safety and tolerability of baicalein were ...           21   \n",
              "4419   of those , @ students completed the baseline a...           13   \n",
              "29006  intervention group patients received an assess...           14   \n",
              "12458  home monitoring patients were assessed remotel...           13   \n",
              "26600  the primary outcome measure of the study was t...           11   \n",
              "12164  present study evaluates netprotect in a phase ...           16   \n",
              "23019  the intervention was implemented in a cluster ...           13   \n",
              "12269  patients received oral se tablets ( @ mcg ) or...           10   \n",
              "13693               sixty patients completed the study .           13   \n",
              "25528  no serious safety problems related to basilixi...           10   \n",
              "27814  secondary outcomes are patient-rated cosmesis ...           10   \n",
              "3665   there were no significant differences between ...           10   \n",
              "19222  results-of the @ dogs receiving maropitant , n...           10   \n",
              "10137  this two-group online individually randomised ...           14   \n",
              "\n",
              "       prediction  pred_prob  correct  \n",
              "8545   BACKGROUND   0.968702    False  \n",
              "20427  BACKGROUND   0.940597    False  \n",
              "22736     METHODS   0.932120    False  \n",
              "13874     METHODS   0.931481    False  \n",
              "29692     METHODS   0.925512    False  \n",
              "29294     METHODS   0.922389    False  \n",
              "3573      METHODS   0.917821    False  \n",
              "16780  BACKGROUND   0.916624    False  \n",
              "1827   BACKGROUND   0.913371    False  \n",
              "4391   BACKGROUND   0.911984    False  \n",
              "19223     RESULTS   0.911903    False  \n",
              "16580     METHODS   0.910616    False  \n",
              "25104     METHODS   0.906138    False  \n",
              "18191     METHODS   0.904697    False  \n",
              "3574      METHODS   0.902139    False  \n",
              "2388      METHODS   0.901450    False  \n",
              "17777     METHODS   0.901306    False  \n",
              "13598     RESULTS   0.900600    False  \n",
              "18720  BACKGROUND   0.899176    False  \n",
              "12635     METHODS   0.898165    False  \n",
              "18188     METHODS   0.898000    False  \n",
              "8640      RESULTS   0.897582    False  \n",
              "2794      RESULTS   0.896367    False  \n",
              "26280     METHODS   0.895225    False  \n",
              "23858     METHODS   0.895020    False  \n",
              "29320     METHODS   0.893160    False  \n",
              "20426  BACKGROUND   0.892277    False  \n",
              "2387      METHODS   0.892096    False  \n",
              "7281      METHODS   0.891913    False  \n",
              "16879     METHODS   0.890172    False  \n",
              "6027      METHODS   0.889852    False  \n",
              "16347   OBJECTIVE   0.888396    False  \n",
              "22312     RESULTS   0.888110    False  \n",
              "4910      RESULTS   0.887512    False  \n",
              "20040  BACKGROUND   0.886337    False  \n",
              "12158     RESULTS   0.886250    False  \n",
              "22567     METHODS   0.885855    False  \n",
              "4419      RESULTS   0.885613    False  \n",
              "29006     METHODS   0.885445    False  \n",
              "12458     METHODS   0.885044    False  \n",
              "26600     METHODS   0.884163    False  \n",
              "12164     METHODS   0.882731    False  \n",
              "23019     METHODS   0.882713    False  \n",
              "12269     METHODS   0.882559    False  \n",
              "13693     RESULTS   0.882399    False  \n",
              "25528     RESULTS   0.881716    False  \n",
              "27814     METHODS   0.881220    False  \n",
              "3665      RESULTS   0.879987    False  \n",
              "19222     RESULTS   0.879477    False  \n",
              "10137     METHODS   0.879157    False  "
            ],
            "text/html": [
              "\n",
              "  <div id=\"df-0ee163cd-83df-4e75-a762-a2a1c9aa1c80\">\n",
              "    <div class=\"colab-df-container\">\n",
              "      <div>\n",
              "<style scoped>\n",
              "    .dataframe tbody tr th:only-of-type {\n",
              "        vertical-align: middle;\n",
              "    }\n",
              "\n",
              "    .dataframe tbody tr th {\n",
              "        vertical-align: top;\n",
              "    }\n",
              "\n",
              "    .dataframe thead th {\n",
              "        text-align: right;\n",
              "    }\n",
              "</style>\n",
              "<table border=\"1\" class=\"dataframe\">\n",
              "  <thead>\n",
              "    <tr style=\"text-align: right;\">\n",
              "      <th></th>\n",
              "      <th>line_number</th>\n",
              "      <th>target</th>\n",
              "      <th>text</th>\n",
              "      <th>total_lines</th>\n",
              "      <th>prediction</th>\n",
              "      <th>pred_prob</th>\n",
              "      <th>correct</th>\n",
              "    </tr>\n",
              "  </thead>\n",
              "  <tbody>\n",
              "    <tr>\n",
              "      <th>8545</th>\n",
              "      <td>1</td>\n",
              "      <td>METHODS</td>\n",
              "      <td>pretest-posttest .</td>\n",
              "      <td>11</td>\n",
              "      <td>BACKGROUND</td>\n",
              "      <td>0.968702</td>\n",
              "      <td>False</td>\n",
              "    </tr>\n",
              "    <tr>\n",
              "      <th>20427</th>\n",
              "      <td>1</td>\n",
              "      <td>OBJECTIVE</td>\n",
              "      <td>the national institute of neurological disorde...</td>\n",
              "      <td>18</td>\n",
              "      <td>BACKGROUND</td>\n",
              "      <td>0.940597</td>\n",
              "      <td>False</td>\n",
              "    </tr>\n",
              "    <tr>\n",
              "      <th>22736</th>\n",
              "      <td>4</td>\n",
              "      <td>OBJECTIVE</td>\n",
              "      <td>the national institute of oncology , budapest ...</td>\n",
              "      <td>20</td>\n",
              "      <td>METHODS</td>\n",
              "      <td>0.932120</td>\n",
              "      <td>False</td>\n",
              "    </tr>\n",
              "    <tr>\n",
              "      <th>13874</th>\n",
              "      <td>4</td>\n",
              "      <td>CONCLUSIONS</td>\n",
              "      <td>symptom outcomes will be assessed and estimate...</td>\n",
              "      <td>6</td>\n",
              "      <td>METHODS</td>\n",
              "      <td>0.931481</td>\n",
              "      <td>False</td>\n",
              "    </tr>\n",
              "    <tr>\n",
              "      <th>29692</th>\n",
              "      <td>3</td>\n",
              "      <td>RESULTS</td>\n",
              "      <td>repeated measures analysis of variance ( anova...</td>\n",
              "      <td>6</td>\n",
              "      <td>METHODS</td>\n",
              "      <td>0.925512</td>\n",
              "      <td>False</td>\n",
              "    </tr>\n",
              "    <tr>\n",
              "      <th>29294</th>\n",
              "      <td>4</td>\n",
              "      <td>RESULTS</td>\n",
              "      <td>baseline measures included sociodemographics ,...</td>\n",
              "      <td>13</td>\n",
              "      <td>METHODS</td>\n",
              "      <td>0.922389</td>\n",
              "      <td>False</td>\n",
              "    </tr>\n",
              "    <tr>\n",
              "      <th>3573</th>\n",
              "      <td>3</td>\n",
              "      <td>RESULTS</td>\n",
              "      <td>a cluster randomised trial was implemented wit...</td>\n",
              "      <td>16</td>\n",
              "      <td>METHODS</td>\n",
              "      <td>0.917821</td>\n",
              "      <td>False</td>\n",
              "    </tr>\n",
              "    <tr>\n",
              "      <th>16780</th>\n",
              "      <td>16</td>\n",
              "      <td>METHODS</td>\n",
              "      <td>we will comply with the consort guidelines and...</td>\n",
              "      <td>19</td>\n",
              "      <td>BACKGROUND</td>\n",
              "      <td>0.916624</td>\n",
              "      <td>False</td>\n",
              "    </tr>\n",
              "    <tr>\n",
              "      <th>1827</th>\n",
              "      <td>18</td>\n",
              "      <td>CONCLUSIONS</td>\n",
              "      <td>nct@ ( clinicaltrials.gov ) .</td>\n",
              "      <td>18</td>\n",
              "      <td>BACKGROUND</td>\n",
              "      <td>0.913371</td>\n",
              "      <td>False</td>\n",
              "    </tr>\n",
              "    <tr>\n",
              "      <th>4391</th>\n",
              "      <td>15</td>\n",
              "      <td>CONCLUSIONS</td>\n",
              "      <td>-lsb- netherlands trial register ( http://www....</td>\n",
              "      <td>15</td>\n",
              "      <td>BACKGROUND</td>\n",
              "      <td>0.911984</td>\n",
              "      <td>False</td>\n",
              "    </tr>\n",
              "    <tr>\n",
              "      <th>19223</th>\n",
              "      <td>7</td>\n",
              "      <td>METHODS</td>\n",
              "      <td>of the @ dogs receiving placebo , @ ( @ % ) vo...</td>\n",
              "      <td>10</td>\n",
              "      <td>RESULTS</td>\n",
              "      <td>0.911903</td>\n",
              "      <td>False</td>\n",
              "    </tr>\n",
              "    <tr>\n",
              "      <th>16580</th>\n",
              "      <td>4</td>\n",
              "      <td>OBJECTIVE</td>\n",
              "      <td>second , we collected patient-reported outcome...</td>\n",
              "      <td>27</td>\n",
              "      <td>METHODS</td>\n",
              "      <td>0.910616</td>\n",
              "      <td>False</td>\n",
              "    </tr>\n",
              "    <tr>\n",
              "      <th>25104</th>\n",
              "      <td>4</td>\n",
              "      <td>RESULTS</td>\n",
              "      <td>multiple validated questionnaires were adminis...</td>\n",
              "      <td>15</td>\n",
              "      <td>METHODS</td>\n",
              "      <td>0.906138</td>\n",
              "      <td>False</td>\n",
              "    </tr>\n",
              "    <tr>\n",
              "      <th>18191</th>\n",
              "      <td>5</td>\n",
              "      <td>RESULTS</td>\n",
              "      <td>se game clinicians were e-mailed @ question ev...</td>\n",
              "      <td>17</td>\n",
              "      <td>METHODS</td>\n",
              "      <td>0.904697</td>\n",
              "      <td>False</td>\n",
              "    </tr>\n",
              "    <tr>\n",
              "      <th>3574</th>\n",
              "      <td>4</td>\n",
              "      <td>RESULTS</td>\n",
              "      <td>the intervention was delivered to children ran...</td>\n",
              "      <td>16</td>\n",
              "      <td>METHODS</td>\n",
              "      <td>0.902139</td>\n",
              "      <td>False</td>\n",
              "    </tr>\n",
              "    <tr>\n",
              "      <th>2388</th>\n",
              "      <td>4</td>\n",
              "      <td>RESULTS</td>\n",
              "      <td>the primary endpoint is the cumulative three-y...</td>\n",
              "      <td>13</td>\n",
              "      <td>METHODS</td>\n",
              "      <td>0.901450</td>\n",
              "      <td>False</td>\n",
              "    </tr>\n",
              "    <tr>\n",
              "      <th>17777</th>\n",
              "      <td>3</td>\n",
              "      <td>BACKGROUND</td>\n",
              "      <td>the effects of sex and ethnicity were also inv...</td>\n",
              "      <td>18</td>\n",
              "      <td>METHODS</td>\n",
              "      <td>0.901306</td>\n",
              "      <td>False</td>\n",
              "    </tr>\n",
              "    <tr>\n",
              "      <th>13598</th>\n",
              "      <td>6</td>\n",
              "      <td>METHODS</td>\n",
              "      <td>-@ % vs. fish : -@ % vs. fish + s : -@ % ; p &lt;...</td>\n",
              "      <td>9</td>\n",
              "      <td>RESULTS</td>\n",
              "      <td>0.900600</td>\n",
              "      <td>False</td>\n",
              "    </tr>\n",
              "    <tr>\n",
              "      <th>18720</th>\n",
              "      <td>8</td>\n",
              "      <td>RESULTS</td>\n",
              "      <td>non-diffuse-trickling '' ) .</td>\n",
              "      <td>15</td>\n",
              "      <td>BACKGROUND</td>\n",
              "      <td>0.899176</td>\n",
              "      <td>False</td>\n",
              "    </tr>\n",
              "    <tr>\n",
              "      <th>12635</th>\n",
              "      <td>7</td>\n",
              "      <td>RESULTS</td>\n",
              "      <td>patients will be evaluated at @ , @ and @ mont...</td>\n",
              "      <td>11</td>\n",
              "      <td>METHODS</td>\n",
              "      <td>0.898165</td>\n",
              "      <td>False</td>\n",
              "    </tr>\n",
              "    <tr>\n",
              "      <th>18188</th>\n",
              "      <td>2</td>\n",
              "      <td>RESULTS</td>\n",
              "      <td>a @-arm randomized trial was conducted over @ ...</td>\n",
              "      <td>17</td>\n",
              "      <td>METHODS</td>\n",
              "      <td>0.898000</td>\n",
              "      <td>False</td>\n",
              "    </tr>\n",
              "    <tr>\n",
              "      <th>8640</th>\n",
              "      <td>7</td>\n",
              "      <td>METHODS</td>\n",
              "      <td>both drugs were well tolerated and no severe s...</td>\n",
              "      <td>9</td>\n",
              "      <td>RESULTS</td>\n",
              "      <td>0.897582</td>\n",
              "      <td>False</td>\n",
              "    </tr>\n",
              "    <tr>\n",
              "      <th>2794</th>\n",
              "      <td>8</td>\n",
              "      <td>METHODS</td>\n",
              "      <td>forty-seven percent had cervical injuries , @ ...</td>\n",
              "      <td>17</td>\n",
              "      <td>RESULTS</td>\n",
              "      <td>0.896367</td>\n",
              "      <td>False</td>\n",
              "    </tr>\n",
              "    <tr>\n",
              "      <th>26280</th>\n",
              "      <td>7</td>\n",
              "      <td>RESULTS</td>\n",
              "      <td>treatment efficacy was analyzed by using a t t...</td>\n",
              "      <td>14</td>\n",
              "      <td>METHODS</td>\n",
              "      <td>0.895225</td>\n",
              "      <td>False</td>\n",
              "    </tr>\n",
              "    <tr>\n",
              "      <th>23858</th>\n",
              "      <td>2</td>\n",
              "      <td>OBJECTIVE</td>\n",
              "      <td>secondary endpoints were changes of pain frequ...</td>\n",
              "      <td>11</td>\n",
              "      <td>METHODS</td>\n",
              "      <td>0.895020</td>\n",
              "      <td>False</td>\n",
              "    </tr>\n",
              "    <tr>\n",
              "      <th>29320</th>\n",
              "      <td>5</td>\n",
              "      <td>RESULTS</td>\n",
              "      <td>the patients were divided into @ groups : @ un...</td>\n",
              "      <td>13</td>\n",
              "      <td>METHODS</td>\n",
              "      <td>0.893160</td>\n",
              "      <td>False</td>\n",
              "    </tr>\n",
              "    <tr>\n",
              "      <th>20426</th>\n",
              "      <td>0</td>\n",
              "      <td>OBJECTIVE</td>\n",
              "      <td>there are no treatments available to slow or p...</td>\n",
              "      <td>18</td>\n",
              "      <td>BACKGROUND</td>\n",
              "      <td>0.892277</td>\n",
              "      <td>False</td>\n",
              "    </tr>\n",
              "    <tr>\n",
              "      <th>2387</th>\n",
              "      <td>3</td>\n",
              "      <td>RESULTS</td>\n",
              "      <td>a combination prevention package including hom...</td>\n",
              "      <td>13</td>\n",
              "      <td>METHODS</td>\n",
              "      <td>0.892096</td>\n",
              "      <td>False</td>\n",
              "    </tr>\n",
              "    <tr>\n",
              "      <th>7281</th>\n",
              "      <td>5</td>\n",
              "      <td>RESULTS</td>\n",
              "      <td>the primary outcome is weight loss .</td>\n",
              "      <td>7</td>\n",
              "      <td>METHODS</td>\n",
              "      <td>0.891913</td>\n",
              "      <td>False</td>\n",
              "    </tr>\n",
              "    <tr>\n",
              "      <th>16879</th>\n",
              "      <td>6</td>\n",
              "      <td>RESULTS</td>\n",
              "      <td>safety evaluations included : adverse events ,...</td>\n",
              "      <td>13</td>\n",
              "      <td>METHODS</td>\n",
              "      <td>0.890172</td>\n",
              "      <td>False</td>\n",
              "    </tr>\n",
              "    <tr>\n",
              "      <th>6027</th>\n",
              "      <td>4</td>\n",
              "      <td>RESULTS</td>\n",
              "      <td>patients were randomized in a bayesian respons...</td>\n",
              "      <td>15</td>\n",
              "      <td>METHODS</td>\n",
              "      <td>0.889852</td>\n",
              "      <td>False</td>\n",
              "    </tr>\n",
              "    <tr>\n",
              "      <th>16347</th>\n",
              "      <td>0</td>\n",
              "      <td>BACKGROUND</td>\n",
              "      <td>to evaluate the effects of the lactic acid bac...</td>\n",
              "      <td>12</td>\n",
              "      <td>OBJECTIVE</td>\n",
              "      <td>0.888396</td>\n",
              "      <td>False</td>\n",
              "    </tr>\n",
              "    <tr>\n",
              "      <th>22312</th>\n",
              "      <td>7</td>\n",
              "      <td>METHODS</td>\n",
              "      <td>of the total @ patients , @ will be in ihome a...</td>\n",
              "      <td>11</td>\n",
              "      <td>RESULTS</td>\n",
              "      <td>0.888110</td>\n",
              "      <td>False</td>\n",
              "    </tr>\n",
              "    <tr>\n",
              "      <th>4910</th>\n",
              "      <td>8</td>\n",
              "      <td>METHODS</td>\n",
              "      <td>response rates were @ % to @ % .</td>\n",
              "      <td>15</td>\n",
              "      <td>RESULTS</td>\n",
              "      <td>0.887512</td>\n",
              "      <td>False</td>\n",
              "    </tr>\n",
              "    <tr>\n",
              "      <th>20040</th>\n",
              "      <td>11</td>\n",
              "      <td>CONCLUSIONS</td>\n",
              "      <td>chictr.org .</td>\n",
              "      <td>12</td>\n",
              "      <td>BACKGROUND</td>\n",
              "      <td>0.886337</td>\n",
              "      <td>False</td>\n",
              "    </tr>\n",
              "    <tr>\n",
              "      <th>12158</th>\n",
              "      <td>9</td>\n",
              "      <td>METHODS</td>\n",
              "      <td>in the saffron group , there was no decline in...</td>\n",
              "      <td>12</td>\n",
              "      <td>RESULTS</td>\n",
              "      <td>0.886250</td>\n",
              "      <td>False</td>\n",
              "    </tr>\n",
              "    <tr>\n",
              "      <th>22567</th>\n",
              "      <td>3</td>\n",
              "      <td>BACKGROUND</td>\n",
              "      <td>the safety and tolerability of baicalein were ...</td>\n",
              "      <td>21</td>\n",
              "      <td>METHODS</td>\n",
              "      <td>0.885855</td>\n",
              "      <td>False</td>\n",
              "    </tr>\n",
              "    <tr>\n",
              "      <th>4419</th>\n",
              "      <td>10</td>\n",
              "      <td>METHODS</td>\n",
              "      <td>of those , @ students completed the baseline a...</td>\n",
              "      <td>13</td>\n",
              "      <td>RESULTS</td>\n",
              "      <td>0.885613</td>\n",
              "      <td>False</td>\n",
              "    </tr>\n",
              "    <tr>\n",
              "      <th>29006</th>\n",
              "      <td>4</td>\n",
              "      <td>RESULTS</td>\n",
              "      <td>intervention group patients received an assess...</td>\n",
              "      <td>14</td>\n",
              "      <td>METHODS</td>\n",
              "      <td>0.885445</td>\n",
              "      <td>False</td>\n",
              "    </tr>\n",
              "    <tr>\n",
              "      <th>12458</th>\n",
              "      <td>3</td>\n",
              "      <td>RESULTS</td>\n",
              "      <td>home monitoring patients were assessed remotel...</td>\n",
              "      <td>13</td>\n",
              "      <td>METHODS</td>\n",
              "      <td>0.885044</td>\n",
              "      <td>False</td>\n",
              "    </tr>\n",
              "    <tr>\n",
              "      <th>26600</th>\n",
              "      <td>3</td>\n",
              "      <td>OBJECTIVE</td>\n",
              "      <td>the primary outcome measure of the study was t...</td>\n",
              "      <td>11</td>\n",
              "      <td>METHODS</td>\n",
              "      <td>0.884163</td>\n",
              "      <td>False</td>\n",
              "    </tr>\n",
              "    <tr>\n",
              "      <th>12164</th>\n",
              "      <td>2</td>\n",
              "      <td>BACKGROUND</td>\n",
              "      <td>present study evaluates netprotect in a phase ...</td>\n",
              "      <td>16</td>\n",
              "      <td>METHODS</td>\n",
              "      <td>0.882731</td>\n",
              "      <td>False</td>\n",
              "    </tr>\n",
              "    <tr>\n",
              "      <th>23019</th>\n",
              "      <td>3</td>\n",
              "      <td>BACKGROUND</td>\n",
              "      <td>the intervention was implemented in a cluster ...</td>\n",
              "      <td>13</td>\n",
              "      <td>METHODS</td>\n",
              "      <td>0.882713</td>\n",
              "      <td>False</td>\n",
              "    </tr>\n",
              "    <tr>\n",
              "      <th>12269</th>\n",
              "      <td>4</td>\n",
              "      <td>RESULTS</td>\n",
              "      <td>patients received oral se tablets ( @ mcg ) or...</td>\n",
              "      <td>10</td>\n",
              "      <td>METHODS</td>\n",
              "      <td>0.882559</td>\n",
              "      <td>False</td>\n",
              "    </tr>\n",
              "    <tr>\n",
              "      <th>13693</th>\n",
              "      <td>8</td>\n",
              "      <td>METHODS</td>\n",
              "      <td>sixty patients completed the study .</td>\n",
              "      <td>13</td>\n",
              "      <td>RESULTS</td>\n",
              "      <td>0.882399</td>\n",
              "      <td>False</td>\n",
              "    </tr>\n",
              "    <tr>\n",
              "      <th>25528</th>\n",
              "      <td>7</td>\n",
              "      <td>METHODS</td>\n",
              "      <td>no serious safety problems related to basilixi...</td>\n",
              "      <td>10</td>\n",
              "      <td>RESULTS</td>\n",
              "      <td>0.881716</td>\n",
              "      <td>False</td>\n",
              "    </tr>\n",
              "    <tr>\n",
              "      <th>27814</th>\n",
              "      <td>3</td>\n",
              "      <td>BACKGROUND</td>\n",
              "      <td>secondary outcomes are patient-rated cosmesis ...</td>\n",
              "      <td>10</td>\n",
              "      <td>METHODS</td>\n",
              "      <td>0.881220</td>\n",
              "      <td>False</td>\n",
              "    </tr>\n",
              "    <tr>\n",
              "      <th>3665</th>\n",
              "      <td>9</td>\n",
              "      <td>CONCLUSIONS</td>\n",
              "      <td>there were no significant differences between ...</td>\n",
              "      <td>10</td>\n",
              "      <td>RESULTS</td>\n",
              "      <td>0.879987</td>\n",
              "      <td>False</td>\n",
              "    </tr>\n",
              "    <tr>\n",
              "      <th>19222</th>\n",
              "      <td>6</td>\n",
              "      <td>METHODS</td>\n",
              "      <td>results-of the @ dogs receiving maropitant , n...</td>\n",
              "      <td>10</td>\n",
              "      <td>RESULTS</td>\n",
              "      <td>0.879477</td>\n",
              "      <td>False</td>\n",
              "    </tr>\n",
              "    <tr>\n",
              "      <th>10137</th>\n",
              "      <td>4</td>\n",
              "      <td>RESULTS</td>\n",
              "      <td>this two-group online individually randomised ...</td>\n",
              "      <td>14</td>\n",
              "      <td>METHODS</td>\n",
              "      <td>0.879157</td>\n",
              "      <td>False</td>\n",
              "    </tr>\n",
              "  </tbody>\n",
              "</table>\n",
              "</div>\n",
              "      <button class=\"colab-df-convert\" onclick=\"convertToInteractive('df-0ee163cd-83df-4e75-a762-a2a1c9aa1c80')\"\n",
              "              title=\"Convert this dataframe to an interactive table.\"\n",
              "              style=\"display:none;\">\n",
              "        \n",
              "  <svg xmlns=\"http://www.w3.org/2000/svg\" height=\"24px\"viewBox=\"0 0 24 24\"\n",
              "       width=\"24px\">\n",
              "    <path d=\"M0 0h24v24H0V0z\" fill=\"none\"/>\n",
              "    <path d=\"M18.56 5.44l.94 2.06.94-2.06 2.06-.94-2.06-.94-.94-2.06-.94 2.06-2.06.94zm-11 1L8.5 8.5l.94-2.06 2.06-.94-2.06-.94L8.5 2.5l-.94 2.06-2.06.94zm10 10l.94 2.06.94-2.06 2.06-.94-2.06-.94-.94-2.06-.94 2.06-2.06.94z\"/><path d=\"M17.41 7.96l-1.37-1.37c-.4-.4-.92-.59-1.43-.59-.52 0-1.04.2-1.43.59L10.3 9.45l-7.72 7.72c-.78.78-.78 2.05 0 2.83L4 21.41c.39.39.9.59 1.41.59.51 0 1.02-.2 1.41-.59l7.78-7.78 2.81-2.81c.8-.78.8-2.07 0-2.86zM5.41 20L4 18.59l7.72-7.72 1.47 1.35L5.41 20z\"/>\n",
              "  </svg>\n",
              "      </button>\n",
              "      \n",
              "  <style>\n",
              "    .colab-df-container {\n",
              "      display:flex;\n",
              "      flex-wrap:wrap;\n",
              "      gap: 12px;\n",
              "    }\n",
              "\n",
              "    .colab-df-convert {\n",
              "      background-color: #E8F0FE;\n",
              "      border: none;\n",
              "      border-radius: 50%;\n",
              "      cursor: pointer;\n",
              "      display: none;\n",
              "      fill: #1967D2;\n",
              "      height: 32px;\n",
              "      padding: 0 0 0 0;\n",
              "      width: 32px;\n",
              "    }\n",
              "\n",
              "    .colab-df-convert:hover {\n",
              "      background-color: #E2EBFA;\n",
              "      box-shadow: 0px 1px 2px rgba(60, 64, 67, 0.3), 0px 1px 3px 1px rgba(60, 64, 67, 0.15);\n",
              "      fill: #174EA6;\n",
              "    }\n",
              "\n",
              "    [theme=dark] .colab-df-convert {\n",
              "      background-color: #3B4455;\n",
              "      fill: #D2E3FC;\n",
              "    }\n",
              "\n",
              "    [theme=dark] .colab-df-convert:hover {\n",
              "      background-color: #434B5C;\n",
              "      box-shadow: 0px 1px 3px 1px rgba(0, 0, 0, 0.15);\n",
              "      filter: drop-shadow(0px 1px 2px rgba(0, 0, 0, 0.3));\n",
              "      fill: #FFFFFF;\n",
              "    }\n",
              "  </style>\n",
              "\n",
              "      <script>\n",
              "        const buttonEl =\n",
              "          document.querySelector('#df-0ee163cd-83df-4e75-a762-a2a1c9aa1c80 button.colab-df-convert');\n",
              "        buttonEl.style.display =\n",
              "          google.colab.kernel.accessAllowed ? 'block' : 'none';\n",
              "\n",
              "        async function convertToInteractive(key) {\n",
              "          const element = document.querySelector('#df-0ee163cd-83df-4e75-a762-a2a1c9aa1c80');\n",
              "          const dataTable =\n",
              "            await google.colab.kernel.invokeFunction('convertToInteractive',\n",
              "                                                     [key], {});\n",
              "          if (!dataTable) return;\n",
              "\n",
              "          const docLinkHtml = 'Like what you see? Visit the ' +\n",
              "            '<a target=\"_blank\" href=https://colab.research.google.com/notebooks/data_table.ipynb>data table notebook</a>'\n",
              "            + ' to learn more about interactive tables.';\n",
              "          element.innerHTML = '';\n",
              "          dataTable['output_type'] = 'display_data';\n",
              "          await google.colab.output.renderOutput(dataTable, element);\n",
              "          const docLink = document.createElement('div');\n",
              "          docLink.innerHTML = docLinkHtml;\n",
              "          element.appendChild(docLink);\n",
              "        }\n",
              "      </script>\n",
              "    </div>\n",
              "  </div>\n",
              "  "
            ]
          },
          "metadata": {},
          "execution_count": 124
        }
      ]
    },
    {
      "cell_type": "code",
      "source": [
        "# Investigate top wrong preds\n",
        "for row in top_50_wrong[0:10].itertuples(): # adjust indexes to view different samples\n",
        "  _, target, text, line_number, total_lines, prediction, pred_prob, _ = row\n",
        "  print(f\"Target: {target}, Pred: {prediction}, Prob: {pred_prob:.4f}, Line number: {line_number}, Total lines: {total_lines}\\n\")\n",
        "  print(f\"Text:\\n{text}\\n\")\n",
        "  print(\"-----\\n\")"
      ],
      "metadata": {
        "colab": {
          "base_uri": "https://localhost:8080/"
        },
        "id": "pnP8O6G_RxFZ",
        "outputId": "80918075-57f9-4928-b243-8ec779418d1d"
      },
      "execution_count": 128,
      "outputs": [
        {
          "output_type": "stream",
          "name": "stdout",
          "text": [
            "Target: 1, Pred: BACKGROUND, Prob: 0.9687, Line number: pretest-posttest ., Total lines: 11\n",
            "\n",
            "Text:\n",
            "METHODS\n",
            "\n",
            "-----\n",
            "\n",
            "Target: 1, Pred: BACKGROUND, Prob: 0.9406, Line number: the national institute of neurological disorders and stroke exploratory trials in parkinson disease program was established to promote discovery of potential therapies ., Total lines: 18\n",
            "\n",
            "Text:\n",
            "OBJECTIVE\n",
            "\n",
            "-----\n",
            "\n",
            "Target: 4, Pred: METHODS, Prob: 0.9321, Line number: the national institute of oncology , budapest conducted a single centre randomized clinical study ., Total lines: 20\n",
            "\n",
            "Text:\n",
            "OBJECTIVE\n",
            "\n",
            "-----\n",
            "\n",
            "Target: 4, Pred: METHODS, Prob: 0.9315, Line number: symptom outcomes will be assessed and estimates of cost-effectiveness made ., Total lines: 6\n",
            "\n",
            "Text:\n",
            "CONCLUSIONS\n",
            "\n",
            "-----\n",
            "\n",
            "Target: 3, Pred: METHODS, Prob: 0.9255, Line number: repeated measures analysis of variance ( anova ) tests were conducted to examine the differences across conditions and time ., Total lines: 6\n",
            "\n",
            "Text:\n",
            "RESULTS\n",
            "\n",
            "-----\n",
            "\n",
            "Target: 4, Pred: METHODS, Prob: 0.9224, Line number: baseline measures included sociodemographics , standardized anthropometrics , asthma control test ( act ) , gerd symptom assessment scale , pittsburgh sleep quality index , and berlin questionnaire for sleep apnea ., Total lines: 13\n",
            "\n",
            "Text:\n",
            "RESULTS\n",
            "\n",
            "-----\n",
            "\n",
            "Target: 3, Pred: METHODS, Prob: 0.9178, Line number: a cluster randomised trial was implemented with @,@ children in @ government primary schools on the south coast of kenya in @-@ ., Total lines: 16\n",
            "\n",
            "Text:\n",
            "RESULTS\n",
            "\n",
            "-----\n",
            "\n",
            "Target: 16, Pred: BACKGROUND, Prob: 0.9166, Line number: we will comply with the consort guidelines and will disseminate the findings at national and international conferences and in peer-reviewed journals ., Total lines: 19\n",
            "\n",
            "Text:\n",
            "METHODS\n",
            "\n",
            "-----\n",
            "\n",
            "Target: 18, Pred: BACKGROUND, Prob: 0.9134, Line number: nct@ ( clinicaltrials.gov ) ., Total lines: 18\n",
            "\n",
            "Text:\n",
            "CONCLUSIONS\n",
            "\n",
            "-----\n",
            "\n",
            "Target: 15, Pred: BACKGROUND, Prob: 0.9120, Line number: -lsb- netherlands trial register ( http://www.trialregister.nl/trialreg/index.asp ) , nr @ , date of registration @ december @ . -rsb-, Total lines: 15\n",
            "\n",
            "Text:\n",
            "CONCLUSIONS\n",
            "\n",
            "-----\n",
            "\n"
          ]
        }
      ]
    },
    {
      "cell_type": "markdown",
      "source": [
        "## Save the model"
      ],
      "metadata": {
        "id": "jgiCa3PXW92r"
      }
    },
    {
      "cell_type": "code",
      "source": [
        "# Save model in SavedModel type\n",
        "model_5.save(\"SkimLit_Project_Model\")"
      ],
      "metadata": {
        "colab": {
          "base_uri": "https://localhost:8080/"
        },
        "id": "cNx5wxZJR7zr",
        "outputId": "b6a3995c-cb69-43df-92fc-ef2728215f72"
      },
      "execution_count": 130,
      "outputs": [
        {
          "output_type": "stream",
          "name": "stderr",
          "text": [
            "WARNING:absl:Found untraced functions such as lstm_cell_4_layer_call_fn, lstm_cell_4_layer_call_and_return_conditional_losses, lstm_cell_5_layer_call_fn, lstm_cell_5_layer_call_and_return_conditional_losses while saving (showing 4 of 4). These functions will not be directly callable after loading.\n"
          ]
        }
      ]
    },
    {
      "cell_type": "code",
      "source": [
        "# Zip and Download File\n",
        "!zip -r /content/model.zip /content/SkimLit_Project_Model\n",
        "from google.colab import files\n",
        "files.download(\"/content/model.zip\")"
      ],
      "metadata": {
        "colab": {
          "base_uri": "https://localhost:8080/",
          "height": 156
        },
        "id": "cLcWSaOaUZ1p",
        "outputId": "d1576119-d214-4198-eaca-0bf9b4ae212e"
      },
      "execution_count": 133,
      "outputs": [
        {
          "output_type": "stream",
          "name": "stdout",
          "text": [
            "  adding: content/SkimLit_Project_Model/ (stored 0%)\n",
            "  adding: content/SkimLit_Project_Model/keras_metadata.pb (deflated 91%)\n",
            "  adding: content/SkimLit_Project_Model/saved_model.pb (deflated 72%)\n",
            "  adding: content/SkimLit_Project_Model/variables/ (stored 0%)\n",
            "  adding: content/SkimLit_Project_Model/variables/variables.data-00000-of-00001 (deflated 7%)\n",
            "  adding: content/SkimLit_Project_Model/variables/variables.index (deflated 77%)\n",
            "  adding: content/SkimLit_Project_Model/assets/ (stored 0%)\n"
          ]
        },
        {
          "output_type": "display_data",
          "data": {
            "text/plain": [
              "<IPython.core.display.Javascript object>"
            ],
            "application/javascript": [
              "\n",
              "    async function download(id, filename, size) {\n",
              "      if (!google.colab.kernel.accessAllowed) {\n",
              "        return;\n",
              "      }\n",
              "      const div = document.createElement('div');\n",
              "      const label = document.createElement('label');\n",
              "      label.textContent = `Downloading \"${filename}\": `;\n",
              "      div.appendChild(label);\n",
              "      const progress = document.createElement('progress');\n",
              "      progress.max = size;\n",
              "      div.appendChild(progress);\n",
              "      document.body.appendChild(div);\n",
              "\n",
              "      const buffers = [];\n",
              "      let downloaded = 0;\n",
              "\n",
              "      const channel = await google.colab.kernel.comms.open(id);\n",
              "      // Send a message to notify the kernel that we're ready.\n",
              "      channel.send({})\n",
              "\n",
              "      for await (const message of channel.messages) {\n",
              "        // Send a message to notify the kernel that we're ready.\n",
              "        channel.send({})\n",
              "        if (message.buffers) {\n",
              "          for (const buffer of message.buffers) {\n",
              "            buffers.push(buffer);\n",
              "            downloaded += buffer.byteLength;\n",
              "            progress.value = downloaded;\n",
              "          }\n",
              "        }\n",
              "      }\n",
              "      const blob = new Blob(buffers, {type: 'application/binary'});\n",
              "      const a = document.createElement('a');\n",
              "      a.href = window.URL.createObjectURL(blob);\n",
              "      a.download = filename;\n",
              "      div.appendChild(a);\n",
              "      a.click();\n",
              "      div.remove();\n",
              "    }\n",
              "  "
            ]
          },
          "metadata": {}
        },
        {
          "output_type": "display_data",
          "data": {
            "text/plain": [
              "<IPython.core.display.Javascript object>"
            ],
            "application/javascript": [
              "download(\"download_a7d15900-d535-4be5-bb67-066a21fa5d93\", \"model.zip\", 962063913)"
            ]
          },
          "metadata": {}
        }
      ]
    },
    {
      "cell_type": "markdown",
      "source": [
        "## Test the model on a real abstarct from the internet"
      ],
      "metadata": {
        "id": "gr1RfcoDVGxt"
      }
    },
    {
      "cell_type": "code",
      "source": [
        "# Read the example.txt file\n",
        "def preprocess_custom_file(filepath):\n",
        "\n",
        "  # Step one read file\n",
        "  example_abstract = get_lines(\"example.txt\")\n",
        "  example_abstract\n",
        "\n",
        "# Step two get sentences\n",
        "  example_sentences = []\n",
        "  nlp = spacy.load(\"en_core_web_sm\")\n",
        "  doc = nlp(example_abstract[0])\n",
        "  assert doc.has_annotation(\"SENT_START\")\n",
        "  for sent in doc.sents:\n",
        "      example_sentences.append(sent.text)\n",
        "\n",
        "# Step three create a dict\n",
        "  # Get total number of lines\n",
        "  total_lines_in_abstract = len(example_sentences)\n",
        "\n",
        "  # Go through each line in abstract and create a list of dictionaries containing features for each line\n",
        "  abstract_lines = []\n",
        "  for i, line in enumerate(example_sentences):\n",
        "    abstract_dict = {}\n",
        "    abstract_dict[\"text\"] = str(line)\n",
        "    abstract_dict[\"line_number\"] = i\n",
        "    abstract_dict[\"total_lines\"] = total_lines_in_abstract - 1\n",
        "    abstract_lines.append(abstract_dict)\n",
        "\n",
        "# Step four add line numbers\n",
        "  # Get all line_number values from abstract lines\n",
        "  test_abstract_line_numbers = [line[\"line_number\"] for line in abstract_lines]\n",
        "  # One-hot encode to same depth as training data, so model accepts right input shape\n",
        "  test_abstract_line_numbers_one_hot = tf.one_hot(test_abstract_line_numbers, depth=15) \n",
        "\n",
        "# Step five add total lines \n",
        "  # Get all total_lines values from abstract lines\n",
        "  test_abstract_total_lines = [line[\"total_lines\"] for line in abstract_lines]\n",
        "  # One-hot encode to same depth as training data, so model accepts right input shape\n",
        "  test_abstract_total_lines_one_hot = tf.one_hot(test_abstract_total_lines, depth=20)\n",
        "\n",
        "# Step six split into chars\n",
        "  # Split abstract lines into characters\n",
        "  abstract_chars = [split_chars(sentence) for sentence in example_sentences]\n",
        "  abstract_chars\n",
        "\n",
        "  return test_abstract_line_numbers_one_hot, test_abstract_total_lines_one_hot, example_sentences, abstract_chars"
      ],
      "metadata": {
        "id": "ad6kuy9nXuyG"
      },
      "execution_count": 156,
      "outputs": []
    },
    {
      "cell_type": "code",
      "source": [
        "# Preprocess the file\n",
        "test_abstract_line_numbers_one_hot, test_abstract_total_lines_one_hot, example_sentences, abstract_chars = preprocess_custom_file(\"example.txt\")\n",
        "example_sentences"
      ],
      "metadata": {
        "colab": {
          "base_uri": "https://localhost:8080/"
        },
        "id": "RSXD56AreGUZ",
        "outputId": "70614107-afd8-40df-cf65-e7a2a235202b"
      },
      "execution_count": 157,
      "outputs": [
        {
          "output_type": "execute_result",
          "data": {
            "text/plain": [
              "['This RCT examined the efficacy of a manualized social intervention for children with HFASDs.',\n",
              " 'Participants were randomly assigned to treatment or wait-list conditions.',\n",
              " 'Treatment included instruction and therapeutic activities targeting social skills, face-emotion recognition, interest expansion, and interpretation of non-literal language.',\n",
              " 'A response-cost program was applied to reduce problem behaviors and foster skills acquisition.',\n",
              " 'Significant treatment effects were found for five of seven primary outcome measures (parent ratings and direct child measures).',\n",
              " 'Secondary measures based on staff ratings (treatment group only) corroborated gains reported by parents.',\n",
              " 'High levels of parent, child and staff satisfaction were reported, along with high levels of treatment fidelity.',\n",
              " 'Standardized effect size estimates were primarily in the medium and large ranges and favored the treatment group.']"
            ]
          },
          "metadata": {},
          "execution_count": 157
        }
      ]
    },
    {
      "cell_type": "code",
      "source": [
        "# Make predictions\n",
        "test_abstract_pred_probs = model_5.predict(x=(test_abstract_line_numbers_one_hot,\n",
        "                                              test_abstract_total_lines_one_hot,\n",
        "                                              tf.constant(example_sentences),\n",
        "                                              tf.constant(abstract_chars)))\n",
        "test_abstract_pred_probs"
      ],
      "metadata": {
        "colab": {
          "base_uri": "https://localhost:8080/"
        },
        "id": "w0vJNCCBcF5c",
        "outputId": "d7c49c11-6837-4fdd-c008-abfc6b1af386"
      },
      "execution_count": 158,
      "outputs": [
        {
          "output_type": "stream",
          "name": "stdout",
          "text": [
            "1/1 [==============================] - 2s 2s/step\n"
          ]
        },
        {
          "output_type": "execute_result",
          "data": {
            "text/plain": [
              "array([[0.38621342, 0.08759625, 0.08937116, 0.3954708 , 0.04134828],\n",
              "       [0.07691336, 0.04108024, 0.7375583 , 0.1054544 , 0.03899375],\n",
              "       [0.06848221, 0.03913555, 0.72056234, 0.07479252, 0.09702738],\n",
              "       [0.09914888, 0.21973597, 0.5180912 , 0.07272311, 0.09030088],\n",
              "       [0.06623973, 0.10769087, 0.33342996, 0.05044871, 0.44219077],\n",
              "       [0.02505478, 0.03410701, 0.8009749 , 0.03492338, 0.10494   ],\n",
              "       [0.02247758, 0.07048672, 0.06474645, 0.02398404, 0.8183052 ],\n",
              "       [0.01184751, 0.06931778, 0.10535159, 0.02194285, 0.7915403 ]],\n",
              "      dtype=float32)"
            ]
          },
          "metadata": {},
          "execution_count": 158
        }
      ]
    },
    {
      "cell_type": "code",
      "source": [
        "# Turn prediction probabilities into prediction classes\n",
        "test_abstract_preds = tf.argmax(test_abstract_pred_probs, axis=1)\n",
        "\n",
        "# Turn prediction class integers into string class names\n",
        "test_abstract_pred_classes = [label_encoder.classes_[i] for i in test_abstract_preds]\n",
        "\n",
        "# Visualize abstract lines and predicted sequence labels\n",
        "for i, line in enumerate(example_sentences):\n",
        "  print(f\"{test_abstract_pred_classes[i]}: {line}\")"
      ],
      "metadata": {
        "colab": {
          "base_uri": "https://localhost:8080/"
        },
        "id": "DIZ8hgYTccdK",
        "outputId": "67de4219-8a99-4470-890a-bfa82834a5d8"
      },
      "execution_count": 160,
      "outputs": [
        {
          "output_type": "stream",
          "name": "stdout",
          "text": [
            "OBJECTIVE: This RCT examined the efficacy of a manualized social intervention for children with HFASDs.\n",
            "METHODS: Participants were randomly assigned to treatment or wait-list conditions.\n",
            "METHODS: Treatment included instruction and therapeutic activities targeting social skills, face-emotion recognition, interest expansion, and interpretation of non-literal language.\n",
            "METHODS: A response-cost program was applied to reduce problem behaviors and foster skills acquisition.\n",
            "RESULTS: Significant treatment effects were found for five of seven primary outcome measures (parent ratings and direct child measures).\n",
            "METHODS: Secondary measures based on staff ratings (treatment group only) corroborated gains reported by parents.\n",
            "RESULTS: High levels of parent, child and staff satisfaction were reported, along with high levels of treatment fidelity.\n",
            "RESULTS: Standardized effect size estimates were primarily in the medium and large ranges and favored the treatment group.\n"
          ]
        }
      ]
    },
    {
      "cell_type": "code",
      "source": [],
      "metadata": {
        "id": "Tf2kSOb5e0ti"
      },
      "execution_count": null,
      "outputs": []
    }
  ]
}